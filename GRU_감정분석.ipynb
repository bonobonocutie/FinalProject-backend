{
  "cells": [
    {
      "cell_type": "markdown",
      "source": [
        "* label 재분류\n",
        "* score 재분류"
      ],
      "metadata": {
        "id": "aqh8pbg3WXE3"
      }
    },
    {
      "cell_type": "code",
      "source": [
        "from google.colab import drive\n",
        "drive.mount('/content/drive')"
      ],
      "metadata": {
        "id": "fuhw-w46Nfla",
        "colab": {
          "base_uri": "https://localhost:8080/"
        },
        "outputId": "c4fbdfdd-63b9-4f67-9442-0e589c5dd923"
      },
      "execution_count": 1,
      "outputs": [
        {
          "output_type": "stream",
          "name": "stdout",
          "text": [
            "Mounted at /content/drive\n"
          ]
        }
      ]
    },
    {
      "cell_type": "markdown",
      "metadata": {
        "id": "uris6uGkw8hc"
      },
      "source": [
        "\n",
        "## 한국어 자연어 처리 konlpy와 형태소 분석기 MeCab 설치"
      ]
    },
    {
      "cell_type": "code",
      "source": [
        "!install g++ openjdk-8-jdk\n",
        "!pip3 install konlpy JPype1-py3\n",
        "!bash <(curl -s https://raw.githubusercontent.com/konlpy/konlpy/master/scripts/mecab.sh)\n",
        "\n",
        "!pip install mecab-python"
      ],
      "metadata": {
        "collapsed": true,
        "id": "mlrhDqNRSuVN"
      },
      "execution_count": null,
      "outputs": []
    },
    {
      "cell_type": "code",
      "execution_count": 3,
      "metadata": {
        "id": "cToxpmJbxkUz",
        "colab": {
          "base_uri": "https://localhost:8080/"
        },
        "outputId": "4da25908-375d-4815-a629-bf1263440430"
      },
      "outputs": [
        {
          "output_type": "stream",
          "name": "stderr",
          "text": [
            "<ipython-input-3-55b0d46d43fd>:6: MatplotlibDeprecationWarning: The seaborn styles shipped by Matplotlib are deprecated since 3.6, as they no longer correspond to the styles shipped by seaborn. However, they will remain available as 'seaborn-v0_8-<style>'. Alternatively, directly use the seaborn API instead.\n",
            "  plt.style.use('seaborn-white')\n"
          ]
        }
      ],
      "source": [
        "import re\n",
        "import urllib.request\n",
        "import numpy as np\n",
        "import pandas as pd\n",
        "import matplotlib.pyplot as plt\n",
        "plt.style.use('seaborn-white')\n",
        "\n",
        "from konlpy.tag import Mecab\n",
        "from tensorflow.keras.preprocessing.text import Tokenizer\n",
        "from tensorflow.keras.preprocessing.sequence import pad_sequences"
      ]
    },
    {
      "cell_type": "markdown",
      "metadata": {
        "id": "qd86t5nGFYqf"
      },
      "source": [
        "## 데이터 로드"
      ]
    },
    {
      "cell_type": "code",
      "source": [
        "# train_data = pd.read_csv('/content/drive/MyDrive/Documents/컴공 졸업작품/2학기/각종자료/Dataset/trainingDataset_F.csv')\n",
        "# test_data = pd.read_csv('/content/drive/MyDrive/Documents/컴공 졸업작품/2학기/각종자료/Dataset/testDataset_F.csv')\n",
        "\n",
        "train_data = pd.read_csv('/content/drive/MyDrive/trainingDataset_FProcessing.csv')\n",
        "test_data = pd.read_csv('/content/drive/MyDrive/testDataset_F.csv')\n",
        "\n",
        "train_data[:10]\n",
        "# test_data[:10]"
      ],
      "metadata": {
        "id": "ivX0FICGVvJ5",
        "colab": {
          "base_uri": "https://localhost:8080/",
          "height": 363
        },
        "outputId": "43468b3a-1f5c-4a16-caa4-09da3baf070e"
      },
      "execution_count": 4,
      "outputs": [
        {
          "output_type": "execute_result",
          "data": {
            "text/plain": [
              "  Sentiment_L Sentiment_S                                               Text\n",
              "0          기쁨        신이 난                          아내가 드디어 출산하게 되어서 정말 신이 나.\n",
              "1          불안     스트레스 받는            당뇨랑 합병증 때문에 먹어야 할 약이 열 가지가 넘어가니까 스트레스야.\n",
              "2          당황          당황            고등학교에 올라오니 중학교 때보다 수업이 갑자기 어려워져서 당황스러워.\n",
              "3          기쁨        신이 난      재취업이 돼서 받게 된 첫 월급으로 온 가족이 외식을 할 예정이야. 너무 행복해.\n",
              "4          기쁨          안도                       빚을 드디어 다 갚게 되어서 이제야 안도감이 들어.\n",
              "5          불안         취약한  이제 곧 은퇴할 시기가 되었어. 내가 먼저 은퇴를 하고 육 개월 후에 남편도 은퇴를...\n",
              "6          슬픔         우울한                      사십 대에 접어들면서 머리카락이 많이 빠져 고민이야.\n",
              "7          분노      구역질 나는                                     이제 돈이라면 지긋지긋해.\n",
              "8          분노         좌절한             친구들이 나를 괴롭혀. 부모님과 선생님께 얘기했는데도 믿어주지 않아.\n",
              "9          슬픔      눈물이 나는                                       친구 때문에 눈물 나."
            ],
            "text/html": [
              "\n",
              "  <div id=\"df-3642e0cc-2cab-4dee-aef4-998566327b7e\" class=\"colab-df-container\">\n",
              "    <div>\n",
              "<style scoped>\n",
              "    .dataframe tbody tr th:only-of-type {\n",
              "        vertical-align: middle;\n",
              "    }\n",
              "\n",
              "    .dataframe tbody tr th {\n",
              "        vertical-align: top;\n",
              "    }\n",
              "\n",
              "    .dataframe thead th {\n",
              "        text-align: right;\n",
              "    }\n",
              "</style>\n",
              "<table border=\"1\" class=\"dataframe\">\n",
              "  <thead>\n",
              "    <tr style=\"text-align: right;\">\n",
              "      <th></th>\n",
              "      <th>Sentiment_L</th>\n",
              "      <th>Sentiment_S</th>\n",
              "      <th>Text</th>\n",
              "    </tr>\n",
              "  </thead>\n",
              "  <tbody>\n",
              "    <tr>\n",
              "      <th>0</th>\n",
              "      <td>기쁨</td>\n",
              "      <td>신이 난</td>\n",
              "      <td>아내가 드디어 출산하게 되어서 정말 신이 나.</td>\n",
              "    </tr>\n",
              "    <tr>\n",
              "      <th>1</th>\n",
              "      <td>불안</td>\n",
              "      <td>스트레스 받는</td>\n",
              "      <td>당뇨랑 합병증 때문에 먹어야 할 약이 열 가지가 넘어가니까 스트레스야.</td>\n",
              "    </tr>\n",
              "    <tr>\n",
              "      <th>2</th>\n",
              "      <td>당황</td>\n",
              "      <td>당황</td>\n",
              "      <td>고등학교에 올라오니 중학교 때보다 수업이 갑자기 어려워져서 당황스러워.</td>\n",
              "    </tr>\n",
              "    <tr>\n",
              "      <th>3</th>\n",
              "      <td>기쁨</td>\n",
              "      <td>신이 난</td>\n",
              "      <td>재취업이 돼서 받게 된 첫 월급으로 온 가족이 외식을 할 예정이야. 너무 행복해.</td>\n",
              "    </tr>\n",
              "    <tr>\n",
              "      <th>4</th>\n",
              "      <td>기쁨</td>\n",
              "      <td>안도</td>\n",
              "      <td>빚을 드디어 다 갚게 되어서 이제야 안도감이 들어.</td>\n",
              "    </tr>\n",
              "    <tr>\n",
              "      <th>5</th>\n",
              "      <td>불안</td>\n",
              "      <td>취약한</td>\n",
              "      <td>이제 곧 은퇴할 시기가 되었어. 내가 먼저 은퇴를 하고 육 개월 후에 남편도 은퇴를...</td>\n",
              "    </tr>\n",
              "    <tr>\n",
              "      <th>6</th>\n",
              "      <td>슬픔</td>\n",
              "      <td>우울한</td>\n",
              "      <td>사십 대에 접어들면서 머리카락이 많이 빠져 고민이야.</td>\n",
              "    </tr>\n",
              "    <tr>\n",
              "      <th>7</th>\n",
              "      <td>분노</td>\n",
              "      <td>구역질 나는</td>\n",
              "      <td>이제 돈이라면 지긋지긋해.</td>\n",
              "    </tr>\n",
              "    <tr>\n",
              "      <th>8</th>\n",
              "      <td>분노</td>\n",
              "      <td>좌절한</td>\n",
              "      <td>친구들이 나를 괴롭혀. 부모님과 선생님께 얘기했는데도 믿어주지 않아.</td>\n",
              "    </tr>\n",
              "    <tr>\n",
              "      <th>9</th>\n",
              "      <td>슬픔</td>\n",
              "      <td>눈물이 나는</td>\n",
              "      <td>친구 때문에 눈물 나.</td>\n",
              "    </tr>\n",
              "  </tbody>\n",
              "</table>\n",
              "</div>\n",
              "    <div class=\"colab-df-buttons\">\n",
              "\n",
              "  <div class=\"colab-df-container\">\n",
              "    <button class=\"colab-df-convert\" onclick=\"convertToInteractive('df-3642e0cc-2cab-4dee-aef4-998566327b7e')\"\n",
              "            title=\"Convert this dataframe to an interactive table.\"\n",
              "            style=\"display:none;\">\n",
              "\n",
              "  <svg xmlns=\"http://www.w3.org/2000/svg\" height=\"24px\" viewBox=\"0 -960 960 960\">\n",
              "    <path d=\"M120-120v-720h720v720H120Zm60-500h600v-160H180v160Zm220 220h160v-160H400v160Zm0 220h160v-160H400v160ZM180-400h160v-160H180v160Zm440 0h160v-160H620v160ZM180-180h160v-160H180v160Zm440 0h160v-160H620v160Z\"/>\n",
              "  </svg>\n",
              "    </button>\n",
              "\n",
              "  <style>\n",
              "    .colab-df-container {\n",
              "      display:flex;\n",
              "      gap: 12px;\n",
              "    }\n",
              "\n",
              "    .colab-df-convert {\n",
              "      background-color: #E8F0FE;\n",
              "      border: none;\n",
              "      border-radius: 50%;\n",
              "      cursor: pointer;\n",
              "      display: none;\n",
              "      fill: #1967D2;\n",
              "      height: 32px;\n",
              "      padding: 0 0 0 0;\n",
              "      width: 32px;\n",
              "    }\n",
              "\n",
              "    .colab-df-convert:hover {\n",
              "      background-color: #E2EBFA;\n",
              "      box-shadow: 0px 1px 2px rgba(60, 64, 67, 0.3), 0px 1px 3px 1px rgba(60, 64, 67, 0.15);\n",
              "      fill: #174EA6;\n",
              "    }\n",
              "\n",
              "    .colab-df-buttons div {\n",
              "      margin-bottom: 4px;\n",
              "    }\n",
              "\n",
              "    [theme=dark] .colab-df-convert {\n",
              "      background-color: #3B4455;\n",
              "      fill: #D2E3FC;\n",
              "    }\n",
              "\n",
              "    [theme=dark] .colab-df-convert:hover {\n",
              "      background-color: #434B5C;\n",
              "      box-shadow: 0px 1px 3px 1px rgba(0, 0, 0, 0.15);\n",
              "      filter: drop-shadow(0px 1px 2px rgba(0, 0, 0, 0.3));\n",
              "      fill: #FFFFFF;\n",
              "    }\n",
              "  </style>\n",
              "\n",
              "    <script>\n",
              "      const buttonEl =\n",
              "        document.querySelector('#df-3642e0cc-2cab-4dee-aef4-998566327b7e button.colab-df-convert');\n",
              "      buttonEl.style.display =\n",
              "        google.colab.kernel.accessAllowed ? 'block' : 'none';\n",
              "\n",
              "      async function convertToInteractive(key) {\n",
              "        const element = document.querySelector('#df-3642e0cc-2cab-4dee-aef4-998566327b7e');\n",
              "        const dataTable =\n",
              "          await google.colab.kernel.invokeFunction('convertToInteractive',\n",
              "                                                    [key], {});\n",
              "        if (!dataTable) return;\n",
              "\n",
              "        const docLinkHtml = 'Like what you see? Visit the ' +\n",
              "          '<a target=\"_blank\" href=https://colab.research.google.com/notebooks/data_table.ipynb>data table notebook</a>'\n",
              "          + ' to learn more about interactive tables.';\n",
              "        element.innerHTML = '';\n",
              "        dataTable['output_type'] = 'display_data';\n",
              "        await google.colab.output.renderOutput(dataTable, element);\n",
              "        const docLink = document.createElement('div');\n",
              "        docLink.innerHTML = docLinkHtml;\n",
              "        element.appendChild(docLink);\n",
              "      }\n",
              "    </script>\n",
              "  </div>\n",
              "\n",
              "\n",
              "<div id=\"df-0a8cb64a-2f33-48e3-b837-38c3b996470f\">\n",
              "  <button class=\"colab-df-quickchart\" onclick=\"quickchart('df-0a8cb64a-2f33-48e3-b837-38c3b996470f')\"\n",
              "            title=\"Suggest charts\"\n",
              "            style=\"display:none;\">\n",
              "\n",
              "<svg xmlns=\"http://www.w3.org/2000/svg\" height=\"24px\"viewBox=\"0 0 24 24\"\n",
              "     width=\"24px\">\n",
              "    <g>\n",
              "        <path d=\"M19 3H5c-1.1 0-2 .9-2 2v14c0 1.1.9 2 2 2h14c1.1 0 2-.9 2-2V5c0-1.1-.9-2-2-2zM9 17H7v-7h2v7zm4 0h-2V7h2v10zm4 0h-2v-4h2v4z\"/>\n",
              "    </g>\n",
              "</svg>\n",
              "  </button>\n",
              "\n",
              "<style>\n",
              "  .colab-df-quickchart {\n",
              "      --bg-color: #E8F0FE;\n",
              "      --fill-color: #1967D2;\n",
              "      --hover-bg-color: #E2EBFA;\n",
              "      --hover-fill-color: #174EA6;\n",
              "      --disabled-fill-color: #AAA;\n",
              "      --disabled-bg-color: #DDD;\n",
              "  }\n",
              "\n",
              "  [theme=dark] .colab-df-quickchart {\n",
              "      --bg-color: #3B4455;\n",
              "      --fill-color: #D2E3FC;\n",
              "      --hover-bg-color: #434B5C;\n",
              "      --hover-fill-color: #FFFFFF;\n",
              "      --disabled-bg-color: #3B4455;\n",
              "      --disabled-fill-color: #666;\n",
              "  }\n",
              "\n",
              "  .colab-df-quickchart {\n",
              "    background-color: var(--bg-color);\n",
              "    border: none;\n",
              "    border-radius: 50%;\n",
              "    cursor: pointer;\n",
              "    display: none;\n",
              "    fill: var(--fill-color);\n",
              "    height: 32px;\n",
              "    padding: 0;\n",
              "    width: 32px;\n",
              "  }\n",
              "\n",
              "  .colab-df-quickchart:hover {\n",
              "    background-color: var(--hover-bg-color);\n",
              "    box-shadow: 0 1px 2px rgba(60, 64, 67, 0.3), 0 1px 3px 1px rgba(60, 64, 67, 0.15);\n",
              "    fill: var(--button-hover-fill-color);\n",
              "  }\n",
              "\n",
              "  .colab-df-quickchart-complete:disabled,\n",
              "  .colab-df-quickchart-complete:disabled:hover {\n",
              "    background-color: var(--disabled-bg-color);\n",
              "    fill: var(--disabled-fill-color);\n",
              "    box-shadow: none;\n",
              "  }\n",
              "\n",
              "  .colab-df-spinner {\n",
              "    border: 2px solid var(--fill-color);\n",
              "    border-color: transparent;\n",
              "    border-bottom-color: var(--fill-color);\n",
              "    animation:\n",
              "      spin 1s steps(1) infinite;\n",
              "  }\n",
              "\n",
              "  @keyframes spin {\n",
              "    0% {\n",
              "      border-color: transparent;\n",
              "      border-bottom-color: var(--fill-color);\n",
              "      border-left-color: var(--fill-color);\n",
              "    }\n",
              "    20% {\n",
              "      border-color: transparent;\n",
              "      border-left-color: var(--fill-color);\n",
              "      border-top-color: var(--fill-color);\n",
              "    }\n",
              "    30% {\n",
              "      border-color: transparent;\n",
              "      border-left-color: var(--fill-color);\n",
              "      border-top-color: var(--fill-color);\n",
              "      border-right-color: var(--fill-color);\n",
              "    }\n",
              "    40% {\n",
              "      border-color: transparent;\n",
              "      border-right-color: var(--fill-color);\n",
              "      border-top-color: var(--fill-color);\n",
              "    }\n",
              "    60% {\n",
              "      border-color: transparent;\n",
              "      border-right-color: var(--fill-color);\n",
              "    }\n",
              "    80% {\n",
              "      border-color: transparent;\n",
              "      border-right-color: var(--fill-color);\n",
              "      border-bottom-color: var(--fill-color);\n",
              "    }\n",
              "    90% {\n",
              "      border-color: transparent;\n",
              "      border-bottom-color: var(--fill-color);\n",
              "    }\n",
              "  }\n",
              "</style>\n",
              "\n",
              "  <script>\n",
              "    async function quickchart(key) {\n",
              "      const quickchartButtonEl =\n",
              "        document.querySelector('#' + key + ' button');\n",
              "      quickchartButtonEl.disabled = true;  // To prevent multiple clicks.\n",
              "      quickchartButtonEl.classList.add('colab-df-spinner');\n",
              "      try {\n",
              "        const charts = await google.colab.kernel.invokeFunction(\n",
              "            'suggestCharts', [key], {});\n",
              "      } catch (error) {\n",
              "        console.error('Error during call to suggestCharts:', error);\n",
              "      }\n",
              "      quickchartButtonEl.classList.remove('colab-df-spinner');\n",
              "      quickchartButtonEl.classList.add('colab-df-quickchart-complete');\n",
              "    }\n",
              "    (() => {\n",
              "      let quickchartButtonEl =\n",
              "        document.querySelector('#df-0a8cb64a-2f33-48e3-b837-38c3b996470f button');\n",
              "      quickchartButtonEl.style.display =\n",
              "        google.colab.kernel.accessAllowed ? 'block' : 'none';\n",
              "    })();\n",
              "  </script>\n",
              "</div>\n",
              "\n",
              "    </div>\n",
              "  </div>\n"
            ],
            "application/vnd.google.colaboratory.intrinsic+json": {
              "type": "dataframe",
              "summary": "{\n  \"name\": \"# test_data[:10]\",\n  \"rows\": 10,\n  \"fields\": [\n    {\n      \"column\": \"Sentiment_L\",\n      \"properties\": {\n        \"dtype\": \"string\",\n        \"num_unique_values\": 5,\n        \"samples\": [\n          \"\\ubd88\\uc548\",\n          \"\\ubd84\\ub178\",\n          \"\\ub2f9\\ud669\"\n        ],\n        \"semantic_type\": \"\",\n        \"description\": \"\"\n      }\n    },\n    {\n      \"column\": \"Sentiment_S\",\n      \"properties\": {\n        \"dtype\": \"string\",\n        \"num_unique_values\": 9,\n        \"samples\": [\n          \"\\uc88c\\uc808\\ud55c\",\n          \"\\uc2a4\\ud2b8\\ub808\\uc2a4 \\ubc1b\\ub294\",\n          \"\\uc6b0\\uc6b8\\ud55c\"\n        ],\n        \"semantic_type\": \"\",\n        \"description\": \"\"\n      }\n    },\n    {\n      \"column\": \"Text\",\n      \"properties\": {\n        \"dtype\": \"string\",\n        \"num_unique_values\": 10,\n        \"samples\": [\n          \"\\uce5c\\uad6c\\ub4e4\\uc774 \\ub098\\ub97c \\uad34\\ub86d\\ud600. \\ubd80\\ubaa8\\ub2d8\\uacfc \\uc120\\uc0dd\\ub2d8\\uaed8 \\uc598\\uae30\\ud588\\ub294\\ub370\\ub3c4 \\ubbff\\uc5b4\\uc8fc\\uc9c0 \\uc54a\\uc544.\",\n          \"\\ub2f9\\ub1e8\\ub791 \\ud569\\ubcd1\\uc99d \\ub54c\\ubb38\\uc5d0 \\uba39\\uc5b4\\uc57c \\ud560 \\uc57d\\uc774 \\uc5f4 \\uac00\\uc9c0\\uac00 \\ub118\\uc5b4\\uac00\\ub2c8\\uae4c \\uc2a4\\ud2b8\\ub808\\uc2a4\\uc57c.\",\n          \"\\uc774\\uc81c \\uace7 \\uc740\\ud1f4\\ud560 \\uc2dc\\uae30\\uac00 \\ub418\\uc5c8\\uc5b4. \\ub0b4\\uac00 \\uba3c\\uc800 \\uc740\\ud1f4\\ub97c \\ud558\\uace0 \\uc721 \\uac1c\\uc6d4 \\ud6c4\\uc5d0 \\ub0a8\\ud3b8\\ub3c4 \\uc740\\ud1f4\\ub97c \\ud558\\uace0. \\uadf8\\ub7ec\\uba74 \\ub458\\uc774 \\ud558\\ub8e8 \\uc885\\uc77c \\ud568\\uaed8 \\uc788\\uaca0\\ub124. \\uc0dd\\uac01\\ub9cc \\ud574\\ub3c4 \\uc228\\uc774 \\ub9c9\\ud600.\"\n        ],\n        \"semantic_type\": \"\",\n        \"description\": \"\"\n      }\n    }\n  ]\n}"
            }
          },
          "metadata": {},
          "execution_count": 4
        }
      ]
    },
    {
      "cell_type": "markdown",
      "metadata": {
        "id": "ID-guJ4aL8yi"
      },
      "source": [
        "## 중복 및 결측치 처리\n",
        "1. 원본 / 중복 데이터 개수 확인\n",
        "2. 중복 조회 및 처리\n",
        "3. 결측치 처리\n"
      ]
    },
    {
      "cell_type": "code",
      "source": [
        "train_data.count()"
      ],
      "metadata": {
        "id": "_Nul0nX9Dj6v",
        "colab": {
          "base_uri": "https://localhost:8080/",
          "height": 178
        },
        "outputId": "408cc93b-53d6-48c2-d6cb-6bb77aab3f08"
      },
      "execution_count": 5,
      "outputs": [
        {
          "output_type": "execute_result",
          "data": {
            "text/plain": [
              "Sentiment_L    40771\n",
              "Sentiment_S    40771\n",
              "Text           40771\n",
              "dtype: int64"
            ],
            "text/html": [
              "<div>\n",
              "<style scoped>\n",
              "    .dataframe tbody tr th:only-of-type {\n",
              "        vertical-align: middle;\n",
              "    }\n",
              "\n",
              "    .dataframe tbody tr th {\n",
              "        vertical-align: top;\n",
              "    }\n",
              "\n",
              "    .dataframe thead th {\n",
              "        text-align: right;\n",
              "    }\n",
              "</style>\n",
              "<table border=\"1\" class=\"dataframe\">\n",
              "  <thead>\n",
              "    <tr style=\"text-align: right;\">\n",
              "      <th></th>\n",
              "      <th>0</th>\n",
              "    </tr>\n",
              "  </thead>\n",
              "  <tbody>\n",
              "    <tr>\n",
              "      <th>Sentiment_L</th>\n",
              "      <td>40771</td>\n",
              "    </tr>\n",
              "    <tr>\n",
              "      <th>Sentiment_S</th>\n",
              "      <td>40771</td>\n",
              "    </tr>\n",
              "    <tr>\n",
              "      <th>Text</th>\n",
              "      <td>40771</td>\n",
              "    </tr>\n",
              "  </tbody>\n",
              "</table>\n",
              "</div><br><label><b>dtype:</b> int64</label>"
            ]
          },
          "metadata": {},
          "execution_count": 5
        }
      ]
    },
    {
      "cell_type": "code",
      "source": [
        "print(train_data['Sentiment_L'].nunique()) # 감정 대분류\n",
        "print(train_data['Sentiment_S'].nunique()) # 감정 소분류\n",
        "print(train_data['Text'].nunique()) # 텍스트"
      ],
      "metadata": {
        "id": "6v5rF2asGSoC",
        "colab": {
          "base_uri": "https://localhost:8080/"
        },
        "outputId": "fe1b5a75-7fe6-464f-add8-5527190b280e"
      },
      "execution_count": 6,
      "outputs": [
        {
          "output_type": "stream",
          "name": "stdout",
          "text": [
            "6\n",
            "58\n",
            "39314\n"
          ]
        }
      ]
    },
    {
      "cell_type": "code",
      "source": [
        "duplicateRow = train_data[train_data.duplicated('Text')]\n",
        "duplicateRow['Text'].sort_values()"
      ],
      "metadata": {
        "id": "N8d5RV67LLPD",
        "colab": {
          "base_uri": "https://localhost:8080/",
          "height": 458
        },
        "outputId": "b42a1b4d-5b59-4231-d192-a9cf5b153a2a"
      },
      "execution_count": 7,
      "outputs": [
        {
          "output_type": "execute_result",
          "data": {
            "text/plain": [
              "39203                        가끔 회사에서 내가 존재감이 없는 것 같아 외로웠어.\n",
              "34177          가난한 우리 집 형편에 합의금을 받고서 오히려 가해자 가족에게 고맙다고 했어.\n",
              "21760               가는 곳마다 금연구역이라 흡연자들이 담배 필 곳이 없어 스트레스받아.\n",
              "32868         가뜩이나 불면증이 있는데 위층에 사람이 이사 온 후 소음이 심해 진절머리가 나.\n",
              "40133                   가장 믿던 팀원마저 일을 해오지 않았어. 너무 배신감이 들어.\n",
              "                               ...                        \n",
              "25305                    회의 시간 때 내가 한 말실수로 분위기가 싸해져서 창피했어.\n",
              "28502    회의 시간에 나의 직급이 낮아서 그런지 의견을 무시하는 경향이 있어서 의견을 제시하...\n",
              "20227                 회의에서 아무도 내 의견을 들어주지 않아. 외톨이가 된 기분이야.\n",
              "33413                 후배들에게 밀린다는 생각을 계속하다 보니 감정이 마비된 느낌이야.\n",
              "35910                               휴일은 가족과 함께할 수 있어 참 좋아.\n",
              "Name: Text, Length: 1457, dtype: object"
            ],
            "text/html": [
              "<div>\n",
              "<style scoped>\n",
              "    .dataframe tbody tr th:only-of-type {\n",
              "        vertical-align: middle;\n",
              "    }\n",
              "\n",
              "    .dataframe tbody tr th {\n",
              "        vertical-align: top;\n",
              "    }\n",
              "\n",
              "    .dataframe thead th {\n",
              "        text-align: right;\n",
              "    }\n",
              "</style>\n",
              "<table border=\"1\" class=\"dataframe\">\n",
              "  <thead>\n",
              "    <tr style=\"text-align: right;\">\n",
              "      <th></th>\n",
              "      <th>Text</th>\n",
              "    </tr>\n",
              "  </thead>\n",
              "  <tbody>\n",
              "    <tr>\n",
              "      <th>39203</th>\n",
              "      <td>가끔 회사에서 내가 존재감이 없는 것 같아 외로웠어.</td>\n",
              "    </tr>\n",
              "    <tr>\n",
              "      <th>34177</th>\n",
              "      <td>가난한 우리 집 형편에 합의금을 받고서 오히려 가해자 가족에게 고맙다고 했어.</td>\n",
              "    </tr>\n",
              "    <tr>\n",
              "      <th>21760</th>\n",
              "      <td>가는 곳마다 금연구역이라 흡연자들이 담배 필 곳이 없어 스트레스받아.</td>\n",
              "    </tr>\n",
              "    <tr>\n",
              "      <th>32868</th>\n",
              "      <td>가뜩이나 불면증이 있는데 위층에 사람이 이사 온 후 소음이 심해 진절머리가 나.</td>\n",
              "    </tr>\n",
              "    <tr>\n",
              "      <th>40133</th>\n",
              "      <td>가장 믿던 팀원마저 일을 해오지 않았어. 너무 배신감이 들어.</td>\n",
              "    </tr>\n",
              "    <tr>\n",
              "      <th>...</th>\n",
              "      <td>...</td>\n",
              "    </tr>\n",
              "    <tr>\n",
              "      <th>25305</th>\n",
              "      <td>회의 시간 때 내가 한 말실수로 분위기가 싸해져서 창피했어.</td>\n",
              "    </tr>\n",
              "    <tr>\n",
              "      <th>28502</th>\n",
              "      <td>회의 시간에 나의 직급이 낮아서 그런지 의견을 무시하는 경향이 있어서 의견을 제시하...</td>\n",
              "    </tr>\n",
              "    <tr>\n",
              "      <th>20227</th>\n",
              "      <td>회의에서 아무도 내 의견을 들어주지 않아. 외톨이가 된 기분이야.</td>\n",
              "    </tr>\n",
              "    <tr>\n",
              "      <th>33413</th>\n",
              "      <td>후배들에게 밀린다는 생각을 계속하다 보니 감정이 마비된 느낌이야.</td>\n",
              "    </tr>\n",
              "    <tr>\n",
              "      <th>35910</th>\n",
              "      <td>휴일은 가족과 함께할 수 있어 참 좋아.</td>\n",
              "    </tr>\n",
              "  </tbody>\n",
              "</table>\n",
              "<p>1457 rows × 1 columns</p>\n",
              "</div><br><label><b>dtype:</b> object</label>"
            ]
          },
          "metadata": {},
          "execution_count": 7
        }
      ]
    },
    {
      "cell_type": "code",
      "source": [
        "train_data.drop_duplicates(subset=['Text'], inplace=True)\n",
        "train_data.count() # 중복 처리 확인"
      ],
      "metadata": {
        "id": "qqo4cRybScuZ",
        "colab": {
          "base_uri": "https://localhost:8080/",
          "height": 178
        },
        "outputId": "5d583a12-2d6b-459c-f793-5832e757951a"
      },
      "execution_count": 8,
      "outputs": [
        {
          "output_type": "execute_result",
          "data": {
            "text/plain": [
              "Sentiment_L    39314\n",
              "Sentiment_S    39314\n",
              "Text           39314\n",
              "dtype: int64"
            ],
            "text/html": [
              "<div>\n",
              "<style scoped>\n",
              "    .dataframe tbody tr th:only-of-type {\n",
              "        vertical-align: middle;\n",
              "    }\n",
              "\n",
              "    .dataframe tbody tr th {\n",
              "        vertical-align: top;\n",
              "    }\n",
              "\n",
              "    .dataframe thead th {\n",
              "        text-align: right;\n",
              "    }\n",
              "</style>\n",
              "<table border=\"1\" class=\"dataframe\">\n",
              "  <thead>\n",
              "    <tr style=\"text-align: right;\">\n",
              "      <th></th>\n",
              "      <th>0</th>\n",
              "    </tr>\n",
              "  </thead>\n",
              "  <tbody>\n",
              "    <tr>\n",
              "      <th>Sentiment_L</th>\n",
              "      <td>39314</td>\n",
              "    </tr>\n",
              "    <tr>\n",
              "      <th>Sentiment_S</th>\n",
              "      <td>39314</td>\n",
              "    </tr>\n",
              "    <tr>\n",
              "      <th>Text</th>\n",
              "      <td>39314</td>\n",
              "    </tr>\n",
              "  </tbody>\n",
              "</table>\n",
              "</div><br><label><b>dtype:</b> int64</label>"
            ]
          },
          "metadata": {},
          "execution_count": 8
        }
      ]
    },
    {
      "cell_type": "code",
      "execution_count": 9,
      "metadata": {
        "id": "My9rfGG7WN6C",
        "colab": {
          "base_uri": "https://localhost:8080/"
        },
        "outputId": "fc4b065c-658e-4857-ca02-b2da5722e93d"
      },
      "outputs": [
        {
          "output_type": "stream",
          "name": "stdout",
          "text": [
            "Sentiment_L    0\n",
            "Sentiment_S    0\n",
            "Text           0\n",
            "dtype: int64\n"
          ]
        }
      ],
      "source": [
        "print(train_data.isnull().sum())\n",
        "\n",
        "train_data = train_data.dropna(how='any')"
      ]
    },
    {
      "cell_type": "markdown",
      "metadata": {
        "id": "QgP93rVOY_ug"
      },
      "source": [
        "## 데이터 정제\n",
        "한글과 공백을 제외하고 모두 제거"
      ]
    },
    {
      "cell_type": "code",
      "execution_count": 26,
      "metadata": {
        "id": "9nz7h6JuYB3F",
        "colab": {
          "base_uri": "https://localhost:8080/",
          "height": 363
        },
        "outputId": "55e51136-8216-4c29-a84b-b681d319be2b"
      },
      "outputs": [
        {
          "output_type": "execute_result",
          "data": {
            "text/plain": [
              "  Sentiment_L Sentiment_S                                               Text  \\\n",
              "0          기쁨        신이 난                           아내가 드디어 출산하게 되어서 정말 신이 나   \n",
              "1          불안     스트레스 받는             당뇨랑 합병증 때문에 먹어야 할 약이 열 가지가 넘어가니까 스트레스야   \n",
              "2          당황          당황             고등학교에 올라오니 중학교 때보다 수업이 갑자기 어려워져서 당황스러워   \n",
              "3          기쁨        신이 난        재취업이 돼서 받게 된 첫 월급으로 온 가족이 외식을 할 예정이야 너무 행복해   \n",
              "4          기쁨          안도                        빚을 드디어 다 갚게 되어서 이제야 안도감이 들어   \n",
              "5          불안         취약한  이제 곧 은퇴할 시기가 되었어 내가 먼저 은퇴를 하고 육 개월 후에 남편도 은퇴를 ...   \n",
              "6          슬픔         우울한                       사십 대에 접어들면서 머리카락이 많이 빠져 고민이야   \n",
              "7          분노      구역질 나는                                      이제 돈이라면 지긋지긋해   \n",
              "8          분노         좌절한               친구들이 나를 괴롭혀 부모님과 선생님께 얘기했는데도 믿어주지 않아   \n",
              "9          슬픔      눈물이 나는                                        친구 때문에 눈물 나   \n",
              "\n",
              "   label  \n",
              "0    1.0  \n",
              "1    0.0  \n",
              "2    0.5  \n",
              "3    1.0  \n",
              "4    1.0  \n",
              "5    0.0  \n",
              "6    0.0  \n",
              "7    0.0  \n",
              "8    0.0  \n",
              "9    0.0  "
            ],
            "text/html": [
              "\n",
              "  <div id=\"df-755d7a3f-bcb6-4377-ba19-b52fd2af690f\" class=\"colab-df-container\">\n",
              "    <div>\n",
              "<style scoped>\n",
              "    .dataframe tbody tr th:only-of-type {\n",
              "        vertical-align: middle;\n",
              "    }\n",
              "\n",
              "    .dataframe tbody tr th {\n",
              "        vertical-align: top;\n",
              "    }\n",
              "\n",
              "    .dataframe thead th {\n",
              "        text-align: right;\n",
              "    }\n",
              "</style>\n",
              "<table border=\"1\" class=\"dataframe\">\n",
              "  <thead>\n",
              "    <tr style=\"text-align: right;\">\n",
              "      <th></th>\n",
              "      <th>Sentiment_L</th>\n",
              "      <th>Sentiment_S</th>\n",
              "      <th>Text</th>\n",
              "      <th>label</th>\n",
              "    </tr>\n",
              "  </thead>\n",
              "  <tbody>\n",
              "    <tr>\n",
              "      <th>0</th>\n",
              "      <td>기쁨</td>\n",
              "      <td>신이 난</td>\n",
              "      <td>아내가 드디어 출산하게 되어서 정말 신이 나</td>\n",
              "      <td>1.0</td>\n",
              "    </tr>\n",
              "    <tr>\n",
              "      <th>1</th>\n",
              "      <td>불안</td>\n",
              "      <td>스트레스 받는</td>\n",
              "      <td>당뇨랑 합병증 때문에 먹어야 할 약이 열 가지가 넘어가니까 스트레스야</td>\n",
              "      <td>0.0</td>\n",
              "    </tr>\n",
              "    <tr>\n",
              "      <th>2</th>\n",
              "      <td>당황</td>\n",
              "      <td>당황</td>\n",
              "      <td>고등학교에 올라오니 중학교 때보다 수업이 갑자기 어려워져서 당황스러워</td>\n",
              "      <td>0.5</td>\n",
              "    </tr>\n",
              "    <tr>\n",
              "      <th>3</th>\n",
              "      <td>기쁨</td>\n",
              "      <td>신이 난</td>\n",
              "      <td>재취업이 돼서 받게 된 첫 월급으로 온 가족이 외식을 할 예정이야 너무 행복해</td>\n",
              "      <td>1.0</td>\n",
              "    </tr>\n",
              "    <tr>\n",
              "      <th>4</th>\n",
              "      <td>기쁨</td>\n",
              "      <td>안도</td>\n",
              "      <td>빚을 드디어 다 갚게 되어서 이제야 안도감이 들어</td>\n",
              "      <td>1.0</td>\n",
              "    </tr>\n",
              "    <tr>\n",
              "      <th>5</th>\n",
              "      <td>불안</td>\n",
              "      <td>취약한</td>\n",
              "      <td>이제 곧 은퇴할 시기가 되었어 내가 먼저 은퇴를 하고 육 개월 후에 남편도 은퇴를 ...</td>\n",
              "      <td>0.0</td>\n",
              "    </tr>\n",
              "    <tr>\n",
              "      <th>6</th>\n",
              "      <td>슬픔</td>\n",
              "      <td>우울한</td>\n",
              "      <td>사십 대에 접어들면서 머리카락이 많이 빠져 고민이야</td>\n",
              "      <td>0.0</td>\n",
              "    </tr>\n",
              "    <tr>\n",
              "      <th>7</th>\n",
              "      <td>분노</td>\n",
              "      <td>구역질 나는</td>\n",
              "      <td>이제 돈이라면 지긋지긋해</td>\n",
              "      <td>0.0</td>\n",
              "    </tr>\n",
              "    <tr>\n",
              "      <th>8</th>\n",
              "      <td>분노</td>\n",
              "      <td>좌절한</td>\n",
              "      <td>친구들이 나를 괴롭혀 부모님과 선생님께 얘기했는데도 믿어주지 않아</td>\n",
              "      <td>0.0</td>\n",
              "    </tr>\n",
              "    <tr>\n",
              "      <th>9</th>\n",
              "      <td>슬픔</td>\n",
              "      <td>눈물이 나는</td>\n",
              "      <td>친구 때문에 눈물 나</td>\n",
              "      <td>0.0</td>\n",
              "    </tr>\n",
              "  </tbody>\n",
              "</table>\n",
              "</div>\n",
              "    <div class=\"colab-df-buttons\">\n",
              "\n",
              "  <div class=\"colab-df-container\">\n",
              "    <button class=\"colab-df-convert\" onclick=\"convertToInteractive('df-755d7a3f-bcb6-4377-ba19-b52fd2af690f')\"\n",
              "            title=\"Convert this dataframe to an interactive table.\"\n",
              "            style=\"display:none;\">\n",
              "\n",
              "  <svg xmlns=\"http://www.w3.org/2000/svg\" height=\"24px\" viewBox=\"0 -960 960 960\">\n",
              "    <path d=\"M120-120v-720h720v720H120Zm60-500h600v-160H180v160Zm220 220h160v-160H400v160Zm0 220h160v-160H400v160ZM180-400h160v-160H180v160Zm440 0h160v-160H620v160ZM180-180h160v-160H180v160Zm440 0h160v-160H620v160Z\"/>\n",
              "  </svg>\n",
              "    </button>\n",
              "\n",
              "  <style>\n",
              "    .colab-df-container {\n",
              "      display:flex;\n",
              "      gap: 12px;\n",
              "    }\n",
              "\n",
              "    .colab-df-convert {\n",
              "      background-color: #E8F0FE;\n",
              "      border: none;\n",
              "      border-radius: 50%;\n",
              "      cursor: pointer;\n",
              "      display: none;\n",
              "      fill: #1967D2;\n",
              "      height: 32px;\n",
              "      padding: 0 0 0 0;\n",
              "      width: 32px;\n",
              "    }\n",
              "\n",
              "    .colab-df-convert:hover {\n",
              "      background-color: #E2EBFA;\n",
              "      box-shadow: 0px 1px 2px rgba(60, 64, 67, 0.3), 0px 1px 3px 1px rgba(60, 64, 67, 0.15);\n",
              "      fill: #174EA6;\n",
              "    }\n",
              "\n",
              "    .colab-df-buttons div {\n",
              "      margin-bottom: 4px;\n",
              "    }\n",
              "\n",
              "    [theme=dark] .colab-df-convert {\n",
              "      background-color: #3B4455;\n",
              "      fill: #D2E3FC;\n",
              "    }\n",
              "\n",
              "    [theme=dark] .colab-df-convert:hover {\n",
              "      background-color: #434B5C;\n",
              "      box-shadow: 0px 1px 3px 1px rgba(0, 0, 0, 0.15);\n",
              "      filter: drop-shadow(0px 1px 2px rgba(0, 0, 0, 0.3));\n",
              "      fill: #FFFFFF;\n",
              "    }\n",
              "  </style>\n",
              "\n",
              "    <script>\n",
              "      const buttonEl =\n",
              "        document.querySelector('#df-755d7a3f-bcb6-4377-ba19-b52fd2af690f button.colab-df-convert');\n",
              "      buttonEl.style.display =\n",
              "        google.colab.kernel.accessAllowed ? 'block' : 'none';\n",
              "\n",
              "      async function convertToInteractive(key) {\n",
              "        const element = document.querySelector('#df-755d7a3f-bcb6-4377-ba19-b52fd2af690f');\n",
              "        const dataTable =\n",
              "          await google.colab.kernel.invokeFunction('convertToInteractive',\n",
              "                                                    [key], {});\n",
              "        if (!dataTable) return;\n",
              "\n",
              "        const docLinkHtml = 'Like what you see? Visit the ' +\n",
              "          '<a target=\"_blank\" href=https://colab.research.google.com/notebooks/data_table.ipynb>data table notebook</a>'\n",
              "          + ' to learn more about interactive tables.';\n",
              "        element.innerHTML = '';\n",
              "        dataTable['output_type'] = 'display_data';\n",
              "        await google.colab.output.renderOutput(dataTable, element);\n",
              "        const docLink = document.createElement('div');\n",
              "        docLink.innerHTML = docLinkHtml;\n",
              "        element.appendChild(docLink);\n",
              "      }\n",
              "    </script>\n",
              "  </div>\n",
              "\n",
              "\n",
              "<div id=\"df-470682fc-4579-45c6-b896-8320c227d631\">\n",
              "  <button class=\"colab-df-quickchart\" onclick=\"quickchart('df-470682fc-4579-45c6-b896-8320c227d631')\"\n",
              "            title=\"Suggest charts\"\n",
              "            style=\"display:none;\">\n",
              "\n",
              "<svg xmlns=\"http://www.w3.org/2000/svg\" height=\"24px\"viewBox=\"0 0 24 24\"\n",
              "     width=\"24px\">\n",
              "    <g>\n",
              "        <path d=\"M19 3H5c-1.1 0-2 .9-2 2v14c0 1.1.9 2 2 2h14c1.1 0 2-.9 2-2V5c0-1.1-.9-2-2-2zM9 17H7v-7h2v7zm4 0h-2V7h2v10zm4 0h-2v-4h2v4z\"/>\n",
              "    </g>\n",
              "</svg>\n",
              "  </button>\n",
              "\n",
              "<style>\n",
              "  .colab-df-quickchart {\n",
              "      --bg-color: #E8F0FE;\n",
              "      --fill-color: #1967D2;\n",
              "      --hover-bg-color: #E2EBFA;\n",
              "      --hover-fill-color: #174EA6;\n",
              "      --disabled-fill-color: #AAA;\n",
              "      --disabled-bg-color: #DDD;\n",
              "  }\n",
              "\n",
              "  [theme=dark] .colab-df-quickchart {\n",
              "      --bg-color: #3B4455;\n",
              "      --fill-color: #D2E3FC;\n",
              "      --hover-bg-color: #434B5C;\n",
              "      --hover-fill-color: #FFFFFF;\n",
              "      --disabled-bg-color: #3B4455;\n",
              "      --disabled-fill-color: #666;\n",
              "  }\n",
              "\n",
              "  .colab-df-quickchart {\n",
              "    background-color: var(--bg-color);\n",
              "    border: none;\n",
              "    border-radius: 50%;\n",
              "    cursor: pointer;\n",
              "    display: none;\n",
              "    fill: var(--fill-color);\n",
              "    height: 32px;\n",
              "    padding: 0;\n",
              "    width: 32px;\n",
              "  }\n",
              "\n",
              "  .colab-df-quickchart:hover {\n",
              "    background-color: var(--hover-bg-color);\n",
              "    box-shadow: 0 1px 2px rgba(60, 64, 67, 0.3), 0 1px 3px 1px rgba(60, 64, 67, 0.15);\n",
              "    fill: var(--button-hover-fill-color);\n",
              "  }\n",
              "\n",
              "  .colab-df-quickchart-complete:disabled,\n",
              "  .colab-df-quickchart-complete:disabled:hover {\n",
              "    background-color: var(--disabled-bg-color);\n",
              "    fill: var(--disabled-fill-color);\n",
              "    box-shadow: none;\n",
              "  }\n",
              "\n",
              "  .colab-df-spinner {\n",
              "    border: 2px solid var(--fill-color);\n",
              "    border-color: transparent;\n",
              "    border-bottom-color: var(--fill-color);\n",
              "    animation:\n",
              "      spin 1s steps(1) infinite;\n",
              "  }\n",
              "\n",
              "  @keyframes spin {\n",
              "    0% {\n",
              "      border-color: transparent;\n",
              "      border-bottom-color: var(--fill-color);\n",
              "      border-left-color: var(--fill-color);\n",
              "    }\n",
              "    20% {\n",
              "      border-color: transparent;\n",
              "      border-left-color: var(--fill-color);\n",
              "      border-top-color: var(--fill-color);\n",
              "    }\n",
              "    30% {\n",
              "      border-color: transparent;\n",
              "      border-left-color: var(--fill-color);\n",
              "      border-top-color: var(--fill-color);\n",
              "      border-right-color: var(--fill-color);\n",
              "    }\n",
              "    40% {\n",
              "      border-color: transparent;\n",
              "      border-right-color: var(--fill-color);\n",
              "      border-top-color: var(--fill-color);\n",
              "    }\n",
              "    60% {\n",
              "      border-color: transparent;\n",
              "      border-right-color: var(--fill-color);\n",
              "    }\n",
              "    80% {\n",
              "      border-color: transparent;\n",
              "      border-right-color: var(--fill-color);\n",
              "      border-bottom-color: var(--fill-color);\n",
              "    }\n",
              "    90% {\n",
              "      border-color: transparent;\n",
              "      border-bottom-color: var(--fill-color);\n",
              "    }\n",
              "  }\n",
              "</style>\n",
              "\n",
              "  <script>\n",
              "    async function quickchart(key) {\n",
              "      const quickchartButtonEl =\n",
              "        document.querySelector('#' + key + ' button');\n",
              "      quickchartButtonEl.disabled = true;  // To prevent multiple clicks.\n",
              "      quickchartButtonEl.classList.add('colab-df-spinner');\n",
              "      try {\n",
              "        const charts = await google.colab.kernel.invokeFunction(\n",
              "            'suggestCharts', [key], {});\n",
              "      } catch (error) {\n",
              "        console.error('Error during call to suggestCharts:', error);\n",
              "      }\n",
              "      quickchartButtonEl.classList.remove('colab-df-spinner');\n",
              "      quickchartButtonEl.classList.add('colab-df-quickchart-complete');\n",
              "    }\n",
              "    (() => {\n",
              "      let quickchartButtonEl =\n",
              "        document.querySelector('#df-470682fc-4579-45c6-b896-8320c227d631 button');\n",
              "      quickchartButtonEl.style.display =\n",
              "        google.colab.kernel.accessAllowed ? 'block' : 'none';\n",
              "    })();\n",
              "  </script>\n",
              "</div>\n",
              "\n",
              "    </div>\n",
              "  </div>\n"
            ],
            "application/vnd.google.colaboratory.intrinsic+json": {
              "type": "dataframe",
              "summary": "{\n  \"name\": \"train_data[:10]\",\n  \"rows\": 10,\n  \"fields\": [\n    {\n      \"column\": \"Sentiment_L\",\n      \"properties\": {\n        \"dtype\": \"string\",\n        \"num_unique_values\": 5,\n        \"samples\": [\n          \"\\ubd88\\uc548\",\n          \"\\ubd84\\ub178\",\n          \"\\ub2f9\\ud669\"\n        ],\n        \"semantic_type\": \"\",\n        \"description\": \"\"\n      }\n    },\n    {\n      \"column\": \"Sentiment_S\",\n      \"properties\": {\n        \"dtype\": \"string\",\n        \"num_unique_values\": 9,\n        \"samples\": [\n          \"\\uc88c\\uc808\\ud55c\",\n          \"\\uc2a4\\ud2b8\\ub808\\uc2a4 \\ubc1b\\ub294\",\n          \"\\uc6b0\\uc6b8\\ud55c\"\n        ],\n        \"semantic_type\": \"\",\n        \"description\": \"\"\n      }\n    },\n    {\n      \"column\": \"Text\",\n      \"properties\": {\n        \"dtype\": \"string\",\n        \"num_unique_values\": 10,\n        \"samples\": [\n          \"\\uce5c\\uad6c\\ub4e4\\uc774 \\ub098\\ub97c \\uad34\\ub86d\\ud600 \\ubd80\\ubaa8\\ub2d8\\uacfc \\uc120\\uc0dd\\ub2d8\\uaed8 \\uc598\\uae30\\ud588\\ub294\\ub370\\ub3c4 \\ubbff\\uc5b4\\uc8fc\\uc9c0 \\uc54a\\uc544\",\n          \"\\ub2f9\\ub1e8\\ub791 \\ud569\\ubcd1\\uc99d \\ub54c\\ubb38\\uc5d0 \\uba39\\uc5b4\\uc57c \\ud560 \\uc57d\\uc774 \\uc5f4 \\uac00\\uc9c0\\uac00 \\ub118\\uc5b4\\uac00\\ub2c8\\uae4c \\uc2a4\\ud2b8\\ub808\\uc2a4\\uc57c\",\n          \"\\uc774\\uc81c \\uace7 \\uc740\\ud1f4\\ud560 \\uc2dc\\uae30\\uac00 \\ub418\\uc5c8\\uc5b4 \\ub0b4\\uac00 \\uba3c\\uc800 \\uc740\\ud1f4\\ub97c \\ud558\\uace0 \\uc721 \\uac1c\\uc6d4 \\ud6c4\\uc5d0 \\ub0a8\\ud3b8\\ub3c4 \\uc740\\ud1f4\\ub97c \\ud558\\uace0 \\uadf8\\ub7ec\\uba74 \\ub458\\uc774 \\ud558\\ub8e8 \\uc885\\uc77c \\ud568\\uaed8 \\uc788\\uaca0\\ub124 \\uc0dd\\uac01\\ub9cc \\ud574\\ub3c4 \\uc228\\uc774 \\ub9c9\\ud600\"\n        ],\n        \"semantic_type\": \"\",\n        \"description\": \"\"\n      }\n    },\n    {\n      \"column\": \"label\",\n      \"properties\": {\n        \"dtype\": \"number\",\n        \"std\": 0.47434164902525694,\n        \"min\": 0.0,\n        \"max\": 1.0,\n        \"num_unique_values\": 3,\n        \"samples\": [\n          1.0,\n          0.0,\n          0.5\n        ],\n        \"semantic_type\": \"\",\n        \"description\": \"\"\n      }\n    }\n  ]\n}"
            }
          },
          "metadata": {},
          "execution_count": 26
        }
      ],
      "source": [
        "train_data['Text'] = train_data['Text'].str.replace(\"[^ㄱ-ㅎㅏ-ㅣ가-힣 ]\", \"\", regex=True)\n",
        "train_data[:10]"
      ]
    },
    {
      "cell_type": "code",
      "source": [
        "train_data['label'] = np.where(train_data.Sentiment_L ==\"기쁨\", 1,\n",
        "         (np.where((train_data.Sentiment_L == \"당황\") |\n",
        "                   (train_data.Sentiment_S == \"걱정스러운\") |\n",
        "                   (train_data.Sentiment_S == \"고립된\") |\n",
        "                   (train_data.Sentiment_S == \"조심스러운\"),\n",
        "                   0.5, 0)))\n",
        "test_data['label'] = np.where(test_data.Sentiment_L ==\"기쁨\", 1,\n",
        "         (np.where((test_data.Sentiment_L == \"당황\") |\n",
        "                   (test_data.Sentiment_S == \"걱정스러운\") |\n",
        "                   (test_data.Sentiment_S == \"고립된\") |\n",
        "                   (test_data.Sentiment_S == \"조심스러운\"),\n",
        "                   0.5, 0)))\n",
        "\n",
        "train_data[:10]\n",
        "#test_data[:10]"
      ],
      "metadata": {
        "id": "W784F_hxmeix",
        "colab": {
          "base_uri": "https://localhost:8080/",
          "height": 363
        },
        "outputId": "d9060557-01d8-4acf-a13f-d7d72f5aad7a"
      },
      "execution_count": 27,
      "outputs": [
        {
          "output_type": "execute_result",
          "data": {
            "text/plain": [
              "  Sentiment_L Sentiment_S                                               Text  \\\n",
              "0          기쁨        신이 난                           아내가 드디어 출산하게 되어서 정말 신이 나   \n",
              "1          불안     스트레스 받는             당뇨랑 합병증 때문에 먹어야 할 약이 열 가지가 넘어가니까 스트레스야   \n",
              "2          당황          당황             고등학교에 올라오니 중학교 때보다 수업이 갑자기 어려워져서 당황스러워   \n",
              "3          기쁨        신이 난        재취업이 돼서 받게 된 첫 월급으로 온 가족이 외식을 할 예정이야 너무 행복해   \n",
              "4          기쁨          안도                        빚을 드디어 다 갚게 되어서 이제야 안도감이 들어   \n",
              "5          불안         취약한  이제 곧 은퇴할 시기가 되었어 내가 먼저 은퇴를 하고 육 개월 후에 남편도 은퇴를 ...   \n",
              "6          슬픔         우울한                       사십 대에 접어들면서 머리카락이 많이 빠져 고민이야   \n",
              "7          분노      구역질 나는                                      이제 돈이라면 지긋지긋해   \n",
              "8          분노         좌절한               친구들이 나를 괴롭혀 부모님과 선생님께 얘기했는데도 믿어주지 않아   \n",
              "9          슬픔      눈물이 나는                                        친구 때문에 눈물 나   \n",
              "\n",
              "   label  \n",
              "0    1.0  \n",
              "1    0.0  \n",
              "2    0.5  \n",
              "3    1.0  \n",
              "4    1.0  \n",
              "5    0.0  \n",
              "6    0.0  \n",
              "7    0.0  \n",
              "8    0.0  \n",
              "9    0.0  "
            ],
            "text/html": [
              "\n",
              "  <div id=\"df-8755efdd-0dd4-4dc9-8ca9-7c0caf98aab3\" class=\"colab-df-container\">\n",
              "    <div>\n",
              "<style scoped>\n",
              "    .dataframe tbody tr th:only-of-type {\n",
              "        vertical-align: middle;\n",
              "    }\n",
              "\n",
              "    .dataframe tbody tr th {\n",
              "        vertical-align: top;\n",
              "    }\n",
              "\n",
              "    .dataframe thead th {\n",
              "        text-align: right;\n",
              "    }\n",
              "</style>\n",
              "<table border=\"1\" class=\"dataframe\">\n",
              "  <thead>\n",
              "    <tr style=\"text-align: right;\">\n",
              "      <th></th>\n",
              "      <th>Sentiment_L</th>\n",
              "      <th>Sentiment_S</th>\n",
              "      <th>Text</th>\n",
              "      <th>label</th>\n",
              "    </tr>\n",
              "  </thead>\n",
              "  <tbody>\n",
              "    <tr>\n",
              "      <th>0</th>\n",
              "      <td>기쁨</td>\n",
              "      <td>신이 난</td>\n",
              "      <td>아내가 드디어 출산하게 되어서 정말 신이 나</td>\n",
              "      <td>1.0</td>\n",
              "    </tr>\n",
              "    <tr>\n",
              "      <th>1</th>\n",
              "      <td>불안</td>\n",
              "      <td>스트레스 받는</td>\n",
              "      <td>당뇨랑 합병증 때문에 먹어야 할 약이 열 가지가 넘어가니까 스트레스야</td>\n",
              "      <td>0.0</td>\n",
              "    </tr>\n",
              "    <tr>\n",
              "      <th>2</th>\n",
              "      <td>당황</td>\n",
              "      <td>당황</td>\n",
              "      <td>고등학교에 올라오니 중학교 때보다 수업이 갑자기 어려워져서 당황스러워</td>\n",
              "      <td>0.5</td>\n",
              "    </tr>\n",
              "    <tr>\n",
              "      <th>3</th>\n",
              "      <td>기쁨</td>\n",
              "      <td>신이 난</td>\n",
              "      <td>재취업이 돼서 받게 된 첫 월급으로 온 가족이 외식을 할 예정이야 너무 행복해</td>\n",
              "      <td>1.0</td>\n",
              "    </tr>\n",
              "    <tr>\n",
              "      <th>4</th>\n",
              "      <td>기쁨</td>\n",
              "      <td>안도</td>\n",
              "      <td>빚을 드디어 다 갚게 되어서 이제야 안도감이 들어</td>\n",
              "      <td>1.0</td>\n",
              "    </tr>\n",
              "    <tr>\n",
              "      <th>5</th>\n",
              "      <td>불안</td>\n",
              "      <td>취약한</td>\n",
              "      <td>이제 곧 은퇴할 시기가 되었어 내가 먼저 은퇴를 하고 육 개월 후에 남편도 은퇴를 ...</td>\n",
              "      <td>0.0</td>\n",
              "    </tr>\n",
              "    <tr>\n",
              "      <th>6</th>\n",
              "      <td>슬픔</td>\n",
              "      <td>우울한</td>\n",
              "      <td>사십 대에 접어들면서 머리카락이 많이 빠져 고민이야</td>\n",
              "      <td>0.0</td>\n",
              "    </tr>\n",
              "    <tr>\n",
              "      <th>7</th>\n",
              "      <td>분노</td>\n",
              "      <td>구역질 나는</td>\n",
              "      <td>이제 돈이라면 지긋지긋해</td>\n",
              "      <td>0.0</td>\n",
              "    </tr>\n",
              "    <tr>\n",
              "      <th>8</th>\n",
              "      <td>분노</td>\n",
              "      <td>좌절한</td>\n",
              "      <td>친구들이 나를 괴롭혀 부모님과 선생님께 얘기했는데도 믿어주지 않아</td>\n",
              "      <td>0.0</td>\n",
              "    </tr>\n",
              "    <tr>\n",
              "      <th>9</th>\n",
              "      <td>슬픔</td>\n",
              "      <td>눈물이 나는</td>\n",
              "      <td>친구 때문에 눈물 나</td>\n",
              "      <td>0.0</td>\n",
              "    </tr>\n",
              "  </tbody>\n",
              "</table>\n",
              "</div>\n",
              "    <div class=\"colab-df-buttons\">\n",
              "\n",
              "  <div class=\"colab-df-container\">\n",
              "    <button class=\"colab-df-convert\" onclick=\"convertToInteractive('df-8755efdd-0dd4-4dc9-8ca9-7c0caf98aab3')\"\n",
              "            title=\"Convert this dataframe to an interactive table.\"\n",
              "            style=\"display:none;\">\n",
              "\n",
              "  <svg xmlns=\"http://www.w3.org/2000/svg\" height=\"24px\" viewBox=\"0 -960 960 960\">\n",
              "    <path d=\"M120-120v-720h720v720H120Zm60-500h600v-160H180v160Zm220 220h160v-160H400v160Zm0 220h160v-160H400v160ZM180-400h160v-160H180v160Zm440 0h160v-160H620v160ZM180-180h160v-160H180v160Zm440 0h160v-160H620v160Z\"/>\n",
              "  </svg>\n",
              "    </button>\n",
              "\n",
              "  <style>\n",
              "    .colab-df-container {\n",
              "      display:flex;\n",
              "      gap: 12px;\n",
              "    }\n",
              "\n",
              "    .colab-df-convert {\n",
              "      background-color: #E8F0FE;\n",
              "      border: none;\n",
              "      border-radius: 50%;\n",
              "      cursor: pointer;\n",
              "      display: none;\n",
              "      fill: #1967D2;\n",
              "      height: 32px;\n",
              "      padding: 0 0 0 0;\n",
              "      width: 32px;\n",
              "    }\n",
              "\n",
              "    .colab-df-convert:hover {\n",
              "      background-color: #E2EBFA;\n",
              "      box-shadow: 0px 1px 2px rgba(60, 64, 67, 0.3), 0px 1px 3px 1px rgba(60, 64, 67, 0.15);\n",
              "      fill: #174EA6;\n",
              "    }\n",
              "\n",
              "    .colab-df-buttons div {\n",
              "      margin-bottom: 4px;\n",
              "    }\n",
              "\n",
              "    [theme=dark] .colab-df-convert {\n",
              "      background-color: #3B4455;\n",
              "      fill: #D2E3FC;\n",
              "    }\n",
              "\n",
              "    [theme=dark] .colab-df-convert:hover {\n",
              "      background-color: #434B5C;\n",
              "      box-shadow: 0px 1px 3px 1px rgba(0, 0, 0, 0.15);\n",
              "      filter: drop-shadow(0px 1px 2px rgba(0, 0, 0, 0.3));\n",
              "      fill: #FFFFFF;\n",
              "    }\n",
              "  </style>\n",
              "\n",
              "    <script>\n",
              "      const buttonEl =\n",
              "        document.querySelector('#df-8755efdd-0dd4-4dc9-8ca9-7c0caf98aab3 button.colab-df-convert');\n",
              "      buttonEl.style.display =\n",
              "        google.colab.kernel.accessAllowed ? 'block' : 'none';\n",
              "\n",
              "      async function convertToInteractive(key) {\n",
              "        const element = document.querySelector('#df-8755efdd-0dd4-4dc9-8ca9-7c0caf98aab3');\n",
              "        const dataTable =\n",
              "          await google.colab.kernel.invokeFunction('convertToInteractive',\n",
              "                                                    [key], {});\n",
              "        if (!dataTable) return;\n",
              "\n",
              "        const docLinkHtml = 'Like what you see? Visit the ' +\n",
              "          '<a target=\"_blank\" href=https://colab.research.google.com/notebooks/data_table.ipynb>data table notebook</a>'\n",
              "          + ' to learn more about interactive tables.';\n",
              "        element.innerHTML = '';\n",
              "        dataTable['output_type'] = 'display_data';\n",
              "        await google.colab.output.renderOutput(dataTable, element);\n",
              "        const docLink = document.createElement('div');\n",
              "        docLink.innerHTML = docLinkHtml;\n",
              "        element.appendChild(docLink);\n",
              "      }\n",
              "    </script>\n",
              "  </div>\n",
              "\n",
              "\n",
              "<div id=\"df-8e98c64a-9fc4-4b6a-ac15-445b182bff95\">\n",
              "  <button class=\"colab-df-quickchart\" onclick=\"quickchart('df-8e98c64a-9fc4-4b6a-ac15-445b182bff95')\"\n",
              "            title=\"Suggest charts\"\n",
              "            style=\"display:none;\">\n",
              "\n",
              "<svg xmlns=\"http://www.w3.org/2000/svg\" height=\"24px\"viewBox=\"0 0 24 24\"\n",
              "     width=\"24px\">\n",
              "    <g>\n",
              "        <path d=\"M19 3H5c-1.1 0-2 .9-2 2v14c0 1.1.9 2 2 2h14c1.1 0 2-.9 2-2V5c0-1.1-.9-2-2-2zM9 17H7v-7h2v7zm4 0h-2V7h2v10zm4 0h-2v-4h2v4z\"/>\n",
              "    </g>\n",
              "</svg>\n",
              "  </button>\n",
              "\n",
              "<style>\n",
              "  .colab-df-quickchart {\n",
              "      --bg-color: #E8F0FE;\n",
              "      --fill-color: #1967D2;\n",
              "      --hover-bg-color: #E2EBFA;\n",
              "      --hover-fill-color: #174EA6;\n",
              "      --disabled-fill-color: #AAA;\n",
              "      --disabled-bg-color: #DDD;\n",
              "  }\n",
              "\n",
              "  [theme=dark] .colab-df-quickchart {\n",
              "      --bg-color: #3B4455;\n",
              "      --fill-color: #D2E3FC;\n",
              "      --hover-bg-color: #434B5C;\n",
              "      --hover-fill-color: #FFFFFF;\n",
              "      --disabled-bg-color: #3B4455;\n",
              "      --disabled-fill-color: #666;\n",
              "  }\n",
              "\n",
              "  .colab-df-quickchart {\n",
              "    background-color: var(--bg-color);\n",
              "    border: none;\n",
              "    border-radius: 50%;\n",
              "    cursor: pointer;\n",
              "    display: none;\n",
              "    fill: var(--fill-color);\n",
              "    height: 32px;\n",
              "    padding: 0;\n",
              "    width: 32px;\n",
              "  }\n",
              "\n",
              "  .colab-df-quickchart:hover {\n",
              "    background-color: var(--hover-bg-color);\n",
              "    box-shadow: 0 1px 2px rgba(60, 64, 67, 0.3), 0 1px 3px 1px rgba(60, 64, 67, 0.15);\n",
              "    fill: var(--button-hover-fill-color);\n",
              "  }\n",
              "\n",
              "  .colab-df-quickchart-complete:disabled,\n",
              "  .colab-df-quickchart-complete:disabled:hover {\n",
              "    background-color: var(--disabled-bg-color);\n",
              "    fill: var(--disabled-fill-color);\n",
              "    box-shadow: none;\n",
              "  }\n",
              "\n",
              "  .colab-df-spinner {\n",
              "    border: 2px solid var(--fill-color);\n",
              "    border-color: transparent;\n",
              "    border-bottom-color: var(--fill-color);\n",
              "    animation:\n",
              "      spin 1s steps(1) infinite;\n",
              "  }\n",
              "\n",
              "  @keyframes spin {\n",
              "    0% {\n",
              "      border-color: transparent;\n",
              "      border-bottom-color: var(--fill-color);\n",
              "      border-left-color: var(--fill-color);\n",
              "    }\n",
              "    20% {\n",
              "      border-color: transparent;\n",
              "      border-left-color: var(--fill-color);\n",
              "      border-top-color: var(--fill-color);\n",
              "    }\n",
              "    30% {\n",
              "      border-color: transparent;\n",
              "      border-left-color: var(--fill-color);\n",
              "      border-top-color: var(--fill-color);\n",
              "      border-right-color: var(--fill-color);\n",
              "    }\n",
              "    40% {\n",
              "      border-color: transparent;\n",
              "      border-right-color: var(--fill-color);\n",
              "      border-top-color: var(--fill-color);\n",
              "    }\n",
              "    60% {\n",
              "      border-color: transparent;\n",
              "      border-right-color: var(--fill-color);\n",
              "    }\n",
              "    80% {\n",
              "      border-color: transparent;\n",
              "      border-right-color: var(--fill-color);\n",
              "      border-bottom-color: var(--fill-color);\n",
              "    }\n",
              "    90% {\n",
              "      border-color: transparent;\n",
              "      border-bottom-color: var(--fill-color);\n",
              "    }\n",
              "  }\n",
              "</style>\n",
              "\n",
              "  <script>\n",
              "    async function quickchart(key) {\n",
              "      const quickchartButtonEl =\n",
              "        document.querySelector('#' + key + ' button');\n",
              "      quickchartButtonEl.disabled = true;  // To prevent multiple clicks.\n",
              "      quickchartButtonEl.classList.add('colab-df-spinner');\n",
              "      try {\n",
              "        const charts = await google.colab.kernel.invokeFunction(\n",
              "            'suggestCharts', [key], {});\n",
              "      } catch (error) {\n",
              "        console.error('Error during call to suggestCharts:', error);\n",
              "      }\n",
              "      quickchartButtonEl.classList.remove('colab-df-spinner');\n",
              "      quickchartButtonEl.classList.add('colab-df-quickchart-complete');\n",
              "    }\n",
              "    (() => {\n",
              "      let quickchartButtonEl =\n",
              "        document.querySelector('#df-8e98c64a-9fc4-4b6a-ac15-445b182bff95 button');\n",
              "      quickchartButtonEl.style.display =\n",
              "        google.colab.kernel.accessAllowed ? 'block' : 'none';\n",
              "    })();\n",
              "  </script>\n",
              "</div>\n",
              "\n",
              "    </div>\n",
              "  </div>\n"
            ],
            "application/vnd.google.colaboratory.intrinsic+json": {
              "type": "dataframe",
              "summary": "{\n  \"name\": \"#test_data[:10]\",\n  \"rows\": 10,\n  \"fields\": [\n    {\n      \"column\": \"Sentiment_L\",\n      \"properties\": {\n        \"dtype\": \"string\",\n        \"num_unique_values\": 5,\n        \"samples\": [\n          \"\\ubd88\\uc548\",\n          \"\\ubd84\\ub178\",\n          \"\\ub2f9\\ud669\"\n        ],\n        \"semantic_type\": \"\",\n        \"description\": \"\"\n      }\n    },\n    {\n      \"column\": \"Sentiment_S\",\n      \"properties\": {\n        \"dtype\": \"string\",\n        \"num_unique_values\": 9,\n        \"samples\": [\n          \"\\uc88c\\uc808\\ud55c\",\n          \"\\uc2a4\\ud2b8\\ub808\\uc2a4 \\ubc1b\\ub294\",\n          \"\\uc6b0\\uc6b8\\ud55c\"\n        ],\n        \"semantic_type\": \"\",\n        \"description\": \"\"\n      }\n    },\n    {\n      \"column\": \"Text\",\n      \"properties\": {\n        \"dtype\": \"string\",\n        \"num_unique_values\": 10,\n        \"samples\": [\n          \"\\uce5c\\uad6c\\ub4e4\\uc774 \\ub098\\ub97c \\uad34\\ub86d\\ud600 \\ubd80\\ubaa8\\ub2d8\\uacfc \\uc120\\uc0dd\\ub2d8\\uaed8 \\uc598\\uae30\\ud588\\ub294\\ub370\\ub3c4 \\ubbff\\uc5b4\\uc8fc\\uc9c0 \\uc54a\\uc544\",\n          \"\\ub2f9\\ub1e8\\ub791 \\ud569\\ubcd1\\uc99d \\ub54c\\ubb38\\uc5d0 \\uba39\\uc5b4\\uc57c \\ud560 \\uc57d\\uc774 \\uc5f4 \\uac00\\uc9c0\\uac00 \\ub118\\uc5b4\\uac00\\ub2c8\\uae4c \\uc2a4\\ud2b8\\ub808\\uc2a4\\uc57c\",\n          \"\\uc774\\uc81c \\uace7 \\uc740\\ud1f4\\ud560 \\uc2dc\\uae30\\uac00 \\ub418\\uc5c8\\uc5b4 \\ub0b4\\uac00 \\uba3c\\uc800 \\uc740\\ud1f4\\ub97c \\ud558\\uace0 \\uc721 \\uac1c\\uc6d4 \\ud6c4\\uc5d0 \\ub0a8\\ud3b8\\ub3c4 \\uc740\\ud1f4\\ub97c \\ud558\\uace0 \\uadf8\\ub7ec\\uba74 \\ub458\\uc774 \\ud558\\ub8e8 \\uc885\\uc77c \\ud568\\uaed8 \\uc788\\uaca0\\ub124 \\uc0dd\\uac01\\ub9cc \\ud574\\ub3c4 \\uc228\\uc774 \\ub9c9\\ud600\"\n        ],\n        \"semantic_type\": \"\",\n        \"description\": \"\"\n      }\n    },\n    {\n      \"column\": \"label\",\n      \"properties\": {\n        \"dtype\": \"number\",\n        \"std\": 0.47434164902525694,\n        \"min\": 0.0,\n        \"max\": 1.0,\n        \"num_unique_values\": 3,\n        \"samples\": [\n          1.0,\n          0.0,\n          0.5\n        ],\n        \"semantic_type\": \"\",\n        \"description\": \"\"\n      }\n    }\n  ]\n}"
            }
          },
          "metadata": {},
          "execution_count": 27
        }
      ]
    },
    {
      "cell_type": "code",
      "execution_count": 28,
      "metadata": {
        "id": "Pq8I9Ci6XLnT",
        "colab": {
          "base_uri": "https://localhost:8080/"
        },
        "outputId": "c7155a0c-7fb5-4701-de53-5b1aaa80d524"
      },
      "outputs": [
        {
          "output_type": "stream",
          "name": "stdout",
          "text": [
            "39314\n",
            "Sentiment_L    0\n",
            "Sentiment_S    0\n",
            "Text           0\n",
            "label          0\n",
            "dtype: int64\n"
          ]
        },
        {
          "output_type": "stream",
          "name": "stderr",
          "text": [
            "<ipython-input-28-62d0b64076af>:1: FutureWarning: A value is trying to be set on a copy of a DataFrame or Series through chained assignment using an inplace method.\n",
            "The behavior will change in pandas 3.0. This inplace method will never work because the intermediate object on which we are setting values always behaves as a copy.\n",
            "\n",
            "For example, when doing 'df[col].method(value, inplace=True)', try using 'df.method({col: value}, inplace=True)' or df[col] = df[col].method(value) instead, to perform the operation inplace on the original object.\n",
            "\n",
            "\n",
            "  train_data['Text'].replace('', np.nan, inplace=True)\n"
          ]
        }
      ],
      "source": [
        "train_data['Text'].replace('', np.nan, inplace=True)\n",
        "print(len(train_data))\n",
        "print(train_data.isnull().sum())"
      ]
    },
    {
      "cell_type": "code",
      "execution_count": 29,
      "metadata": {
        "id": "RDIIbmrFaiTb",
        "colab": {
          "base_uri": "https://localhost:8080/"
        },
        "outputId": "1f414efe-f88f-406b-b92f-3ab882f4d9ba"
      },
      "outputs": [
        {
          "output_type": "stream",
          "name": "stdout",
          "text": [
            "39314\n"
          ]
        }
      ],
      "source": [
        "train_data = train_data.dropna(how=\"any\")\n",
        "print(len(train_data))"
      ]
    },
    {
      "cell_type": "markdown",
      "source": [
        "## 레이블의 분포 확인"
      ],
      "metadata": {
        "id": "d3oMd18BqpHH"
      }
    },
    {
      "cell_type": "code",
      "source": [
        "train_data['label'].value_counts().plot(kind = 'bar')"
      ],
      "metadata": {
        "id": "Iflfdmi0qrXI",
        "colab": {
          "base_uri": "https://localhost:8080/",
          "height": 468
        },
        "outputId": "022eaa2e-8b97-4743-aa71-9f6e7756d6aa"
      },
      "execution_count": 30,
      "outputs": [
        {
          "output_type": "execute_result",
          "data": {
            "text/plain": [
              "<Axes: xlabel='label'>"
            ]
          },
          "metadata": {},
          "execution_count": 30
        },
        {
          "output_type": "display_data",
          "data": {
            "text/plain": [
              "<Figure size 640x480 with 1 Axes>"
            ],
            "image/png": "[encoded data removed]"
          },
          "metadata": {}
        }
      ]
    },
    {
      "cell_type": "code",
      "source": [
        "test_data.drop_duplicates(subset=['Text'], inplace=True)\n",
        "test_data['Text'] = test_data['Text'].str.replace(\"[^ㄱ-ㅎㅏ-ㅣ가-힣 ]\", \"\")\n",
        "test_data['Text'].replace('', np.nan, inplace=True)\n",
        "test_data = test_data.dropna(how='any')\n",
        "# test_data[:10]"
      ],
      "metadata": {
        "id": "gaYRp5IODquE",
        "colab": {
          "base_uri": "https://localhost:8080/"
        },
        "outputId": "9d1a6d52-5bf5-46fa-e500-9761c4c9f07a"
      },
      "execution_count": 31,
      "outputs": [
        {
          "output_type": "stream",
          "name": "stderr",
          "text": [
            "<ipython-input-31-aaabf862d588>:3: FutureWarning: A value is trying to be set on a copy of a DataFrame or Series through chained assignment using an inplace method.\n",
            "The behavior will change in pandas 3.0. This inplace method will never work because the intermediate object on which we are setting values always behaves as a copy.\n",
            "\n",
            "For example, when doing 'df[col].method(value, inplace=True)', try using 'df.method({col: value}, inplace=True)' or df[col] = df[col].method(value) instead, to perform the operation inplace on the original object.\n",
            "\n",
            "\n",
            "  test_data['Text'].replace('', np.nan, inplace=True)\n"
          ]
        }
      ]
    },
    {
      "cell_type": "markdown",
      "metadata": {
        "id": "8RdQw7fHa6u1"
      },
      "source": [
        "## 토큰화 및 불용어 제거"
      ]
    },
    {
      "cell_type": "markdown",
      "metadata": {
        "id": "3-7CDYy9bG8-"
      },
      "source": [
        "불용어: ['의','가','이','은','들','는','좀','잘','걍','과','도','를','으로','자','에','와','한','하다','하','게','되','어서','때문','니까','어야','랑','야']"
      ]
    },
    {
      "cell_type": "code",
      "execution_count": 16,
      "metadata": {
        "id": "cVg7dl9wa-O8"
      },
      "outputs": [],
      "source": [
        "stopwords = ['의','가','이','은','들','는','좀','잘','걍','과','도','를','으로','자','에','와','한','하다','하','게','되','어서','때문','니까','어야','랑','야']"
      ]
    },
    {
      "cell_type": "code",
      "execution_count": 32,
      "metadata": {
        "id": "XQ-CV2xlbdvB",
        "collapsed": true
      },
      "outputs": [],
      "source": [
        "mecab = Mecab()\n",
        "\n",
        "X_train = []\n",
        "for sentence in train_data['Text']:\n",
        "  X_train.append([word for word in mecab.morphs(sentence) if not word in stopwords])"
      ]
    },
    {
      "cell_type": "code",
      "execution_count": 33,
      "metadata": {
        "id": "MwBg4FQubpAI",
        "colab": {
          "base_uri": "https://localhost:8080/"
        },
        "outputId": "cbed4ee8-eff4-4c4e-cd14-94b56bfa34df"
      },
      "outputs": [
        {
          "output_type": "stream",
          "name": "stdout",
          "text": [
            "[['아내', '드디어', '출산', '정말', '신', '나'], ['당뇨', '합병증', '먹', '할', '약', '열', '가지', '넘어가', '스트레스']]\n"
          ]
        }
      ],
      "source": [
        "print(X_train[:2])"
      ]
    },
    {
      "cell_type": "code",
      "execution_count": 34,
      "metadata": {
        "id": "18b57zUACtv8"
      },
      "outputs": [],
      "source": [
        "X_test = []\n",
        "for sentence in test_data['Text']:\n",
        "  X_test.append([word for word in mecab.morphs(sentence) if not word in stopwords])"
      ]
    },
    {
      "cell_type": "markdown",
      "metadata": {
        "id": "0cbCq2UoEWA5"
      },
      "source": [
        "## 빈도 수가 낮은 단어 제거\n",
        "*   빈도 수가 낮은 단어는 학습에 별로 영향을 주지 않음\n",
        "*   처리를 통해 빈도 수가 낮은 단어들은 제거"
      ]
    },
    {
      "cell_type": "code",
      "execution_count": 35,
      "metadata": {
        "id": "PE02fQW0EHWt",
        "colab": {
          "base_uri": "https://localhost:8080/"
        },
        "outputId": "6cc51d57-88e5-4014-b9c9-d1b5cd3d4d79"
      },
      "outputs": [
        {
          "output_type": "stream",
          "name": "stdout",
          "text": [
            "{'어': 1, '을': 2, '나': 3, '고': 4, '는데': 5, '내': 6, '너무': 7, '친구': 8, '아': 9, '해': 10, '있': 11, '했': 12, '지': 13, '것': 14, '같': 15, '에서': 16, '없': 17, '안': 18, '었': 19, '좋': 20, '않': 21, '해서': 22, '일': 23, '만': 24, '네': 25, '받': 26, '다': 27, '았': 28, '사람': 29, '에게': 30, '보': 31, '회사': 32, '아서': 33, '오늘': 34, '요즘': 35, '기': 36, '로': 37, '말': 38, '님': 39, '겠': 40, '던': 41, '돈': 42, '정말': 43, '할': 44, '면': 45, '다고': 46, '걱정': 47, '거': 48, '못': 49, '싶': 50, '스러워': 51, '주': 52, '아내': 53, '수': 54, '건강': 55, '한테': 56, '남편': 57, '생각': 58, '이번': 59, '우리': 60, '힘들': 61, '니': 62, '결혼': 63, '때': 64, '서': 65, '라고': 66, '많이': 67, '집': 68, '직장': 69, '기분': 70, '마음': 71, '돼': 72, '아들': 73, '학교': 74, '많': 75, '적': 76, '모르': 77, '해야': 78, '준비': 79, '봐': 80, '엄마': 81, '당황': 82, '먹': 83, '불안': 84, '남자': 85, '나이': 86, '화가': 87, '살': 88, '슬퍼': 89, '데': 90, '짜증': 91, '이제': 92, '자식': 93, '부모': 94, '자꾸': 95, '가족': 96, '취업': 97, '더': 98, '알': 99, '인데': 100, '난': 101, '아이': 102, '걸': 103, '대': 104, '날': 105, '다는': 106, '그': 107, '인': 108, '여자': 109, '딸': 110, '노후': 111, '싫': 112, '전': 113, '보다': 114, '사': 115, '혼자': 116, '지금': 117, '병원': 118, '까지': 119, '애': 120, '다른': 121, '왜': 122, '은퇴': 123, '어떻게': 124, '갑자기': 125, '공부': 126, '지만': 127, '어제': 128, '다니': 129, '면서': 130, '됐': 131, '몸': 132, '기뻐': 133, '은데': 134, '오': 135, '아직': 136, '아빠': 137, '스트레스': 138, '죽': 139, '줄': 140, '더니': 141, '상사': 142, '속상해': 143, '화': 144, '업무': 145, '달': 146, '같이': 147, '왔': 148, '연락': 149, '라': 150, '성적': 151, '아무': 152, '시험': 153, '갔': 154, '계속': 155, '다가': 156, '병': 157, '남': 158, '할지': 159, '중': 160, '려고': 161, '는지': 162, '선생': 163, '된': 164, '시간': 165, '만나': 166, '으면': 167, '직원': 168, '열심히': 169, '얼마': 170, '년': 171, '후': 172, '줬': 173, '참': 174, '부터': 175, '하나': 176, '당하': 177, '십': 178, '후회': 179, '고민': 180, '이랑': 181, '봤': 182, '큰': 183, '앞': 184, '동료': 185, '마다': 186, '자신': 187, '혼란': 188, '믿': 189, '뭐': 190, '생활': 191, '해도': 192, '이렇게': 193, '한심': 194, '항상': 195, '대학': 196, '면접': 197, '스럽': 198, '동생': 199, '검진': 200, '문제': 201, '상처': 202, '관계': 203, '없이': 204, '억울': 205, '매일': 206, '우울해': 207, '아니': 208, '따돌림': 209, '이상': 210, '얘기': 211, '셨': 212, '다행': 213, '을까': 214, '맞': 215, '질': 216, '돼서': 217, '라는': 218, '술': 219, '연애': 220, '실망': 221, '친한': 222, '났': 223, '충격': 224, '모두': 225, '셔서': 226, '반': 227, '또': 228, '시': 229, '버렸': 230, '아프': 231, '나가': 232, '주변': 233, '더라': 234, '눈물': 235, '결과': 236, '원': 237, '께': 238, '자기': 239, '폭력': 240, '러': 241, '세상': 242, '운동': 243, '두려워': 244, '드디어': 245, '한다고': 246, '자고': 247, '이야기': 248, '괴로워': 249, '못하': 250, '의사': 251, '곳': 252, '두': 253, '더라고': 254, '암': 255, '놓': 256, '잘못': 257, '번': 258, '나왔': 259, '쓰': 260, '사실': 261, '언니': 262, '수술': 263, '으니': 264, '길': 265, '생겼': 266, '합격': 267, '느낌': 268, '그래서': 269, '코로나': 270, '될': 271, '신경': 272, '치료': 273, '여행': 274, '위해': 275, '내일': 276, '괴롭히': 277, '시작': 278, '와서': 279, '당했': 280, '실수': 281, '대해': 282, '몇': 283, '이나': 284, '아파': 285, '진로': 286, '미안': 287, '승진': 288, '무시': 289, '노인': 290, '외로워': 291, '오래': 292, '진짜': 293, '아주': 294, '전화': 295, '점점': 296, '함께': 297, '사이': 298, '조심': 299, '젊': 300, '대화': 301, '벌써': 302, '동기': 303, '곧': 304, '프로젝트': 305, '모임': 306, '행복': 307, '줘서': 308, '보내': 309, '할까': 310, '놀': 311, '냐고': 312, '건': 313, '귀찮': 314, '감사': 315, '듣': 316, '답답': 317, '조금': 318, '원비': 319, '지내': 320, '필요': 321, '아픈': 322, '모습': 323, '관리': 324, '할머니': 325, '입원': 326, '며': 327, '빨리': 328, '을지': 329, '요새': 330, '출산': 331, '상황': 332, '도와': 333, '나와': 334, '투자': 335, '동안': 336, '모아': 337, '처음': 338, '초조': 339, '약': 340, '김': 341, '사업': 342, '떨어졌': 343, '자금': 344, '드': 345, '늦': 346, '께서': 347, '자주': 348, '예전': 349, '싸웠': 350, '새로운': 351, '거든': 352, '빌려': 353, '질환': 354, '재정': 355, '걸까': 356, '가지': 357, '주식': 358, '나오': 359, '부장': 360, '처럼': 361, '이혼': 362, '슬프': 363, '삼': 364, '신': 365, '씨': 366, '옆집': 367, '아파서': 368, '갈': 369, '크': 370, '편안': 371, '아야': 372, '였': 373, '이런': 374, '다시': 375, '스러웠': 376, '내게': 377, '최근': 378, '물': 379, '취직': 380, '관심': 381, '먼저': 382, '무슨': 383, '나와서': 384, '우울': 385, '준': 386, '간': 387, '느껴': 388, '이유': 389, '늘': 390, '언제': 391, '어떤': 392, '당혹': 393, '생일': 394, '벌': 395, '고생': 396, '별로': 397, '꿈': 398, '밥': 399, '부서': 400, '몰래': 401, '당뇨': 402, '보여': 403, '늙': 404, '사랑': 405, '사장': 406, '낳': 407, '졌': 408, '약속': 409, '형': 410, '임신': 411, '질투': 412, '가난': 413, '출근': 414, '느껴져': 415, '그런데': 416, '새로': 417, '소리': 418, '입사': 419, '뒤': 420, '만성': 421, '부끄러워': 422, '선물': 423, '도움': 424, '팀장': 425, '꼭': 426, '상태': 427, '신입': 428, '며칠': 429, '인지': 430, '바람': 431, '어떡': 432, '명': 433, '져서': 434, '느라': 435, '온': 436, '용돈': 437, '제대로': 438, '싸우': 439, '구역': 440, '노인정': 441, '아침': 442, '부부': 443, '오랜만': 444, '무서워': 445, '그냥': 446, '넘': 447, '건지': 448, '엔': 449, '제일': 450, '부족': 451, '못했': 452, '지원': 453, '노력': 454, '차': 455, '야근': 456, '어도': 457, '배신': 458, '째': 459, '당한': 460, '만족': 461, '자리': 462, '모든': 463, '이젠': 464, '냈': 465, '감': 466, '사고': 467, '보험': 468, '해고': 469, '그러': 470, '성공': 471, '퇴근': 472, '불편': 473, '당해서': 474, '그만두': 475, '본': 476, '볼': 477, '셔': 478, '소식': 479, '보고': 480, '들어가': 481, '갚': 482, '둘': 483, '결혼식': 484, '혈압': 485, '그런': 486, '선배': 487, '정도': 488, '잔소리': 489, '못해서': 490, '사귀': 491, '챙겨': 492, '가장': 493, '눈치': 494, '애인': 495, '발표': 496, '음식': 497, '척': 498, '화나': 499, '하루': 500, '퇴직': 501, '인생': 502, '머리': 503, '잠': 504, '찾': 505, '손자': 506, '거짓말': 507, '대인': 508, '입': 509, '옆': 510, '평소': 511, '담배': 512, '마비': 513, '걸렸': 514, '둔': 515, '외롭': 516, '주말': 517, '방': 518, '라서': 519, '결국': 520, '그렇게': 521, '기대': 522, '다음': 523, '자랑': 524, '열': 525, '한다는': 526, '대학교': 527, '끊': 528, '감정': 529, '보이': 530, '그런지': 531, '끝': 532, '빼': 533, '고립': 534, '라도': 535, '스러운': 536, '재산': 537, '성가셔': 538, '삶': 539, '혐오': 540, '속': 541, '밖에': 542, '돌아가': 543, '만났': 544, '경제': 545, '큰일': 546, '평생': 547, '올해': 548, '어려워': 549, '비': 550, '연금': 551, '얼굴': 552, '등': 553, '죄책감': 554, '매우': 555, '시키': 556, '쉬': 557, '손': 558, '대로': 559, '여유': 560, '아무것': 561, '자녀': 562, '옷': 563, '높': 564, '가해자': 565, '막막': 566, '비교': 567, '이해': 568, '뭘': 569, '속상하': 570, '대한': 571, '누나': 572, '환멸': 573, '검사': 574, '만큼': 575, '욕': 576, '쉽': 577, '가게': 578, '눈': 579, '회의': 580, '한데': 581, '치매': 582, '매번': 583, '퇴사': 584, '떨어져서': 585, '학원': 586, '기업': 587, '사원': 588, '중요': 589, '얼마나': 590, '엄청': 591, '맡': 592, '힘든': 593, '배신감': 594, '상담': 595, '잃': 596, '후배': 597, '월급': 598, '동네': 599, '팀': 600, '다녀왔': 601, '될까': 602, '사기': 603, '몰랐': 604, '생겨서': 605, '울': 606, '박': 607, '과장': 608, '친하': 609, '다며': 610, '져': 611, '아기': 612, '분': 613, '아버지': 614, '힘': 615, '졸업': 616, '못한': 617, '기쁘': 618, '어디': 619, '그동안': 620, '처리': 621, '떠나': 622, '래': 623, '몰라': 624, '샀': 625, '실패': 626, '심하': 627, '행동': 628, '어렵': 629, '편': 630, '서로': 631, '죽음': 632, '괴롭힘': 633, '점수': 634, '팀원': 635, '빚': 636, '허리': 637, '오빠': 638, '인사': 639, '계획': 640, '배': 641, '팔': 642, '씩': 643, '치료비': 644, '고등학교': 645, '생기': 646, '거절': 647, '따돌리': 648, '놀랐': 649, '퇴원': 650, '회식': 651, '전혀': 652, '성': 653, '이후': 654, '창피': 655, '멀': 656, '아무리': 657, '나빠': 658, '이사': 659, '마시': 660, '이러': 661, '집안': 662, '텐데': 663, '덕분': 664, '버려진': 665, '우울증': 666, '만들': 667, '대출': 668, '괜찮': 669, '부담': 670, '나갔': 671, '타': 672, '떨어지': 673, '잡': 674, '아닌': 675, '포기': 676, '진단': 677, '작': 678, '낮': 679, '물건': 680, '고백': 681, '끼리': 682, '수업': 683, '오랫동안': 684, '피곤': 685, '그랬': 686, '인간': 687, '갖': 688, '서운': 689, '세': 690, '왕따': 691, '지인': 692, '뿐': 693, '퇴직금': 694, '일찍': 695, '맨날': 696, '진': 697, '부하': 698, '비통': 699, '치': 700, '가끔': 701, '교통사고': 702, '생활비': 703, '든': 704, '칭찬': 705, '괜히': 706, '손주': 707, '밖': 708, '첫': 709, '소문': 710, '라니': 711, '느긋': 712, '반대': 713, '근데': 714, '항암': 715, '인가': 716, '줘': 717, '신나': 718, '사정': 719, '오해': 720, '아닌데': 721, '밤': 722, '시선': 723, '그만': 724, '육': 725, '넣': 726, '다리': 727, '진행': 728, '기다리': 729, '만날': 730, '정리': 731, '말씀': 732, '도록': 733, '대신': 734, '버려서': 735, '성격': 736, '누구': 737, '등산': 738, '그럴': 739, '어려운': 740, '힘드': 741, '이직': 742, '희생': 743, '해졌': 744, '산': 745, '게임': 746, '사과': 747, '했었': 748, '걸린': 749, '위해서': 750, '못해': 751, '스스로': 752, '대해서': 753, '무엇': 754, '어쩌': 755, '그렇': 756, '명절': 757, '헤어지': 758, '불': 759, '저축': 760, '백': 761, '통보': 762, '다가오': 763, '떠났': 764, '마련': 765, '이야': 766, '정신': 767, '봐서': 768, '헤어졌': 769, '주위': 770, '장': 771, '해결': 772, '걸려서': 773, '며느리': 774, '아도': 775, '만난': 776, '챙기': 777, '동창': 778, '능력': 779, '험담': 780, '신뢰': 781, '의견': 782, '무릎': 783, '그게': 784, '공무원': 785, '하고': 786, '가입': 787, '서류': 788, '된다고': 789, '싸워서': 790, '이게': 791, '해져': 792, '부러워': 793, '영양제': 794, '으니까': 795, '저번': 796, '탈락': 797, '들어왔': 798, '축하': 799, '건데': 800, '과제': 801, '갱년기': 802, '새': 803, '부탁': 804, '친했': 805, '선택': 806, '따라': 807, '저녁': 808, '형편': 809, '당첨': 810, '수학': 811, '휴가': 812, '결정': 813, '여러': 814, '소개': 815, '일부러': 816, '친척': 817, '쓰여': 818, '판정': 819, '어머니': 820, '요양원': 821, '바로': 822, '근무': 823, '이래': 824, '버리': 825, '으면서': 826, '아픈데': 827, '생': 828, '여': 829, '집안일': 830, '분위기': 831, '순간': 832, '수술비': 833, '찾아오': 834, '직업': 835, '써': 836, '아무래도': 837, '점심': 838, '실적': 839, '신고': 840, '은행': 841, '쓸쓸': 842, '수치': 843, '키우': 844, '보여서': 845, '편해': 846, '일까': 847, '걸리': 848, '너무나': 849, '나쁜': 850, '적금': 851, '오랜': 852, '취소': 853, '커': 854, '숙제': 855, '일어나': 856, '바쁘': 857, '흥분': 858, '오르': 859, '시켜': 860, '아르바이트': 861, '걔': 862, '진학': 863, '소개팅': 864, '편하': 865, '전학': 866, '비싼': 867, '혹시': 868, '분명': 869, '미래': 870, '통장': 871, '요구': 872, '뻔': 873, '기억': 874, '시기': 875, '동호회': 876, '붙': 877, '와이프': 878, '긴': 879, '대리': 880, '연봉': 881, '긴장': 882, '안심': 883, '어릴': 884, '부동산': 885, '일자리': 886, '생겨': 887, '대하': 888, '병문안': 889, '겪': 890, '무척': 891, '피해': 892, '강요': 893, '까': 894, '려': 895, '올랐': 896, '주일': 897, '다행히': 898, '발령': 899, '꾸준히': 900, '으러': 901, '당장': 902, '려니': 903, '도대체': 904, '미리': 905, '얻': 906, '내년': 907, '이럴': 908, '앓': 909, '최종': 910, '탓': 911, '혼': 912, '그래도': 913, '딸아이': 914, '고마워': 915, '가슴': 916, '전부': 917, '앞두': 918, '피하': 919, '노년': 920, '좌절감': 921, '좋아하': 922, '풀': 923, '들어오': 924, '학생': 925, '그걸': 926, '열등': 927, '실': 928, '부끄럽': 929, '피우': 930, '듯': 931, '군': 932, '점': 933, '기간': 934, '단': 935, '혼났': 936, '모른': 937, '가정': 938, '구하': 939, '체력': 940, '어울리': 941, '뭔가': 942, '좌절': 943, '알려': 944, '미치': 945, '지네': 946, '바라': 947, '집중': 948, '무리': 949, '인해': 950, '계약': 951, '썼': 952, '사회': 953, '난다': 954, '황당': 955, '의심': 956, '으려고': 957, '심해': 958, '악화': 959, '걷': 960, '관절염': 961, '심장': 962, '심해서': 963, '중년': 964, '녀석': 965, '두렵': 966, '사춘기': 967, '아끼': 968, '제출': 969, '유산': 970, '저': 971, '나중': 972, '친해': 973, '올라서': 974, '부끄러웠': 975, '길래': 976, '다네': 977, '유학': 978, '무섭': 979, '원하': 980, '느끼': 981, '폐암': 982, '누가': 983, '정년퇴직': 984, '안달': 985, '전공': 986, '별': 987, '어느': 988, '취약': 989, '의식': 990, '어떻': 991, '막': 992, '들어온': 993, '수능': 994, '쳤': 995, '종일': 996, '심한': 997, '영감': 998, '슬펐': 999, '준다고': 1000, '부럽': 1001, '꼴': 1002, '올': 1003, '월세': 1004, '던데': 1005, '효과': 1006, '섭섭': 1007, '못할': 1008, '복지': 1009, '봐야': 1010, '조차': 1011, '괴롭': 1012, '회의감': 1013, '지각': 1014, '다르': 1015, '끝나': 1016, '간암': 1017, '앉': 1018, '관련': 1019, '화장실': 1020, '청소': 1021, '나온': 1022, '땅': 1023, '완치': 1024, '슬픈': 1025, '배우': 1026, '비해': 1027, '급하': 1028, '오히려': 1029, '드렸': 1030, '힘든데': 1031, '시어머니': 1032, '작년': 1033, '롭': 1034, '발견': 1035, '우연히': 1036, '함': 1037, '안정': 1038, '는다고': 1039, '문': 1040, '갈수록': 1041, '뉴스': 1042, '려면': 1043, '떨어져': 1044, '아무런': 1045, '거의': 1046, '뿌듯': 1047, '대회': 1048, '모은': 1049, '훨씬': 1050, '낙담': 1051, '시켰': 1052, '대비': 1053, '거래처': 1054, '더군': 1055, '데이트': 1056, '추천': 1057, '비밀': 1058, '맘': 1059, '될지': 1060, '성과': 1061, '아파트': 1062, '조별': 1063, '쓸': 1064, '태도': 1065, '분노': 1066, '비싸': 1067, '위암': 1068, '지방': 1069, '육아': 1070, '프러포즈': 1071, '보험금': 1072, '취급': 1073, '어려워서': 1074, '집사람': 1075, '사진': 1076, '쓰러졌': 1077, '걸려': 1078, '다퉜': 1079, '담임': 1080, '천식': 1081, '환자': 1082, '출장': 1083, '주인': 1084, '다쳤': 1085, '문자': 1086, '본인': 1087, '굉장히': 1088, '채용': 1089, '완전': 1090, '된다': 1091, '완전히': 1092, '여기저기': 1093, '란': 1094, '산책': 1095, '대답': 1096, '가진': 1097, '수록': 1098, '마지막': 1099, '똑같': 1100, '웃': 1101, '할아버지': 1102, '막상': 1103, '확인': 1104, '체육': 1105, '다녔': 1106, '어쩔': 1107, '감기': 1108, '합병증': 1109, '이제야': 1110, '채': 1111, '지갑': 1112, '알아보': 1113, '간호사': 1114, '죄송': 1115, '정년': 1116, '위': 1117, '평가': 1118, '영어': 1119, '가능': 1120, '사무실': 1121, '때렸': 1122, '자격증': 1123, '한대': 1124, '여서': 1125, '시절': 1126, '컴퓨터': 1127, '때리': 1128, '드리': 1129, '권유': 1130, '여기': 1131, '가방': 1132, '겨우': 1133, '현실': 1134, '나올': 1135, '보냈': 1136, '비웃': 1137, '비용': 1138, '미루': 1139, '따돌려': 1140, '친절': 1141, '이름': 1142, '지시': 1143, '난리': 1144, '허락': 1145, '엄청나': 1146, '따로': 1147, '다닐': 1148, '어린': 1149, '비참': 1150, '개월': 1151, '빠지': 1152, '적응': 1153, '해져서': 1154, '생긴': 1155, '신청': 1156, '털어놓': 1157, '상': 1158, '어이없': 1159, '마을': 1160, '개': 1161, '해외': 1162, '누워': 1163, '깨': 1164, '관': 1165, '어렸': 1166, '그녀': 1167, '써서': 1168, '지긋지긋': 1169, '시골': 1170, '시댁': 1171, '의지': 1172, '바빠서': 1173, '장사': 1174, '기회': 1175, '응원': 1176, '줘야': 1177, '버': 1178, '달리': 1179, '짓': 1180, '원래': 1181, '초라': 1182, '다투': 1183, '버스': 1184, '경로당': 1185, '데리': 1186, '부르': 1187, '기뻤': 1188, '회장': 1189, '아이디어': 1190, '이력서': 1191, '허무': 1192, '악의': 1193, '나라': 1194, '조절': 1195, '시켜서': 1196, '서러워': 1197, '다녀서': 1198, '화해': 1199, '활동': 1200, '부리': 1201, '카드': 1202, '성적표': 1203, '나쁘': 1204, '지난': 1205, '나름': 1206, '즐기': 1207, '몰라서': 1208, '말다툼': 1209, '으라고': 1210, '조급': 1211, '외식': 1212, '숨': 1213, '들어갔': 1214, '당뇨병': 1215, '교수': 1216, '혼내': 1217, '멀리': 1218, '디스크': 1219, '미워': 1220, '마무리': 1221, '심해져서': 1222, '꺼내': 1223, '싸움': 1224, '건가': 1225, '반응': 1226, '상대': 1227, '절대': 1228, '헬스': 1229, '돌보': 1230, '로부터': 1231, '핸드폰': 1232, '땐': 1233, '식단': 1234, '대표': 1235, '무': 1236, '관절': 1237, '지난주': 1238, '손해': 1239, '나갈': 1240, '말기': 1241, '괴롭혔': 1242, '지나': 1243, '유지': 1244, '잃어버렸': 1245, '식품': 1246, '피': 1247, '넉넉': 1248, '장난': 1249, '끝내': 1250, '쳐다보': 1251, '부분': 1252, '깜짝': 1253, '하루하루': 1254, '낫': 1255, '겁': 1256, '찍': 1257, '라며': 1258, '통': 1259, '고맙': 1260, '차이': 1261, '질문': 1262, '자마자': 1263, '방법': 1264, '바뀌': 1265, '간다고': 1266, '뒷바라지': 1267, '한지': 1268, '요양': 1269, '맛있': 1270, '살아가': 1271, '괴롭힌': 1272, '센터': 1273, '피웠': 1274, '지치': 1275, '병실': 1276, '위로': 1277, '정상': 1278, '운영': 1279, '보태': 1280, '버린': 1281, '기침': 1282, '예민': 1283, '투병': 1284, '자살': 1285, '외출': 1286, '꽤': 1287, '사귄': 1288, '자료': 1289, '다면': 1290, '툴툴': 1291, '방금': 1292, '감당': 1293, '살아왔': 1294, '뽑': 1295, '대체': 1296, '강아지': 1297, '손녀': 1298, '아닐까': 1299, '사용': 1300, '교육': 1301, '은근히': 1302, '어려울': 1303, '인정': 1304, '작성': 1305, '지쳐': 1306, '올라': 1307, '반장': 1308, '느꼈': 1309, '치밀': 1310, '냄새': 1311, '식': 1312, '잊': 1313, '왠지': 1314, '개인': 1315, '당해': 1316, '최': 1317, '칠': 1318, '취미': 1319, '기쁜': 1320, '잦': 1321, '든든': 1322, '복권': 1323, '옛날': 1324, '책': 1325, '이미': 1326, '곁': 1327, '매달': 1328, '장례식': 1329, '은지': 1330, '재미': 1331, '신혼': 1332, '한마디': 1333, '최고': 1334, '도저히': 1335, '심각': 1336, '동창회': 1337, '명예퇴직': 1338, '그때': 1339, '누군가': 1340, '다녀': 1341, '무조건': 1342, '펀드': 1343, '몹시': 1344, '증상': 1345, '움직이': 1346, '고지혈증': 1347, '환갑': 1348, '성가시': 1349, '거나': 1350, '지난번': 1351, '독립': 1352, '커서': 1353, '그대로': 1354, '차별': 1355, '체중': 1356, '적성': 1357, '지하철': 1358, '군대': 1359, '그것': 1360, '지적': 1361, '망쳤': 1362, '발': 1363, '묻': 1364, '정작': 1365, '어찌': 1366, '절망': 1367, '당할': 1368, '지났': 1369, '역시': 1370, '제': 1371, '언젠가': 1372, '추석': 1373, '방어': 1374, '경력': 1375, '쇼핑': 1376, '주사': 1377, '예정': 1378, '빠져': 1379, '라면': 1380, '무서워서': 1381, '가격': 1382, '구나': 1383, '불쌍': 1384, '그런가': 1385, '잖아': 1386, '물어봐서': 1387, '회복': 1388, '재': 1389, '량': 1390, '정기': 1391, '식사': 1392, '과연': 1393, '막내': 1394, '확신': 1395, '낸': 1396, '이용': 1397, '숨기': 1398, '학기': 1399, '놀라': 1400, '마치': 1401, '떨려': 1402, '척하': 1403, '지병': 1404, '퇴': 1405, '담당': 1406, '아플': 1407, '희망': 1408, '탈모': 1409, '학업': 1410, '불합격': 1411, '다이어트': 1412, '거래': 1413, '불러': 1414, '백만': 1415, '제안': 1416, '써야': 1417, '맛': 1418, '거리': 1419, '미칠': 1420, '올려': 1421, '입시': 1422, '들으니': 1423, '신랑': 1424, '간섭': 1425, '사소': 1426, '백수': 1427, '부정': 1428, '친정': 1429, '망했': 1430, '내용': 1431, '내내': 1432, '요청': 1433, '온종일': 1434, '들어와서': 1435, '혼나': 1436, '되게': 1437, '려는': 1438, '스러워서': 1439, '상의': 1440, '니깐': 1441, '기계': 1442, '동아리': 1443, '운전': 1444, '달래': 1445, '노트': 1446, '마흔': 1447, '대서': 1448, '슬슬': 1449, '폭행': 1450, '어색': 1451, '다면서': 1452, '짐': 1453, '솔직히': 1454, '온몸': 1455, '어깨': 1456, '간호': 1457, '아닌지': 1458, '즐겁': 1459, '괴롭혀서': 1460, '보고서': 1461, '자는': 1462, '기획': 1463, '따돌렸': 1464, '장기': 1465, '글쎄': 1466, '학과': 1467, '불우': 1468, '지경': 1469, '던지': 1470, '수입': 1471, '태어나': 1472, '안도': 1473, '의미': 1474, '부끄러운': 1475, '소용': 1476, '책임': 1477, '입학': 1478, '우': 1479, '정': 1480, '놈': 1481, '등급': 1482, '중간고사': 1483, '고서': 1484, '지출': 1485, '당할까': 1486, '그래': 1487, '궁금': 1488, '영': 1489, '고등학생': 1490, '어쩌면': 1491, '볼까': 1492, '하늘': 1493, '압박': 1494, '비슷': 1495, '초기': 1496, '낼': 1497, '헤어진': 1498, '직접': 1499, '돌아오': 1500, '믿기': 1501, '표정': 1502, '고기': 1503, '재미있': 1504, '고통': 1505, '대출금': 1506, '줄어들': 1507, '커피': 1508, '쪄서': 1509, '지키': 1510, '려는데': 1511, '식당': 1512, '시대': 1513, '해진': 1514, '경찰': 1515, '마음대로': 1516, '청년': 1517, '구': 1518, '신대': 1519, '어차피': 1520, '일구': 1521, '이대로': 1522, '짝': 1523, '덕': 1524, '기사': 1525, '민망': 1526, '모으': 1527, '충분': 1528, '쪽': 1529, '사수': 1530, '또래': 1531, '수익': 1532, '영화': 1533, '여태': 1534, '아팠': 1535, '덜': 1536, '기력': 1537, '굴': 1538, '귀': 1539, '중학교': 1540, '괴롭혀': 1541, '답': 1542, '부인': 1543, '재촉': 1544, '보너스': 1545, '싫어하': 1546, '닫': 1547, '목표': 1548, '날짜': 1549, '다쳐서': 1550, '갑작스럽': 1551, '정보': 1552, '시장': 1553, '에겐': 1554, '정하': 1555, '직': 1556, '원망': 1557, '계': 1558, '돌': 1559, '차려': 1560, '부': 1561, '명품': 1562, '외모': 1563, '통화': 1564, '불만': 1565, '새벽': 1566, '달라서': 1567, '통증': 1568, '장례식장': 1569, '모자라': 1570, '사내': 1571, '산부인과': 1572, '마감': 1573, '모았': 1574, '쓴': 1575, '노래': 1576, '위한': 1577, '위험': 1578, '이동': 1579, '엉망': 1580, '진급': 1581, '쯤': 1582, '재발': 1583, '직무': 1584, '한참': 1585, '고향': 1586, '텔레비전': 1587, '심부름': 1588, '성가신': 1589, '무사히': 1590, '라네': 1591, '금방': 1592, '용기': 1593, '된다는': 1594, '계산': 1595, '배려': 1596, '심정': 1597, '종종': 1598, '예상': 1599, '화목': 1600, '아까': 1601, '전교': 1602, '바': 1603, '이걸': 1604, '마저': 1605, '학년': 1606, '유방암': 1607, '이별': 1608, '신체': 1609, '날아갈': 1610, '세대': 1611, '따': 1612, '기말고사': 1613, '도박': 1614, '떨리': 1615, '신세': 1616, '보낼': 1617, '처지': 1618, '약값': 1619, '참석': 1620, '다닌': 1621, '로또': 1622, '경기': 1623, '풀리': 1624, '자전거': 1625, '얼른': 1626, '화내': 1627, '존재': 1628, '뺏': 1629, '외로운': 1630, '외국': 1631, '지낼': 1632, '냐는': 1633, '인원': 1634, '지나가': 1635, '구박': 1636, '시킨': 1637, '빠져서': 1638, '다는데': 1639, '질까': 1640, '방학': 1641, '이것저것': 1642, '기운': 1643, '파혼': 1644, '함부로': 1645, '재테크': 1646, '금액': 1647, '인정받': 1648, '어른': 1649, '조건': 1650, '느껴져서': 1651, '알아주': 1652, '내려가': 1653, '신장': 1654, '고객': 1655, '필기': 1656, '생각나': 1657, '한다니': 1658, '투나': 1659, '나눠': 1660, '참여': 1661, '통해': 1662, '쓰러져서': 1663, '무서운': 1664, '보증': 1665, '자라': 1666, '재수': 1667, '기한': 1668, '한숨': 1669, '들어갈': 1670, '설레': 1671, '내장': 1672, '목격': 1673, '잘난': 1674, '물어봐': 1675, '잔뜩': 1676, '부쩍': 1677, '파티': 1678, '나빠져서': 1679, '슬퍼서': 1680, '원서': 1681, '넘어가': 1682, '경험': 1683, '신경질': 1684, '버릴': 1685, '학': 1686, '폭위': 1687, '이리': 1688, '고장': 1689, '냐며': 1690, '자니': 1691, '생길': 1692, '한잔': 1693, '이기': 1694, '소외': 1695, '반복': 1696, '언제나': 1697, '독감': 1698, '권고사직': 1699, '빌리': 1700, '대상': 1701, '커닝': 1702, '서울': 1703, '시부모': 1704, '가져가': 1705, '잠깐': 1706, '다가가': 1707, '노': 1708, '한다': 1709, '끼': 1710, '과외': 1711, '휴직': 1712, '이민': 1713, '시도': 1714, '단체': 1715, '중간': 1716, '서럽': 1717, '현장': 1718, '방문': 1719, '청혼': 1720, '다녀야': 1721, '권': 1722, '질병': 1723, '잘렸': 1724, '창업': 1725, '어찌나': 1726, '금연': 1727, '존경': 1728, '바보': 1729, '둘째': 1730, '소홀': 1731, '상대방': 1732, '재취업': 1733, '급식': 1734, '마스크': 1735, '지속': 1736, '복잡': 1737, '열등감': 1738, '짝사랑': 1739, '으셔서': 1740, '식구': 1741, '통하': 1742, '익숙': 1743, '봐도': 1744, '음': 1745, '헤어져서': 1746, '물려주': 1747, '경우': 1748, '복수': 1749, '수학여행': 1750, '쓸모없': 1751, '제도': 1752, '실력': 1753, '도착': 1754, '올리': 1755, '이거': 1756, '해외여행': 1757, '습관': 1758, '이웃': 1759, '에선': 1760, '는다는': 1761, '역겨워': 1762, '한결': 1763, '처벌': 1764, '날렸': 1765, '모아서': 1766, '장애': 1767, '편히': 1768, '시비': 1769, '급여': 1770, '아줌마': 1771, '젊은이': 1772, '일상': 1773, '맞벌이': 1774, '예약': 1775, '사회생활': 1776, '구조': 1777, '맡기': 1778, '키워': 1779, '소용없': 1780, '시력': 1781, '빌린': 1782, '먼': 1783, '은가': 1784, '쳐서': 1785, '어젯밤': 1786, '양보': 1787, '갔었': 1788, '자퇴': 1789, '구매': 1790, '근처': 1791, '나빠졌': 1792, '서른': 1793, '솔직': 1794, '바꾸': 1795, '등록금': 1796, '매출': 1797, '훔쳐': 1798, '한가': 1799, '뇌': 1800, '사라졌': 1801, '현재': 1802, '씁쓸': 1803, '주택': 1804, '교실': 1805, '이전': 1806, '푼': 1807, '인상': 1808, '들켰': 1809, '재혼': 1810, '아파도': 1811, '과거': 1812, '심란': 1813, '살아온': 1814, '그만뒀': 1815, '코': 1816, '에게서': 1817, '진심': 1818, '핀잔': 1819, '까먹': 1820, '조정': 1821, '군데': 1822, '어려움': 1823, '중소기업': 1824, '쓰이': 1825, '자산': 1826, '퇴학': 1827, '요실금': 1828, '들어간': 1829, '종양': 1830, '떨어진': 1831, '진지': 1832, '초대': 1833, '만기': 1834, '절교': 1835, '밤새': 1836, '마셨': 1837, '찾아와서': 1838, '조언': 1839, '불행': 1840, '벗어나': 1841, '심해졌': 1842, '날까': 1843, '로워': 1844, '값': 1845, '편지': 1846, '곤란': 1847, '속상한': 1848, '정부': 1849, '도전': 1850, '차라리': 1851, '억지로': 1852, '속상했': 1853, '지냈': 1854, '뇌졸중': 1855, '전염병': 1856, '환경': 1857, '모이': 1858, '빌렸': 1859, '중반': 1860, '실까': 1861, '부끄러워서': 1862, '실기': 1863, '이것': 1864, '룸메이트': 1865, '들어도': 1866, '부도': 1867, '방송': 1868, '결혼기념일': 1869, '홀로': 1870, '인터넷': 1871, '골다공증': 1872, '읽': 1873, '소통': 1874, '태어났': 1875, '닮': 1876, '감동': 1877, '똑같이': 1878, '사망': 1879, '금융': 1880, '메시지': 1881, '골프': 1882, '자부': 1883, '뛰': 1884, '이성': 1885, '만드': 1886, '지낸': 1887, '초등': 1888, '온다고': 1889, '처방': 1890, '부자': 1891, '깊': 1892, '티브이': 1893, '충분히': 1894, '취해서': 1895, '날씨': 1896, '반찬': 1897, '즐거워': 1898, '죄': 1899, '병상': 1900, '얘': 1901, '계시': 1902, '봉사': 1903, '된대': 1904, '폐': 1905, '놔서': 1906, '쏟': 1907, '마누라': 1908, '인턴': 1909, '빠듯': 1910, '방해': 1911, '자존심': 1912, '싸운': 1913, '중학생': 1914, '바라보': 1915, '무능': 1916, '약간': 1917, '그리': 1918, '뭔지': 1919, '요리': 1920, '신발': 1921, '예쁜': 1922, '번호': 1923, '확실히': 1924, '업체': 1925, '듯이': 1926, '서글퍼': 1927, '영업': 1928, '다녀오': 1929, '가까워': 1930, '확실': 1931, '아예': 1932, '고마운': 1933, '늘어나': 1934, '떨': 1935, '목돈': 1936, '조직': 1937, '축구': 1938, '이자': 1939, '줄이': 1940, '보였': 1941, '틈': 1942, '률': 1943, '지난달': 1944, '넘어졌': 1945, '피해자': 1946, '도중': 1947, '꺼려': 1948, '작업': 1949, '내시경': 1950, '소외감': 1951, '못할까': 1952, '징계': 1953, '일정': 1954, '외로웠': 1955, '나아지': 1956, '윗집': 1957, '버림': 1958, '라는데': 1959, '대충': 1960, '실직': 1961, '지겨워': 1962, '착한': 1963, '쌓여': 1964, '연예인': 1965, '놀리': 1966, '지원금': 1967, '외톨이': 1968, '한두': 1969, '단절': 1970, '대학원': 1971, '인슐린': 1972, '핑계': 1973, '지역': 1974, '고집': 1975, '키웠': 1976, '임원': 1977, '어려워져서': 1978, '안도감': 1979, '서먹': 1980, '모양': 1981, '목소리': 1982, '더욱': 1983, '바꿔': 1984, '만든': 1985, '전환': 1986, '문화': 1987, '잔치': 1988, '총각': 1989, '연차': 1990, '보장': 1991, '급한': 1992, '전세': 1993, '술자리': 1994, '는군': 1995, '대단': 1996, '편한': 1997, '모의고사': 1998, '사표': 1999, '거부': 2000, '더라도': 2001, '상했': 2002, '다니까': 2003, '소중': 2004, '곤': 2005, '국어': 2006, '일등': 2007, '아닌가': 2008, '마라톤': 2009, '최선': 2010, '부양': 2011, '도둑': 2012, '보람': 2013, '유일': 2014, '자유': 2015, '나누': 2016, '모른다는': 2017, '주가': 2018, '잤': 2019, '표현': 2020, '위원회': 2021, '편해졌': 2022, '지르': 2023, '아저씨': 2024, '마땅': 2025, '천천히': 2026, '코앞': 2027, '불쾌': 2028, '병간호': 2029, '불려': 2030, '조마조마': 2031, '유명': 2032, '여전히': 2033, '천만': 2034, '그림': 2035, '구먼': 2036, '정규직': 2037, '주문': 2038, '대놓고': 2039, '욕심': 2040, '으시': 2041, '달라': 2042, '집값': 2043, '나서': 2044, '바람피우': 2045, '만만': 2046, '끔찍': 2047, '가만히': 2048, '멀쩡': 2049, '쉴': 2050, '와도': 2051, '분명히': 2052, '회비': 2053, '정말로': 2054, '임': 2055, '진료': 2056, '생계': 2057, '예방': 2058, '노트북': 2059, '고치': 2060, '고혈압': 2061, '심근': 2062, '경색': 2063, '벌이': 2064, '맡겼': 2065, '잠적': 2066, '병문': 2067, '허전': 2068, '금전': 2069, '돌아왔': 2070, '마주치': 2071, '인기': 2072, '든지': 2073, '교육비': 2074, '더러': 2075, '매년': 2076, '살림': 2077, '상품': 2078, '키': 2079, '요즈음': 2080, '음식점': 2081, '난감': 2082, '으셔': 2083, '배우자': 2084, '설명': 2085, '미워하': 2086, '따라가': 2087, '컸': 2088, '동반': 2089, '버티': 2090, '바닥': 2091, '잔고': 2092, '거기': 2093, '빠졌': 2094, '뜻대로': 2095, '회': 2096, '아무렇': 2097, '부려': 2098, '들으면': 2099, '예비': 2100, '잔': 2101, '싸워': 2102, '새롭': 2103, '찾아와': 2104, '상견례': 2105, '당분간': 2106, '성화': 2107, '막히': 2108, '둬서': 2109, '버려': 2110, '명단': 2111, '소심': 2112, '사촌': 2113, '사건': 2114, '조용': 2115, '도통': 2116, '연인': 2117, '쌓이': 2118, '세월': 2119, '성희롱': 2120, '여름': 2121, '지켜': 2122, '앞날': 2123, '들킬까': 2124, '쓰러지': 2125, '았었': 2126, '착잡': 2127, '무언가': 2128, '옮기': 2129, '다지': 2130, '준대': 2131, '부당': 2132, '눈앞': 2133, '잠시': 2134, '시끄럽': 2135, '가질': 2136, '뚱뚱': 2137, '아쉬워': 2138, '하지만': 2139, '막내딸': 2140, '간병': 2141, '딱': 2142, '과목': 2143, '별거': 2144, '건물': 2145, '따르': 2146, '대장암': 2147, '다툼': 2148, '녹내장': 2149, '안타까워': 2150, '예의': 2151, '밝': 2152, '명의': 2153, '혼날': 2154, '발생': 2155, '어머님': 2156, '대학생': 2157, '후련': 2158, '밀려': 2159, '폐지': 2160, '기술': 2161, '시한부': 2162, '금': 2163, '저런': 2164, '제때': 2165, '가까운': 2166, '스터디': 2167, '뱃살': 2168, '우승': 2169, '도망갔': 2170, '카페': 2171, '신용': 2172, '일어났': 2173, '수시': 2174, '예쁘': 2175, '음악': 2176, '통과': 2177, '주동자': 2178, '자존': 2179, '아이돌': 2180, '재활': 2181, '이건': 2182, '조': 2183, '외': 2184, '넘어져서': 2185, '수군거리': 2186, '피부': 2187, '아껴': 2188, '로운': 2189, '국민': 2190, '초': 2191, '치킨': 2192, '바이러스': 2193, '꾼': 2194, '책상': 2195, '고시': 2196, '탔': 2197, '위축': 2198, '전체': 2199, '형제': 2200, '아들놈': 2201, '어쩜': 2202, '단짝': 2203, '마트': 2204, '돌봐': 2205, '이만저만': 2206, '심심': 2207, '사사건건': 2208, '면목': 2209, '답장': 2210, '정체': 2211, '당연히': 2212, '여동생': 2213, '자괴감': 2214, '비난': 2215, '바쁜': 2216, '찌': 2217, '바빠': 2218, '조용히': 2219, '정했': 2220, '다섯': 2221, '출신': 2222, '공고': 2223, '입원비': 2224, '예정일': 2225, '영향': 2226, '진정': 2227, '약해': 2228, '짧': 2229, '통해서': 2230, '변화': 2231, '안마': 2232, '외박': 2233, '망치': 2234, '전형': 2235, '휴대폰': 2236, '한편': 2237, '겁나': 2238, '믿음': 2239, '일방': 2240, '카톡': 2241, '간대': 2242, '데려다': 2243, '후임': 2244, '동갑': 2245, '보인다고': 2246, '조만간': 2247, '공원': 2248, '가져갔': 2249, '짜': 2250, '가졌': 2251, '떠난': 2252, '몸살': 2253, '단순': 2254, '그리워': 2255, '기다려': 2256, '정시': 2257, '키운': 2258, '비상금': 2259, '무료': 2260, '차였': 2261, '혹시나': 2262, '상상': 2263, '라면서': 2264, '빼놓': 2265, '가족력': 2266, '티': 2267, '그저': 2268, '조기': 2269, '완벽': 2270, '계약직': 2271, '빠르': 2272, '반항': 2273, '지목': 2274, '늦잠': 2275, '오전': 2276, '신난다': 2277, '알려준': 2278, '공모전': 2279, '성실': 2280, '끊겼': 2281, '끝난': 2282, '장면': 2283, '반려': 2284, '학점': 2285, '떨어질까': 2286, '가볍': 2287, '공감': 2288, '한테서': 2289, '남동생': 2290, '의자': 2291, '분해': 2292, '맞춰': 2293, '경찰서': 2294, '비리': 2295, '여성': 2296, '달째': 2297, '생명': 2298, '수험': 2299, '잡히': 2300, '사귈': 2301, '반갑': 2302, '발목': 2303, '배드민턴': 2304, '아마': 2305, '뼈': 2306, '심해져': 2307, '분야': 2308, '내신': 2309, '했을까': 2310, '후반': 2311, '컨디션': 2312, '수정': 2313, '거실': 2314, '근육': 2315, '외로워서': 2316, '갈까': 2317, '계단': 2318, '스러울': 2319, '좋아해서': 2320, '상해': 2321, '쉬운': 2322, '동성애자': 2323, '맞추': 2324, '접': 2325, '폐렴': 2326, '부질없': 2327, '차도': 2328, '조사': 2329, '뜨': 2330, '선고': 2331, '불황': 2332, '답안지': 2333, '사라져서': 2334, '학창': 2335, '당연': 2336, '드니': 2337, '각지': 2338, '안쓰러워': 2339, '으라는': 2340, '꾸준': 2341, '안부': 2342, '결심': 2343, '아쉽': 2344, '해낼': 2345, '미술': 2346, '갈지': 2347, '찾아왔': 2348, '각자': 2349, '참견': 2350, '시달리': 2351, '의도': 2352, '산다고': 2353, '고마웠': 2354, '마셔서': 2355, '기부': 2356, '치우': 2357, '할수록': 2358, '저러': 2359, '견딜': 2360, '빈': 2361, '금리': 2362, '인연': 2363, '돌렸': 2364, '반말': 2365, '멋진': 2366, '이루': 2367, '했는데도': 2368, '미혼': 2369, '불러서': 2370, '유행': 2371, '싸': 2372, '지쳐서': 2373, '지쳤': 2374, '트집': 2375, '으려니': 2376, '질렀': 2377, '다퉈서': 2378, '유독': 2379, '어요': 2380, '처분': 2381, '노인회': 2382, '대접': 2383, '알리': 2384, '밉': 2385, '치과': 2386, '폭락': 2387, '내주': 2388, '모여': 2389, '내성': 2390, '떠넘기': 2391, '좋아해': 2392, '고독': 2393, '단계': 2394, '지금껏': 2395, '태어난': 2396, '여간': 2397, '지급': 2398, '외로움': 2399, '옳': 2400, '위기': 2401, '맡겨': 2402, '스펙': 2403, '구해': 2404, '일어날': 2405, '존중': 2406, '믿음직': 2407, '학비': 2408, '려니까': 2409, '용서': 2410, '제한': 2411, '괴롭힐': 2412, '고과': 2413, '모욕': 2414, '고양이': 2415, '소홀히': 2416, '가져': 2417, '피운': 2418, '장소': 2419, '수영': 2420, '밀리': 2421, '불구': 2422, '학습': 2423, '아부': 2424, '마냥': 2425, '한국': 2426, '미팅': 2427, '염세': 2428, '으며': 2429, '깜깜': 2430, '하필': 2431, '떨어질': 2432, '사라지': 2433, '이겨': 2434, '거려서': 2435, '기미': 2436, '전해': 2437, '제주': 2438, '혼수': 2439, '치가': 2440, '수행평가': 2441, '도망가': 2442, '집착': 2443, '매사': 2444, '구입': 2445, '제외': 2446, '프레젠테이션': 2447, '장례': 2448, '어딜': 2449, '과정': 2450, '속상해서': 2451, '가르쳐': 2452, '해내': 2453, '침대': 2454, '어려웠': 2455, '걸로': 2456, '망하': 2457, '바쁜데': 2458, '한번': 2459, '라더니': 2460, '달하': 2461, '특별히': 2462, '놀림': 2463, '무산': 2464, '취해': 2465, '이벤트': 2466, '쪘': 2467, '기특': 2468, '겠어': 2469, '걸릴까': 2470, '장래': 2471, '구직': 2472, '오를': 2473, '부려서': 2474, '소원': 2475, '직전': 2476, '예뻐': 2477, '버릇': 2478, '느껴서': 2479, '놀려서': 2480, '기뻐서': 2481, '돌려': 2482, '연습': 2483, '홈': 2484, '기다렸': 2485, '무기력': 2486, '평균': 2487, '툭하면': 2488, '혈당': 2489, '정해야': 2490, '들어와': 2491, '외제': 2492, '학자금': 2493, '나간': 2494, '내외': 2495, '택시': 2496, '휠체어': 2497, '데려왔': 2498, '일부': 2499, '을수록': 2500, '케이크': 2501, '겉': 2502, '벗': 2503, '의료': 2504, '치료제': 2505, '개발': 2506, '억': 2507, '밀려서': 2508, '원했': 2509, '손실': 2510, '거울': 2511, '구할': 2512, '피워서': 2513, '보약': 2514, '쓸모': 2515, '떠날': 2516, '한동안': 2517, '저질렀': 2518, '전증': 2519, '거려': 2520, '목': 2521, '그리고': 2522, '려던': 2523, '감축': 2524, '멈추': 2525, '문서': 2526, '프로그램': 2527, '미국': 2528, '지겹': 2529, '책임지': 2530, '기념': 2531, '자취': 2532, '떼': 2533, '면담': 2534, '나빠서': 2535, '주민': 2536, '이곳저곳': 2537, '뒀': 2538, '당당': 2539, '구했': 2540, '종합': 2541, '아냐': 2542, '망해서': 2543, '고용': 2544, '앞둔': 2545, '시험지': 2546, '어느새': 2547, '래서': 2548, '교회': 2549, '로서': 2550, '놨는데': 2551, '토할': 2552, '내기': 2553, '계셔서': 2554, '놨': 2555, '방향': 2556, '틀': 2557, '독촉': 2558, '성인': 2559, '이틀': 2560, '줍': 2561, '가져다': 2562, '손가락': 2563, '느라고': 2564, '애교': 2565, '뻔뻔': 2566, '투정': 2567, '때려서': 2568, '떠들': 2569, '다정': 2570, '괘씸': 2571, '담보': 2572, '친': 2573, '잃어버린': 2574, '탈': 2575, '교무실': 2576, '으려': 2577, '좀처럼': 2578, '편애': 2579, '드라마': 2580, '걸어서': 2581, '기초': 2582, '쓸데없': 2583, '공장': 2584, '뇌출혈': 2585, '직속': 2586, '사별': 2587, '동업': 2588, '틀렸': 2589, '우유': 2590, '난다고': 2591, '제자리': 2592, '보이스': 2593, '피싱': 2594, '모여서': 2595, '슬픔': 2596, '파': 2597, '결제': 2598, '청약': 2599, '차인데': 2600, '다녀온': 2601, '꺼냈': 2602, '재능': 2603, '약한': 2604, '찾아보': 2605, '먹여': 2606, '한창': 2607, '어야지': 2608, '지켜보': 2609, '즐거운': 2610, '내놓': 2611, '온갖': 2612, '맞이': 2613, '가로채': 2614, '공채': 2615, '보험료': 2616, '강제': 2617, '허망': 2618, '법': 2619, '데려가': 2620, '욕하': 2621, '당한다는': 2622, '정책': 2623, '행사': 2624, '품': 2625, '재밌': 2626, '화장품': 2627, '살아갈': 2628, '채팅': 2629, '수행': 2630, '특히': 2631, '연': 2632, '강의': 2633, '펑펑': 2634, '맺': 2635, '격려': 2636, '비염': 2637, '여름휴가': 2638, '쓰레기': 2639, '으신': 2640, '서비스': 2641, '놀려': 2642, '체': 2643, '들켜': 2644, '인해서': 2645, '칠까': 2646, '머리카락': 2647, '신문': 2648, '비만': 2649, '려나': 2650, '다던': 2651, '물가': 2652, '대책': 2653, '전달': 2654, '문과': 2655, '포함': 2656, '상하': 2657, '증': 2658, '판매': 2659, '틀린': 2660, '이식': 2661, '내심': 2662, '간식': 2663, '길거리': 2664, '말래': 2665, '따뜻': 2666, '캠핑': 2667, '부러워서': 2668, '씻': 2669, '자체': 2670, '모시': 2671, '얘길': 2672, '병들': 2673, '견디': 2674, '성사': 2675, '건네': 2676, '트': 2677, '렸': 2678, '물려받': 2679, '내렸': 2680, '방귀': 2681, '꾸': 2682, '국가': 2683, '서글프': 2684, '하도': 2685, '시술': 2686, '식탁': 2687, '선거': 2688, '착하': 2689, '영상': 2690, '해질': 2691, '협상': 2692, '귀농': 2693, '그만둬야': 2694, '냐': 2695, '협박': 2696, '는구먼': 2697, '지저분': 2698, '열리': 2699, '세계': 2700, '싸울': 2701, '인제': 2702, '털': 2703, '요법': 2704, '관한': 2705, '요': 2706, '대박': 2707, '기기': 2708, '보상': 2709, '끝낼': 2710, '올렸': 2711, '납부': 2712, '광고': 2713, '몸무게': 2714, '쌀쌀맞': 2715, '완성': 2716, '한다며': 2717, '원인': 2718, '조카': 2719, '차례': 2720, '터져': 2721, '프로': 2722, '투석': 2723, '인공': 2724, '훔쳤': 2725, '신규': 2726, '투명': 2727, '흘리': 2728, '선수': 2729, '무거워': 2730, '주눅': 2731, '느껴졌': 2732, '형편없': 2733, '밀렸': 2734, '놓여': 2735, '심해진': 2736, '응급실': 2737, '잘릴': 2738, '특별': 2739, '가을': 2740, '약해서': 2741, '진작': 2742, '방식': 2743, '문득': 2744, '출퇴근': 2745, '아등바등': 2746, '재택근무': 2747, '현금': 2748, '등록': 2749, '낯': 2750, '첫날': 2751, '으론': 2752, '파일': 2753, '고소': 2754, '이라도': 2755, '걱정거리': 2756, '우선': 2757, '돌아다니': 2758, '어버이날': 2759, '도망': 2760, '외근': 2761, '성가': 2762, '시네': 2763, '양가': 2764, '철': 2765, '동시': 2766, '호전': 2767, '들리': 2768, '착각': 2769, '제발': 2770, '매주': 2771, '쫓기': 2772, '명예': 2773, '애정': 2774, '살짝': 2775, '타지': 2776, '외면': 2777, '이간질': 2778, '당선': 2779, '선임': 2780, '얄미워': 2781, '차장': 2782, '연말': 2783, '대할': 2784, '보낸': 2785, '톡': 2786, '살리': 2787, '대장': 2788, '교제': 2789, '미뤄': 2790, '콜레스테롤': 2791, '화풀이': 2792, '커플': 2793, '독서실': 2794, '발전': 2795, '살까': 2796, '흉': 2797, '까봐': 2798, '재미없': 2799, '허약': 2800, '다가와': 2801, '이놈': 2802, '온통': 2803, '가수': 2804, '밀린': 2805, '해온': 2806, '입대': 2807, '가까이': 2808, '불안감': 2809, '깨달': 2810, '마쳤': 2811, '후유증': 2812, '조원': 2813, '올라오': 2814, '공기': 2815, '틀니': 2816, '지불': 2817, '입양': 2818, '빌려간': 2819, '놀렸': 2820, '차렸': 2821, '생리': 2822, '기복': 2823, '변경': 2824, '주제': 2825, '술집': 2826, '양': 2827, '시원': 2828, '여생': 2829, '건망증': 2830, '망해버렸': 2831, '병동': 2832, '꾸짖': 2833, '농사': 2834, '푹': 2835, '미리미리': 2836, '과로': 2837, '신부': 2838, '늦둥이': 2839, '슬퍼하': 2840, '실장': 2841, '난처': 2842, '소화': 2843, '급격히': 2844, '옮긴': 2845, '지향': 2846, '남겨진': 2847, '나올지': 2848, '희망퇴직': 2849, '생길까': 2850, '이익': 2851, '뇌종양': 2852, '지루': 2853, '추가': 2854, '하소연': 2855, '괴로운': 2856, '갈등': 2857, '두려운': 2858, '올까': 2859, '속이': 2860, '간다': 2861, '일억': 2862, '정산': 2863, '불평': 2864, '시집': 2865, '절대로': 2866, '뛰어나': 2867, '슈퍼': 2868, '키울': 2869, '걸릴': 2870, '경쟁사': 2871, '된다니': 2872, '휴일': 2873, '노망': 2874, '댁': 2875, '탐내': 2876, '몽땅': 2877, '부작용': 2878, '통지': 2879, '불량': 2880, '꼼짝': 2881, '장학금': 2882, '승인': 2883, '불면증': 2884, '의문': 2885, '요통': 2886, '화려': 2887, '이겼': 2888, '비하': 2889, '했으면': 2890, '주고받': 2891, '전이': 2892, '끌': 2893, '에스': 2894, '온라인': 2895, '헛살': 2896, '가벼운': 2897, '쓰러진': 2898, '느냐고': 2899, '댔': 2900, '넘기': 2901, '절친': 2902, '연기': 2903, '몰': 2904, '만약': 2905, '내게는': 2906, '완주': 2907, '성질': 2908, '대우': 2909, '서울대': 2910, '달라졌': 2911, '울적': 2912, '헛소문': 2913, '요번': 2914, '합리': 2915, '구속': 2916, '기념일': 2917, '몰라주': 2918, '그럴까': 2919, '잠들': 2920, '임금': 2921, '돌려주': 2922, '편의점': 2923, '기구': 2924, '좁': 2925, '날려': 2926, '끝냈': 2927, '평온': 2928, '후면': 2929, '풀려서': 2930, '끊겨서': 2931, '가출': 2932, '곗돈': 2933, '동성애': 2934, '회원': 2935, '뒤처지': 2936, '때려': 2937, '운': 2938, '하교': 2939, '배치': 2940, '다친': 2941, '결혼식장': 2942, '이제껏': 2943, '감시': 2944, '기준': 2945, '학부모': 2946, '사직서': 2947, '굳이': 2948, '성장': 2949, '어려운데': 2950, '약하': 2951, '합격자': 2952, '날아가': 2953, '관두': 2954, '검': 2955, '뒤늦': 2956, '다닌다고': 2957, '단어': 2958, '무너지': 2959, '타박': 2960, '산다는': 2961, '철수': 2962, '비타민': 2963, '앞서': 2964, '꺼': 2965, '장난감': 2966, '마음껏': 2967, '빵': 2968, '줄까': 2969, '접근': 2970, '백화점': 2971, '설거지': 2972, '거슬려': 2973, '준다는': 2974, '노약': 2975, '자석': 2976, '은사': 2977, '친해진': 2978, '변하': 2979, '변기': 2980, '누명': 2981, '넘어져': 2982, '세금': 2983, '확': 2984, '경쟁': 2985, '스마트폰': 2986, '어떠': 2987, '입장': 2988, '결재': 2989, '도무지': 2990, '도시': 2991, '공허': 2992, '발언': 2993, '부러졌': 2994, '치질': 2995, '전문': 2996, '홍삼': 2997, '최대한': 2998, '줄어드': 2999, '공기업': 3000, '나타나': 3001, '염려': 3002, '탄': 3003, '온대': 3004, '실감': 3005, '라니까': 3006, '떠올라': 3007, '하찮': 3008, '청첩장': 3009, '임용': 3010, '낚시': 3011, '아래': 3012, '적극': 3013, '브랜드': 3014, '혼주': 3015, '못한다고': 3016, '비행기': 3017, '태풍': 3018, '잡혀': 3019, '빌릴': 3020, '남겨': 3021, '약점': 3022, '첫째': 3023, '괴로워서': 3024, '말리': 3025, '그건': 3026, '달라진': 3027, '외도': 3028, '불륜': 3029, '깎': 3030, '한시름': 3031, '주도': 3032, '복용': 3033, '황': 3034, '병세': 3035, '등수': 3036, '시누이': 3037, '두려움': 3038, '알코올': 3039, '넘겨': 3040, '자율': 3041, '말투': 3042, '숨겼': 3043, '망쳐서': 3044, '자연': 3045, '간단': 3046, '어린데': 3047, '벗어날': 3048, '참담': 3049, '졸업식': 3050, '성별': 3051, '시킬': 3052, '아닐지': 3053, '한쪽': 3054, '미련': 3055, '뒷말': 3056, '살날': 3057, '정밀': 3058, '연속': 3059, '소음': 3060, '피로': 3061, '늘어놓': 3062, '충돌': 3063, '먹이': 3064, '난동': 3065, '학벌': 3066, '옮겼': 3067, '옛': 3068, '직급': 3069, '채소': 3070, '퍼센트': 3071, '한대서': 3072, '무서웠': 3073, '큰딸': 3074, '전원주택': 3075, '올라가': 3076, '트라우마': 3077, '일흔': 3078, '퇴임': 3079, '시세': 3080, '중풍': 3081, '여직': 3082, '나빴': 3083, '파산': 3084, '데려와서': 3085, '잊어버렸': 3086, '예금': 3087, '배달': 3088, '알아들': 3089, '상위': 3090, '나올까': 3091, '떠넘겨서': 3092, '공평': 3093, '별일': 3094, '혜택': 3095, '권하': 3096, '폭언': 3097, '대들': 3098, '범인': 3099, '웃음': 3100, '돌아보': 3101, '인맥': 3102, '낙하산': 3103, '해야지': 3104, '맘대로': 3105, '환멸감': 3106, '펴': 3107, '섰': 3108, '자동차': 3109, '분담': 3110, '불렀': 3111, '화분': 3112, '달성': 3113, '판': 3114, '가져왔': 3115, '차질': 3116, '으래': 3117, '저지르': 3118, '멋있': 3119, '거짓': 3120, '다더라': 3121, '뒤통수': 3122, '목적': 3123, '깜빡': 3124, '지지': 3125, '나눌': 3126, '만지': 3127, '닦달': 3128, '넓': 3129, '대해야': 3130, '어르신': 3131, '가져야': 3132, '교과서': 3133, '커지': 3134, '가득': 3135, '일일이': 3136, '워크숍': 3137, '돼지': 3138, '심사': 3139, '너': 3140, '움직일': 3141, '성과급': 3142, '냉장고': 3143, '졸': 3144, '헌신': 3145, '제시': 3146, '제의': 3147, '방치': 3148, '때로': 3149, '관해': 3150, '때린': 3151, '돕': 3152, '목숨': 3153, '망쳐': 3154, '굽': 3155, '시켜야': 3156, '기능': 3157, '옷차림': 3158, '시국': 3159, '는구나': 3160, '무거운': 3161, '벌리': 3162, '의대': 3163, '그랬을까': 3164, '규칙': 3165, '턱없이': 3166, '보통': 3167, '엊그제': 3168, '부턴가': 3169, '모처럼': 3170, '가깝': 3171, '전세금': 3172, '홀가분': 3173, '흥미': 3174, '역할': 3175, '떠': 3176, '심': 3177, '자영업': 3178, '물리': 3179, '과일': 3180, '진절머리': 3181, '순위': 3182, '어려서': 3183, '생일날': 3184, '급': 3185, '잘나': 3186, '지기': 3187, '지나쳤': 3188, '지긋지긋하': 3189, '속도': 3190, '결핵': 3191, '마셔': 3192, '인한': 3193, '작가': 3194, '노름': 3195, '속마음': 3196, '농담': 3197, '내버렸': 3198, '떠나가': 3199, '충당': 3200, '가발': 3201, '사놓': 3202, '복학': 3203, '교사': 3204, '하래': 3205, '과자': 3206, '문병': 3207, '따돌린': 3208, '겨울': 3209, '면허': 3210, '깨끗': 3211, '막혀': 3212, '썩': 3213, '장모님': 3214, '날리': 3215, '미쳐': 3216, '선뜻': 3217, '빼앗': 3218, '증거': 3219, '숨겨': 3220, '그분': 3221, '채택': 3222, '후원': 3223, '취하': 3224, '아깝': 3225, '진상': 3226, '음주운전': 3227, '기뻐하': 3228, '원해': 3229, '배정': 3230, '돌리': 3231, '부러우': 3232, '임종': 3233, '가져오': 3234, '나온다고': 3235, '설계사': 3236, '낙': 3237, '세입자': 3238, '잦아졌': 3239, '지켜야': 3240, '아주머니': 3241, '챙겨야': 3242, '못난': 3243, '신기': 3244, '선': 3245, '온다': 3246, '간경변증': 3247, '마신': 3248, '들키': 3249, '등교': 3250, '다더니': 3251, '수면': 3252, '예식장': 3253, '폐업': 3254, '정해서': 3255, '허탈': 3256, '보호자': 3257, '영정': 3258, '중독': 3259, '어휴': 3260, '틀려서': 3261, '들켜서': 3262, '야간': 3263, '찾아갔': 3264, '직장인': 3265, '부유': 3266, '머릿속': 3267, '밝히': 3268, '이끌': 3269, '노릇': 3270, '사위': 3271, '끊긴': 3272, '필라테스': 3273, '침': 3274, '끝났': 3275, '스타': 3276, '나눴': 3277, '휴': 3278, '증후군': 3279, '유부남': 3280, '거동': 3281, '징그럽': 3282, '찢': 3283, '눈치채': 3284, '정답': 3285, '다치': 3286, '버렸으면': 3287, '마음먹': 3288, '위내시경': 3289, '해지': 3290, '안타깝': 3291, '는대': 3292, '사항': 3293, '적자': 3294, '다툰': 3295, '예물': 3296, '다짜고짜': 3297, '남성': 3298, '성추행': 3299, '전날': 3300, '백혈병': 3301, '동거': 3302, '접촉': 3303, '꾀병': 3304, '수상': 3305, '저혈압': 3306, '끓여': 3307, '자세': 3308, '장가': 3309, '될까봐': 3310, '유': 3311, '튜버': 3312, '굶': 3313, '돌아갈': 3314, '붙잡': 3315, '기본': 3316, '끝날': 3317, '그날': 3318, '이모': 3319, '그토록': 3320, '교류': 3321, '피했': 3322, '망설여': 3323, '어울려': 3324, '차린': 3325, '욱': 3326, '여겨': 3327, '자네': 3328, '수준': 3329, '여섯': 3330, '떠넘겨': 3331, '스무': 3332, '꿈꾸': 3333, '뒷담화': 3334, '보조': 3335, '바뀐': 3336, '췌장암': 3337, '입상': 3338, '불리': 3339, '서러운데': 3340, '야단': 3341, '낭비': 3342, '모아뒀': 3343, '화장': 3344, '가망': 3345, '순': 3346, '상당히': 3347, '쏙': 3348, '살갑': 3349, '걸어도': 3350, '내려갔': 3351, '는커녕': 3352, '수중': 3353, '합의': 3354, '처': 3355, '자원': 3356, '자란': 3357, '끼니': 3358, '액수': 3359, '지기가': 3360, '쓰레기통': 3361, '삼촌': 3362, '그만큼': 3363, '용': 3364, '푸': 3365, '우린': 3366, '간병인': 3367, '막내아들': 3368, '만사': 3369, '수급': 3370, '가로챘': 3371, '폭발': 3372, '몸매': 3373, '정해': 3374, '악성': 3375, '기숙사': 3376, '증세': 3377, '제자': 3378, '중단': 3379, '태어날': 3380, '개선': 3381, '살아오': 3382, '조퇴': 3383, '도시락': 3384, '출근길': 3385, '놓이': 3386, '깼': 3387, '넘어갔': 3388, '된다면': 3389, '콘서트': 3390, '수령': 3391, '보증금': 3392, '한다면': 3393, '검토': 3394, '웨딩': 3395, '슬퍼져': 3396, '부상': 3397, '부렸': 3398, '성형': 3399, '비켜': 3400, '으셨': 3401, '토막': 3402, '놀이': 3403, '유튜브': 3404, '더라면': 3405, '어리': 3406, '보단': 3407, '급히': 3408, '경비': 3409, '경매': 3410, '감각': 3411, '한꺼번에': 3412, '졸업반': 3413, '실려': 3414, '흡연': 3415, '오류': 3416, '한약': 3417, '벌레': 3418, '설계': 3419, '활력': 3420, '소개서': 3421, '바랐': 3422, '고는': 3423, '배워야': 3424, '물려줄': 3425, '깁스': 3426, '손님': 3427, '침침': 3428, '꼬투리': 3429, '산후': 3430, '빈혈': 3431, '텅': 3432, '돌림': 3433, '내려오': 3434, '정치': 3435, '드릴': 3436, '자며': 3437, '소극': 3438, '횡령': 3439, '지도': 3440, '골': 3441, '동업자': 3442, '오토바이': 3443, '몰라도': 3444, '말썽': 3445, '이겨낼': 3446, '상가': 3447, '소변': 3448, '최악': 3449, '멍청': 3450, '멈춰': 3451, '기도': 3452, '신다고': 3453, '하나하나': 3454, '더워서': 3455, '캄캄': 3456, '대처': 3457, '공개': 3458, '직종': 3459, '독서': 3460, '발작': 3461, '접어들': 3462, '플란트': 3463, '애쓰': 3464, '망가뜨렸': 3465, '어려워하': 3466, '물러나': 3467, '고자': 3468, '쓰려': 3469, '받아들일': 3470, '섞': 3471, '망가진': 3472, '음성': 3473, '에이': 3474, '자취방': 3475, '친해질': 3476, '석': 3477, '호스피스': 3478, '혹': 3479, '꾸지람': 3480, '주임': 3481, '체육복': 3482, '처남': 3483, '은근': 3484, '정지': 3485, '답안': 3486, '네트워크': 3487, '아버님': 3488, '시스템': 3489, '계실': 3490, '인하': 3491, '심지어': 3492, '미': 3493, '알레르기': 3494, '내리': 3495, '한다니까': 3496, '틀림없': 3497, '뀌': 3498, '이룰': 3499, '뜸': 3500, '삭감': 3501, '치이': 3502, '대중교통': 3503, '처가': 3504, '이따금': 3505, '이르': 3506, '지나치': 3507, '노여워': 3508, '소견': 3509, '가사': 3510, '여태껏': 3511, '날아갔': 3512, '화재': 3513, '겉도': 3514, '주장': 3515, '조르': 3516, '때려치우': 3517, '떠올라서': 3518, '호텔': 3519, '모였': 3520, '폐경': 3521, '약국': 3522, '접수': 3523, '날씬': 3524, '감격': 3525, '권고': 3526, '외로울': 3527, '질책': 3528, '산더미': 3529, '입덧': 3530, '뽑혔': 3531, '든다고': 3532, '유출': 3533, '절약': 3534, '상여금': 3535, '시합': 3536, '버거워': 3537, '누락': 3538, '생산': 3539, '으로부터': 3540, '워낙': 3541, '서서히': 3542, '피워': 3543, '지나갔': 3544, '마주': 3545, '놀이공원': 3546, '강도': 3547, '딸내미': 3548, '뒤집': 3549, '주머니': 3550, '뒷담': 3551, '걸려도': 3552, '긁': 3553, '확진': 3554, '별것': 3555, '휴식': 3556, '지식': 3557, '가리': 3558, '명문': 3559, '제품': 3560, '커녕': 3561, '과중': 3562, '절반': 3563, '돌아와': 3564, '무심': 3565, '놀림거리': 3566, '나빠진': 3567, '정정': 3568, '여력': 3569, '유능': 3570, '돌아와서': 3571, '시계': 3572, '복': 3573, '지방대': 3574, '세우': 3575, '가담': 3576, '겸': 3577, '운명': 3578, '학대': 3579, '손목': 3580, '바다': 3581, '더라니까': 3582, '승낙': 3583, '소문난': 3584, '아요': 3585, '휴학': 3586, '덮': 3587, '올라와': 3588, '빈곤': 3589, '심리': 3590, '인스턴트': 3591, '과하': 3592, '반지': 3593, '즙': 3594, '편해서': 3595, '노안': 3596, '헷갈려': 3597, '대형': 3598, '수당': 3599, '새엄마': 3600, '작품': 3601, '이중': 3602, '퍼트리': 3603, '조롱': 3604, '뜻': 3605, '담': 3606, '받아들이': 3607, '느낄': 3608, '턱': 3609, '깨어나': 3610, '서랍': 3611, '들어줄': 3612, '실제': 3613, '독거': 3614, '마이너스': 3615, '실망감': 3616, '고작': 3617, '인력': 3618, '충원': 3619, '보도': 3620, '물론': 3621, '범죄': 3622, '효율': 3623, '투성이': 3624, '돌려받': 3625, '월요일': 3626, '말싸움': 3627, '가려': 3628, '상관없': 3629, '끼워': 3630, '들어올': 3631, '상무': 3632, '끊임없이': 3633, '미세먼지': 3634, '기저귀': 3635, '공': 3636, '체육관': 3637, '그만둘': 3638, '뺨': 3639, '모를': 3640, '해코지': 3641, '느니': 3642, '연장': 3643, '기관지염': 3644, '욕설': 3645, '당일': 3646, '막혀서': 3647, '어쩌다': 3648, '손잡': 3649, '에다': 3650, '메신저': 3651, '강사': 3652, '미움': 3653, '맡겨서': 3654, '즐거웠': 3655, '신났': 3656, '텃세': 3657, '무겁': 3658, '일진': 3659, '그만둘까': 3660, '동의': 3661, '만점': 3662, '꾸중': 3663, '기억력': 3664, '가계': 3665, '위급': 3666, '빈털터리': 3667, '불화': 3668, '대부분': 3669, '와중': 3670, '교내': 3671, '방역': 3672, '도망쳤': 3673, '약해져서': 3674, '현관': 3675, '깨어날': 3676, '죽이': 3677, '근력': 3678, '노리': 3679, '빠진': 3680, '고쳐': 3681, '계주': 3682, '새워': 3683, '망한': 3684, '토익': 3685, '징그러워': 3686, '대기': 3687, '만남': 3688, '따돌릴': 3689, '스타일': 3690, '부잣집': 3691, '문제집': 3692, '제주도': 3693, '세웠': 3694, '택배': 3695, '그럼': 3696, '떡': 3697, '하마터면': 3698, '말대꾸': 3699, '치르': 3700, '인수인계': 3701, '은커녕': 3702, '어떨지': 3703, '내려': 3704, '권태기': 3705, '심장병': 3706, '전역': 3707, '위염': 3708, '괜한': 3709, '훌륭': 3710, '질러서': 3711, '편찮': 3712, '계셔': 3713, '쓰여서': 3714, '갑작': 3715, '축': 3716, '리': 3717, '연수': 3718, '바빴': 3719, '계획서': 3720, '터놓': 3721, '아가씨': 3722, '엄청난': 3723, '호감': 3724, '스러워져': 3725, '버틸': 3726, '극복': 3727, '저렇게': 3728, '맞춰서': 3729, '장만': 3730, '할까봐': 3731, '쉰': 3732, '죄다': 3733, '범위': 3734, '오후': 3735, '스카우트': 3736, '거지': 3737, '촬영': 3738, '약사': 3739, '혼날까': 3740, '소수자': 3741, '낼까': 3742, '통쾌': 3743, '견': 3744, '상냥': 3745, '무급': 3746, '줄지': 3747, '과실': 3748, '틀어박혀': 3749, '친해서': 3750, '로워서': 3751, '마실': 3752, '넘겼': 3753, '고마워서': 3754, '급해': 3755, '떨려서': 3756, '시각': 3757, '피아노': 3758, '암울': 3759, '놔두': 3760, '주름': 3761, '즐길': 3762, '살아갈지': 3763, '스러웠어': 3764, '빌려갔': 3765, '제약': 3766, '본다고': 3767, '허세': 3768, '주의': 3769, '모인': 3770, '낯설': 3771, '어떨': 3772, '응대': 3773, '깜빡하': 3774, '청할': 3775, '드려야': 3776, '뛰어난': 3777, '신혼집': 3778, '본가': 3779, '챙겼': 3780, '문신': 3781, '나빠져': 3782, '낙방': 3783, '는다니': 3784, '연루': 3785, '지켜서': 3786, '협심증': 3787, '병치레': 3788, '가식': 3789, '각종': 3790, '모델': 3791, '물혹': 3792, '훔치': 3793, '동영상': 3794, '터': 3795, '견제': 3796, '이길': 3797, '뱉': 3798, '정확히': 3799, '놔': 3800, '그램': 3801, '풍족': 3802, '위층': 3803, '그거': 3804, '소리치': 3805, '주저앉': 3806, '팔리': 3807, '식이': 3808, '총무': 3809, '나아질': 3810, '간절': 3811, '관해서': 3812, '유급': 3813, '구두': 3814, '다루': 3815, '정직': 3816, '다신': 3817, '뒷전': 3818, '원만': 3819, '그만둔': 3820, '해방': 3821, '서러워서': 3822, '기립성': 3823, '엄살': 3824, '네요': 3825, '잘생긴': 3826, '위태': 3827, '경과': 3828, '전기세': 3829, '미처': 3830, '식장': 3831, '쑤시': 3832, '오지': 3833, '율': 3834, '퍼뜨리': 3835, '마디': 3836, '쓰러져': 3837, '센': 3838, '소일거리': 3839, '별다른': 3840, '퇴근길': 3841, '사야': 3842, '공격': 3843, '수십': 3844, '계신': 3845, '부서장': 3846, '느려': 3847, '공유': 3848, '교복': 3849, '앞집': 3850, '경제력': 3851, '따라서': 3852, '치러': 3853, '보복': 3854, '매력': 3855, '들어갈수록': 3856, '할텐데': 3857, '덩달': 3858, '올려서': 3859, '따라다니': 3860, '내지': 3861, '뭘까': 3862, '꽃다발': 3863, '당구': 3864, '대꾸': 3865, '맛없': 3866, '놀이터': 3867, '마주쳤': 3868, '굳': 3869, '볼지': 3870, '누군지': 3871, '멍': 3872, '임기': 3873, '모른다고': 3874, '재무': 3875, '맡긴': 3876, '디자인': 3877, '다더군': 3878, '방관': 3879, '겠지': 3880, '산후조리원': 3881, '소송': 3882, '더듬': 3883, '지연': 3884, '가계부': 3885, '평판': 3886, '슬퍼지': 3887, '자궁': 3888, '무뚝뚝': 3889, '소득': 3890, '골절': 3891, '보살펴': 3892, '예고': 3893, '따라잡': 3894, '담당자': 3895, '반겨': 3896, '민간': 3897, '다녀와서': 3898, '마땅히': 3899, '는다면': 3900, '오진': 3901, '넘쳐': 3902, '관뒀': 3903, '증언': 3904, '십년지기': 3905, '고민거리': 3906, '원금': 3907, '교통': 3908, '저기': 3909, '하객': 3910, '공간': 3911, '지난해': 3912, '영원히': 3913, '배울': 3914, '물어볼': 3915, '동년배': 3916, '대상자': 3917, '식습관': 3918, '공경': 3919, '이렇': 3920, '부를': 3921, '중환자실': 3922, '놀랍': 3923, '쟤': 3924, '올린': 3925, '대소변': 3926, '수술실': 3927, '완쾌': 3928, '매월': 3929, '곧바로': 3930, '쟁이': 3931, '예순': 3932, '적적': 3933, '엘리베이터': 3934, '호흡기': 3935, '탕': 3936, '비실': 3937, '복귀': 3938, '데려오': 3939, '들려서': 3940, '버릴까': 3941, '카카오톡': 3942, '너무너무': 3943, '미운': 3944, '놀이동산': 3945, '종목': 3946, '공사': 3947, '언성': 3948, '주사기': 3949, '볼일': 3950, '비위': 3951, '액': 3952, '공동': 3953, '더럽': 3954, '체크': 3955, '가르치': 3956, '되찾': 3957, '염려증': 3958, '한계': 3959, '위장': 3960, '간질': 3961, '뮤지컬': 3962, '느리': 3963, '방지': 3964, '꼼꼼': 3965, '힘든지': 3966, '잘리': 3967, '예산': 3968, '단칸방': 3969, '지원서': 3970, '갑': 3971, '크리스마스': 3972, '부린다고': 3973, '구급차': 3974, '소릴': 3975, '늘렸': 3976, '장거리': 3977, '쪽지': 3978, '구역질': 3979, '주부': 3980, '절': 3981, '라지만': 3982, '클럽': 3983, '선정': 3984, '진도': 3985, '상관': 3986, '실업': 3987, '소문나': 3988, '들킨': 3989, '낯선': 3990, '터지': 3991, '담사': 3992, '천': 3993, '난청': 3994, '딴': 3995, '폈': 3996, '바꿨': 3997, '으려나': 3998, '퇴직자': 3999, '뺏기': 4000, '바닥나': 4001, '요가': 4002, '가만두': 4003, '동서': 4004, '거두': 4005, '바깥': 4006, '제멋대로': 4007, '사채': 4008, '조치': 4009, '올수록': 4010, '심부': 4011, '동성': 4012, '떠나보내': 4013, '구해서': 4014, '예쁨': 4015, '엠티': 4016, '내쫓': 4017, '터무니없이': 4018, '벽': 4019, '이곳': 4020, '우습': 4021, '체계': 4022, '불공평': 4023, '스킨십': 4024, '출가': 4025, '주선': 4026, '준다는데': 4027, '받아들여': 4028, '학급': 4029, '미대': 4030, '복도': 4031, '가라앉': 4032, '구토': 4033, '해뒀': 4034, '자랐': 4035, '오디션': 4036, '정성껏': 4037, '참으로': 4038, '들려': 4039, '일으키': 4040, '오줌': 4041, '대견': 4042, '벅차': 4043, '외국인': 4044, '뺐': 4045, '유치': 4046, '노크': 4047, '활발': 4048, '부딪혀': 4049, '부위': 4050, '처량': 4051, '소셜': 4052, '완벽히': 4053, '걸음': 4054, '출발': 4055, '주방': 4056, '들여다보': 4057, '저금통': 4058, '소파': 4059, '뵐': 4060, '영순': 4061, '취한': 4062, '체질': 4063, '대입': 4064, '밥상': 4065, '준비물': 4066, '판단': 4067, '이웃집': 4068, '졸라서': 4069, '이래서': 4070, '몇몇': 4071, '따라야': 4072, '마취': 4073, '드레스': 4074, '들어야': 4075, '남기': 4076, '수월': 4077, '동물': 4078, '시험관': 4079, '쌓였': 4080, '실험': 4081, '기쁨': 4082, '확정': 4083, '퍼뜨렸': 4084, '미친': 4085, '해버렸': 4086, '동결': 4087, '올릴': 4088, '안경': 4089, '해라': 4090, '비서': 4091, '따라갈': 4092, '제대': 4093, '납품': 4094, '망신': 4095, '구해야': 4096, '챙길': 4097, '고칠': 4098, '빼앗겼': 4099, '공휴일': 4100, '으나': 4101, '는가': 4102, '땀': 4103, '흘려서': 4104, '샤워': 4105, '마찰': 4106, '꾸리': 4107, '양말': 4108, '이과': 4109, '연구': 4110, '주어진': 4111, '빼먹': 4112, '변했': 4113, '배워': 4114, '이뤄': 4115, '큰아이': 4116, '축복': 4117, '철저히': 4118, '끼어들': 4119, '매': 4120, '준다': 4121, '무인도': 4122, '고발': 4123, '방광염': 4124, '챙긴': 4125, '친동생': 4126, '언행': 4127, '비아': 4128, '냥': 4129, '부진': 4130, '떠오르': 4131, '아들딸': 4132, '체험': 4133, '보일까': 4134, '찼': 4135, '찬': 4136, '심했': 4137, '비록': 4138, '저리': 4139, '했어도': 4140, '열렸': 4141, '깨졌': 4142, '창고': 4143, '변변': 4144, '위협': 4145, '볼펜': 4146, '각': 4147, '냐면서': 4148, '식욕': 4149, '채널': 4150, '실컷': 4151, '외부': 4152, '위자료': 4153, '밑': 4154, '내줘서': 4155, '이걸로': 4156, '땅값': 4157, '기술직': 4158, '언짢': 4159, '접어드': 4160, '통금': 4161, '프로게이머': 4162, '숨겨서': 4163, '문제없': 4164, '매니저': 4165, '건강히': 4166, '칸': 4167, '큰형': 4168, '까진': 4169, '기피': 4170, '귀가': 4171, '장염': 4172, '경비원': 4173, '꼬박꼬박': 4174, '쌍둥이': 4175, '던져': 4176, '쥐': 4177, '소비': 4178, '부지런히': 4179, '채우': 4180, '대사': 4181, '바꿔서': 4182, '층간': 4183, '괴로웠': 4184, '매달리': 4185, '극단': 4186, '일거리': 4187, '젊음': 4188, '치워': 4189, '돈벌이': 4190, '닿': 4191, '다녀도': 4192, '게이트볼': 4193, '달라지': 4194, '치마': 4195, '정장': 4196, '필통': 4197, '반영': 4198, '실내': 4199, '낡': 4200, '줘도': 4201, '열정': 4202, '주로': 4203, '노래방': 4204, '불임': 4205, '재판': 4206, '병마': 4207, '간절히': 4208, '안마기': 4209, '강화': 4210, '된다며': 4211, '공지': 4212, '꿨': 4213, '모범': 4214, '원해서': 4215, '역질': 4216, '긍정': 4217, '어지럽': 4218, '턱걸이': 4219, '모을': 4220, '따지': 4221, '어지러워서': 4222, '대했': 4223, '모집': 4224, '무력': 4225, '연극': 4226, '데뷔': 4227, '뻐근': 4228, '당할까봐': 4229, '미역국': 4230, '다던데': 4231, '과도': 4232, '정신없': 4233, '배웠': 4234, '아랫집': 4235, '났었': 4236, '선글라스': 4237, '비해서': 4238, '몫': 4239, '야구': 4240, '그린': 4241, '침체': 4242, '미흡': 4243, '도와줘': 4244, '대가': 4245, '띄': 4246, '시달려서': 4247, '한텐': 4248, '아쉬웠': 4249, '나을': 4250, '누굴': 4251, '성실히': 4252, '이럴까': 4253, '외톨': 4254, '주간': 4255, '정색': 4256, '탁구': 4257, '성전환': 4258, '들통': 4259, '날려서': 4260, '류머티즘': 4261, '유전': 4262, '유난': 4263, '괴로워하': 4264, '어라': 4265, '수막염': 4266, '열사병': 4267, '아껴서': 4268, '방관자': 4269, '말없이': 4270, '잊어버리': 4271, '혈변': 4272, '분배': 4273, '짜리': 4274, '원수': 4275, '꾸미': 4276, '뒤지': 4277, '월급날': 4278, '번거로워': 4279, '돌려서': 4280, '흥청망청': 4281, '혈액': 4282, '몰려': 4283, '쌓인': 4284, '하반기': 4285, '찾아가': 4286, '늙은이': 4287, '유리': 4288, '채점': 4289, '기다려야': 4290, '신데': 4291, '유럽': 4292, '겉돌': 4293, '경화': 4294, '반년': 4295, '손찌검': 4296, '경조사': 4297, '생겨도': 4298, '종교': 4299, '평': 4300, '수다': 4301, '두려워서': 4302, '기증': 4303, '잔병치레': 4304, '내일모레': 4305, '욕했': 4306, '초등학생': 4307, '산업': 4308, '뽀뽀': 4309, '피드백': 4310, '식은땀': 4311, '부러웠': 4312, '평화': 4313, '질투심': 4314, '측정': 4315, '후원금': 4316, '쏘': 4317, '소름': 4318, '드라이브': 4319, '시끄러워서': 4320, '변호사': 4321, '이어지': 4322, '최저': 4323, '진찰': 4324, '전원': 4325, '급성': 4326, '괴로울': 4327, '층': 4328, '헤어져': 4329, '걸어가': 4330, '거야': 4331, '으로서': 4332, '분하': 4333, '시달려': 4334, '야유회': 4335, '유부녀': 4336, '골치': 4337, '근속': 4338, '더운': 4339, '차리': 4340, '가정폭력': 4341, '야식': 4342, '뻔히': 4343, '다닌대': 4344, '시어머님': 4345, '어린애': 4346, '매점': 4347, '이등': 4348, '바지': 4349, '요샌': 4350, '두려웠': 4351, '성향': 4352, '낯가림': 4353, '꼬여': 4354, '친목': 4355, '얻어먹': 4356, '실습': 4357, '버튼': 4358, '뚜렷': 4359, '배고프': 4360, '뒤처진': 4361, '깜빡깜빡': 4362, '메일': 4363, '참가': 4364, '던졌': 4365, '바르': 4366, '팀워크': 4367, '께선': 4368, '이달': 4369, '상심': 4370, '정당': 4371, '말라': 4372, '고지식': 4373, '눈빛': 4374, '시끄러워': 4375, '신약': 4376, '승무원': 4377, '차림': 4378, '퇴식': 4379, '고독사': 4380, '시아버지': 4381, '수발': 4382, '털어놨': 4383, '떴': 4384, '여러모로': 4385, '압류': 4386, '올바른': 4387, '저금': 4388, '달라져서': 4389, '자제': 4390, '그걸로': 4391, '제거': 4392, '보살필': 4393, '잡아먹': 4394, '트림': 4395, '안과': 4396, '경쟁자': 4397, '찾아올까': 4398, '전문가': 4399, '일어난': 4400, '기밀': 4401, '차마': 4402, '챙겨줘': 4403, '흔쾌히': 4404, '할멈': 4405, '쓰러질': 4406, '나인데': 4407, '지방간': 4408, '었었': 4409, '해줘서': 4410, '망칠': 4411, '아플까': 4412, '감염': 4413, '임대': 4414, '어느덧': 4415, '퇴행': 4416, '장수': 4417, '소질': 4418, '알렸': 4419, '위해선': 4420, '노년기': 4421, '웃음거리': 4422, '단속': 4423, '불법': 4424, '치여서': 4425, '간염': 4426, '빨래': 4427, '속여': 4428, '살길': 4429, '주차': 4430, '점검': 4431, '미용실': 4432, '옮': 4433, '노부부': 4434, '아흔': 4435, '퍼붓': 4436, '전담': 4437, '밀치': 4438, '상속': 4439, '는다': 4440, '간경': 4441, '알려질까': 4442, '고르': 4443, '찾아올': 4444, '찾아뵙': 4445, '다양': 4446, '보청기': 4447, '설': 4448, '청춘': 4449, '깨우': 4450, '꿇': 4451, '연락처': 4452, '결항': 4453, '자도': 4454, '연령': 4455, '내버려': 4456, '가져간': 4457, '물품': 4458, '내색': 4459, '바쳤': 4460, '회계사': 4461, '경시대회': 4462, '화났': 4463, '이룬': 4464, '표': 4465, '짝꿍': 4466, '예단': 4467, '틀려': 4468, '유전자': 4469, '수고': 4470, '소풍': 4471, '점원': 4472, '꼴찌': 4473, '방과': 4474, '파킨슨병': 4475, '터무니없': 4476, '토': 4477, '나온다': 4478, '외국어': 4479, '절제': 4480, '귀촌': 4481, '홧김': 4482, '망친': 4483, '끊기': 4484, '어쩐지': 4485, '면박': 4486, '관리사': 4487, '삐': 4488, '적당히': 4489, '도리어': 4490, '이러다': 4491, '기에': 4492, '깔끔': 4493, '능률': 4494, '허가': 4495, '보유': 4496, '권위': 4497, '보채': 4498, '극도': 4499, '자국': 4500, '단다': 4501, '유난히': 4502, '나타났': 4503, '잃어버려서': 4504, '놔야': 4505, '상쾌': 4506, '용품': 4507, '도우미': 4508, '약해졌': 4509, '알아듣': 4510, '알려줘': 4511, '흐뭇': 4512, '연세': 4513, '저렇': 4514, '정확': 4515, '음직': 4516, '과학': 4517, '찢어질': 4518, '설사': 4519, '뺏겼': 4520, '패혈증': 4521, '다닌다는': 4522, '깨지': 4523, '쌓': 4524, '가짜': 4525, '맥주': 4526, '넘어질': 4527, '써버려서': 4528, '규모': 4529, '이석': 4530, '창': 4531, '어두워서': 4532, '구석구석': 4533, '들였': 4534, '놓쳐서': 4535, '병가': 4536, '깜박': 4537, '모자': 4538, '게으르': 4539, '순조': 4540, '실태': 4541, '창문': 4542, '살맛': 4543, '독신': 4544, '고사하고': 4545, '수습': 4546, '예뻐해서': 4547, '살찌': 4548, '경향': 4549, '평일': 4550, '키스': 4551, '망설이': 4552, '경영': 4553, '어울릴': 4554, '엉뚱': 4555, '반가웠': 4556, '일지': 4557, '양다리': 4558, '빠짐없이': 4559, '틀리': 4560, '합의금': 4561, '나잇살': 4562, '이래도': 4563, '기쁠': 4564, '나날': 4565, '홍수': 4566, '말문': 4567, '머리숱': 4568, '정신과': 4569, '희': 4570, '귀병': 4571, '설득': 4572, '한다는데': 4573, '월': 4574, '좋아할': 4575, '관리자': 4576, '크기': 4577, '모금': 4578, '움큼': 4579, '정반대': 4580, '왔었': 4581, '내려서': 4582, '추운': 4583, '허': 4584, '간다는': 4585, '폐결핵': 4586, '맡길': 4587, '최신형': 4588, '해봐도': 4589, '마주쳐서': 4590, '모욕감': 4591, '부러운': 4592, '쳐다봐서': 4593, '자르': 4594, '최신': 4595, '수리비': 4596, '잡일': 4597, '대수롭': 4598, '기존': 4599, '피피티': 4600, '트러블': 4601, '밟': 4602, '연휴': 4603, '한평생': 4604, '내밀': 4605, '거들떠': 4606, '향해': 4607, '어기': 4608, '늘어났': 4609, '티격태격': 4610, '접종': 4611, '입맛': 4612, '비웠': 4613, '거꾸로': 4614, '각오': 4615, '실제로': 4616, '구한': 4617, '아이고': 4618, '부축': 4619, '숨겨야': 4620, '마주친': 4621, '옥상': 4622, '꼴등': 4623, '금상': 4624, '밀쳐': 4625, '다쳐': 4626, '거둘': 4627, '완료': 4628, '가시': 4629, '춤': 4630, '악한': 4631, '져야': 4632, '텃밭': 4633, '멸시': 4634, '놓인': 4635, '구질구질': 4636, '옛말': 4637, '뇌경색': 4638, '종업원': 4639, '베풀': 4640, '하굣길': 4641, '뒤쳐지': 4642, '적어지': 4643, '불치병': 4644, '나았': 4645, '똑똑': 4646, '감옥': 4647, '끄': 4648, '넘치': 4649, '버럭': 4650, '오만': 4651, '응급': 4652, '먹먹': 4653, '당한다고': 4654, '뜬': 4655, '어긋나': 4656, '결과물': 4657, '부정맥': 4658, '사돈댁': 4659, '지수': 4660, '일기장': 4661, '든다는': 4662, '개운': 4663, '오른': 4664, '꺼리': 4665, '수년': 4666, '취득': 4667, '잔액': 4668, '성인병': 4669, '베꼈': 4670, '선언': 4671, '뒷이야기': 4672, '이미지': 4673, '실명': 4674, '볶': 4675, '기일': 4676, '꽉': 4677, '추억': 4678, '어쩌다가': 4679, '더러워서': 4680, '버겁': 4681, '호들갑': 4682, '만났었': 4683, '화낸': 4684, '뜬금없이': 4685, '낙심': 4686, '주목': 4687, '임산부': 4688, '언쟁': 4689, '쌀': 4690, '가벼워': 4691, '살걸': 4692, '쫓겨날': 4693, '준다던': 4694, '핵심': 4695, '유쾌': 4696, '환불': 4697, '해산물': 4698, '경고': 4699, '눌렀': 4700, '트레이너': 4701, '터졌': 4702, '인색': 4703, '성가셔서': 4704, '엄격': 4705, '다가왔': 4706, '그나마': 4707, '올라왔': 4708, '맴돌': 4709, '멋지': 4710, '이루어지': 4711, '떠올랐': 4712, '말렸': 4713, '재료': 4714, '안절부절': 4715, '어땠을까': 4716, '지켜볼': 4717, '노래자랑': 4718, '모질': 4719, '아팠으면': 4720, '보조제': 4721, '화난다': 4722, '갑상선': 4723, '김치': 4724, '도덕': 4725, '현': 4726, '원피스': 4727, '부고': 4728, '누워서': 4729, '전기': 4730, '시급': 4731, '학력': 4732, '메뉴': 4733, '어려워져': 4734, '들여서': 4735, '기어코': 4736, '와준': 4737, '다녀올': 4738, '져서인지': 4739, '중국': 4740, '부도나': 4741, '진다는': 4742, '캐나다': 4743, '된다니까': 4744, '쳐다봐': 4745, '결석': 4746, '아홉': 4747, '캐묻': 4748, '금요일': 4749, '해치': 4750, '서슴없이': 4751, '사업체': 4752, '답변': 4753, '알아봐': 4754, '멋대로': 4755, '사생활': 4756, '힘내': 4757, '따를': 4758, '에어컨': 4759, '토가': 4760, '극심': 4761, '툭툭': 4762, '전쟁': 4763, '뒹굴': 4764, '그러나': 4765, '당할지': 4766, '제안서': 4767, '시설': 4768, '동': 4769, '와야': 4770, '편두통': 4771, '꿀': 4772, '편해진': 4773, '전하': 4774, '셀': 4775, '챙겨서': 4776, '기증자': 4777, '프랜차이즈': 4778, '해놨': 4779, '기관지': 4780, '세워': 4781, '위아래': 4782, '와버렸': 4783, '냉전': 4784, '했으니': 4785, '밀': 4786, '납골당': 4787, '땄': 4788, '부산': 4789, '조깅': 4790, '주년': 4791, '장가가': 4792, '막말': 4793, '돌봐야': 4794, '숨쉬기': 4795, '달라져': 4796, '의논': 4797, '양복': 4798, '저항': 4799, '석류': 4800, '취향': 4801, '국내': 4802, '씀씀이': 4803, '손바닥': 4804, '사후': 4805, '해둘': 4806, '마구': 4807, '음료수': 4808, '흘렸': 4809, '고정': 4810, '축제': 4811, '노여워하': 4812, '장난치': 4813, '오락가락': 4814, '경치': 4815, '정학': 4816, '운동장': 4817, '치고': 4818, '다시피': 4819, '여의치': 4820, '실종': 4821, '해당': 4822, '어처구니': 4823, '기재': 4824, '주네': 4825, '아토피': 4826, '자극': 4827, '뺑소니': 4828, '고대': 4829, '상환': 4830, '앞당기': 4831, '양육비': 4832, '뵈': 4833, '딱히': 4834, '야호': 4835, '전망': 4836, '아마도': 4837, '떠나갔': 4838, '승승장구': 4839, '자면': 4840, '민폐': 4841, '복습': 4842, '상담원': 4843, '혼난': 4844, '캠프': 4845, '보수': 4846, '즐겨': 4847, '근심': 4848, '갑갑': 4849, '뚝': 4850, '아파지': 4851, '필름': 4852, '멀리서': 4853, '보답': 4854, '뱃속': 4855, '여든': 4856, '열받': 4857, '낄': 4858, '박람회': 4859, '영영': 4860, '빠져야': 4861, '지친': 4862, '셋': 4863, '당직': 4864, '악취': 4865, '결근': 4866, '지장': 4867, '매형': 4868, '배고파서': 4869, '숙취': 4870, '코골이': 4871, '주웠': 4872, '실례': 4873, '진다고': 4874, '부딪히': 4875, '전원생활': 4876, '재력': 4877, '영희': 4878, '라곤': 4879, '사수가': 4880, '적막': 4881, '튼튼': 4882, '건의': 4883, '지켜봐야': 4884, '만년': 4885, '파악': 4886, '언젠데': 4887, '필수': 4888, '몰라라': 4889, '발휘': 4890, '어려우': 4891, '밭': 4892, '독차지': 4893, '커갈수록': 4894, '태산': 4895, '축가': 4896, '쑤셔': 4897, '불친절': 4898, '가습기': 4899, '이웃들이': 4900, '웬': 4901, '밥맛': 4902, '느낀': 4903, '화낼': 4904, '불량자': 4905, '놀랄': 4906, '찬성': 4907, '둘러보': 4908, '헬스클럽': 4909, '단벌': 4910, '신사': 4911, '꽃': 4912, '고급': 4913, '때릴': 4914, '쓴다고': 4915, '여겨서': 4916, '책임질': 4917, '과로사': 4918, '업': 4919, '씹': 4920, '툴툴거렸': 4921, '편입': 4922, '그이': 4923, '차여서': 4924, '안일': 4925, '찝찝': 4926, '흡연자': 4927, '휘두르': 4928, '몰려와': 4929, '잠자': 4930, '수많': 4931, '실지': 4932, '고령': 4933, '남긴': 4934, '황망': 4935, '잠수': 4936, '잇몸': 4937, '지망': 4938, '품절': 4939, '충고': 4940, '호르몬': 4941, '내려와서': 4942, '실은': 4943, '닦': 4944, '흉보': 4945, '기러기': 4946, '넘어지': 4947, '엎': 4948, '수영장': 4949, '전립선': 4950, '떠올리': 4951, '향상': 4952, '처참': 4953, '퍼졌': 4954, '퇴물': 4955, '우려': 4956, '보여야': 4957, '선명': 4958, '유전병': 4959, '밤새워서': 4960, '골목': 4961, '노여움': 4962, '속물': 4963, '놀랬': 4964, '아쉬움': 4965, '준다니': 4966, '치아': 4967, '만날까': 4968, '빨개졌': 4969, '는다네': 4970, '돼도': 4971, '복부': 4972, '번다고': 4973, '공사장': 4974, '못나': 4975, '출전': 4976, '정한': 4977, '급해져': 4978, '미뤄야': 4979, '시즌': 4980, '그렇지만': 4981, '합병': 4982, '지나쳐서': 4983, '또한': 4984, '병행': 4985, '노고': 4986, '간만에': 4987, '음식물': 4988, '건성': 4989, '번듯': 4990, '걸렸었': 4991, '양치질': 4992, '따끔': 4993, '난데': 4994, '깔': 4995, '졸랐': 4996, '게임기': 4997, '하한가': 4998, '서툴': 4999, '인복': 5000, '탕진': 5001, '무서워하': 5002, '경력직': 5003, '이명': 5004, '조심히': 5005, '연배': 5006, '출석': 5007, '봄': 5008, '인센티브': 5009, '지어서': 5010, '약물': 5011, '괜스레': 5012, '주먹': 5013, '국': 5014, '남겼': 5015, '죽마고우': 5016, '자동': 5017, '달려가': 5018, '화병': 5019, '교환': 5020, '비전': 5021, '쏟아졌': 5022, '잠가': 5023, '악착같이': 5024, '튀': 5025, '착취': 5026, '곤두서': 5027, '전동': 5028, '차갑': 5029, '오른다고': 5030, '돌아가실': 5031, '이장': 5032, '왕': 5033, '어리석': 5034, '빵집': 5035, '추태': 5036, '세끼': 5037, '사치': 5038, '생신': 5039, '샌가': 5040, '끼치': 5041, '정신없이': 5042, '트로트': 5043, '떨림': 5044, '모자란': 5045, '낙서': 5046, '든다': 5047, '귀여운': 5048, '재직': 5049, '여럿': 5050, '인수': 5051, '후기': 5052, '살려': 5053, '구분': 5054, '특정': 5055, '간수': 5056, '과식': 5057, '점차': 5058, '투': 5059, '어려워졌': 5060, '비대': 5061, '립스틱': 5062, '글': 5063, '안면': 5064, '언급': 5065, '갑작스러운': 5066, '자던': 5067, '조리': 5068, '버텨': 5069, '연고': 5070, '마늘': 5071, '가뜩이나': 5072, '닥치': 5073, '비아냥대': 5074, '일반': 5075, '자격지심': 5076, '솜씨': 5077, '호흡': 5078, '달리기': 5079, '팔순': 5080, '지극정성': 5081, '몰려서': 5082, '상관없이': 5083, '커플링': 5084, '착실': 5085, '내줬': 5086, '폭식': 5087, '밀릴': 5088, '서툴러서': 5089, '해서인지': 5090, '문턱': 5091, '돌이켜': 5092, '음주': 5093, '험한': 5094, '버려져': 5095, '파견': 5096, '절차': 5097, '중도': 5098, '엄하': 5099, '가스': 5100, '둥': 5101, '보인다는': 5102, '체하': 5103, '다를': 5104, '기절': 5105, '감수': 5106, '헷갈리': 5107, '려다가': 5108, '구경': 5109, '꼬박': 5110, '부치': 5111, '암담': 5112, '는다니까': 5113, '깨워서': 5114, '설마': 5115, '다가올': 5116, '찜질방': 5117, '죄지': 5118, '강한': 5119, '차지': 5120, '말려서': 5121, '헤어질': 5122, '상식': 5123, '원룸': 5124, '잘려': 5125, '돈독': 5126, '극구': 5127, '입금': 5128, '고모': 5129, '연도': 5130, '갑작스레': 5131, '소속': 5132, '은근슬쩍': 5133, '골라': 5134, '주기': 5135, '해버려서': 5136, '바닥났': 5137, '가져와서': 5138, '대판': 5139, '붙임': 5140, '모아야': 5141, '언론': 5142, '생색': 5143, '안중': 5144, '포즈': 5145, '회화': 5146, '태블릿': 5147, '실에': 5148, '무례': 5149, '덩어리': 5150, '높이': 5151, '한다네': 5152, '말동무': 5153, '온전히': 5154, '투기': 5155, '나려': 5156, '대뜸': 5157, '한다면서': 5158, '상한': 5159, '여부': 5160, '다짐': 5161, '그간': 5162, '진액': 5163, '돌연사': 5164, '유세': 5165, '베끼': 5166, '칠순': 5167, '순산': 5168, '어딘가': 5169, '딸애': 5170, '느껴질': 5171, '항의': 5172, '뜸해': 5173, '공식': 5174, '멀쩡히': 5175, '얼어붙': 5176, '조각': 5177, '반납': 5178, '병든': 5179, '맞춤법': 5180, '어금니': 5181, '애써': 5182, '잦아지': 5183, '놀란': 5184, '부서원': 5185, '외할머니': 5186, '의료진': 5187, '부러져서': 5188, '민원': 5189, '무턱대고': 5190, '졸이': 5191, '낙이': 5192, '만두': 5193, '무단': 5194, '산모': 5195, '가정부': 5196, '정거장': 5197, '옮겨': 5198, '숨긴': 5199, '맞춘': 5200, '해서라도': 5201, '무난': 5202, '타인': 5203, '효자': 5204, '힘없': 5205, '뒷모습': 5206, '위선': 5207, '진정한': 5208, '소아암': 5209, '가두': 5210, '느린': 5211, '못된': 5212, '해명': 5213, '엄두': 5214, '코피': 5215, '해둔': 5216, '둔해': 5217, '현기증': 5218, '공항': 5219, '떠날까': 5220, '구월': 5221, '동떨어진': 5222, '전념': 5223, '훈계': 5224, '마중': 5225, '흐르': 5226, '쓰였': 5227, '씌우': 5228, '임시': 5229, '목욕탕': 5230, '걸으면': 5231, '고파서': 5232, '교체': 5233, '저려서': 5234, '특강': 5235, '계모': 5236, '정성': 5237, '가져서': 5238, '까다로운': 5239, '삿': 5240, '으려면': 5241, '모른대': 5242, '지만은': 5243, '아픔': 5244, '돌아갔': 5245, '계곡': 5246, '약한데': 5247, '조바심': 5248, '아낌없이': 5249, '한답시고': 5250, '슬퍼졌': 5251, '떠서': 5252, '당': 5253, '콜': 5254, '이란': 5255, '속인': 5256, '오래오래': 5257, '나머지': 5258, '작정': 5259, '들이': 5260, '탈해': 5261, '도우': 5262, '테': 5263, '변비': 5264, '형수': 5265, '쌓여서': 5266, '반기': 5267, '싸늘': 5268, '상반기': 5269, '인사이동': 5270, '개념': 5271, '섬': 5272, '우수': 5273, '이뻐': 5274, '우유부단': 5275, '부끄러워하': 5276, '문학': 5277, '단점': 5278, '에세이': 5279, '중심': 5280, '돌린': 5281, '명확': 5282, '딱지': 5283, '빈손': 5284, '연하': 5285, '순식간': 5286, '잊히': 5287, '찐': 5288, '꼬리': 5289, '해냈': 5290, '안락사': 5291, '이외': 5292, '보낼까': 5293, '찜찜': 5294, '맞췄': 5295, '빌려줄': 5296, '사교': 5297, '순서': 5298, '근사': 5299, '자는데': 5300, '헛산': 5301, '보내왔': 5302, '피로감': 5303, '공짜': 5304, '편했': 5305, '들어간다고': 5306, '그릇': 5307, '의원': 5308, '공황': 5309, '빠질': 5310, '내부': 5311, '볼품없': 5312, '만료': 5313, '갖추': 5314, '치사': 5315, '해줘도': 5316, '마케팅': 5317, '건너': 5318, '핑': 5319, '길가': 5320, '갑작스러워서': 5321, '서부터': 5322, '담배꽁초': 5323, '매정': 5324, '느냐는': 5325, '경영학': 5326, '내조': 5327, '가질까': 5328, '사진관': 5329, '박힌': 5330, '인신공격': 5331, '존재감': 5332, '들어온다고': 5333, '대놓': 5334, '위치': 5335, '산악': 5336, '위독': 5337, '몸조리': 5338, '들으려고': 5339, '지팡이': 5340, '속한': 5341, '망가뜨려': 5342, '칼퇴근': 5343, '사둔': 5344, '심이': 5345, '자부심': 5346, '알파벳': 5347, '햄버거': 5348, '깨닫': 5349, '두통': 5350, '다퉈': 5351, '폰': 5352, '설정': 5353, '프리랜서': 5354, '쥐구멍': 5355, '코스': 5356, '옮겨졌': 5357, '행색': 5358, '엑스레이': 5359, '겉모습': 5360, '분만': 5361, '초반': 5362, '펼치': 5363, '아무튼': 5364, '결리': 5365, '수석': 5366, '사우나': 5367, '놨더라': 5368, '치부': 5369, '잘랐': 5370, '보류': 5371, '에너지': 5372, '재수술': 5373, '돌잔치': 5374, '파탄': 5375, '학급비': 5376, '훔쳐간': 5377, '어두운': 5378, '시행': 5379, '일러서': 5380, '벌였': 5381, '일머리': 5382, '와줘서': 5383, '주관': 5384, '벅찬데': 5385, '만져': 5386, '천만다행': 5387, '활용': 5388, '쳐다봤': 5389, '가뿐': 5390, '맑': 5391, '골인': 5392, '깨워': 5393, '상팔자': 5394, '양수': 5395, '열려': 5396, '머물': 5397, '사신': 5398, '슈퍼마켓': 5399, '올라와서': 5400, '고요': 5401, '술병': 5402, '난폭': 5403, '원장': 5404, '촉박': 5405, '숨겨왔': 5406, '초년생': 5407, '토요일': 5408, '안타까운': 5409, '삭제': 5410, '전액': 5411, '감독': 5412, '바른': 5413, '역사': 5414, '아닐': 5415, '해요': 5416, '구네': 5417, '덜컥': 5418, '모호': 5419, '황혼': 5420, '법원': 5421, '입양아': 5422, '미납': 5423, '샘': 5424, '그룹': 5425, '친해져서': 5426, '테스트': 5427, '유언장': 5428, '이성애자': 5429, '더라구': 5430, '연락도': 5431, '투덜대': 5432, '족구': 5433, '고령자': 5434, '향수': 5435, '공방': 5436, '할걸': 5437, '따름': 5438, '금식': 5439, '오가': 5440, '제압': 5441, '저럴까': 5442, '장기간': 5443, '매수': 5444, '옮겨야': 5445, '웬일': 5446, '여행지': 5447, '학예회': 5448, '비관': 5449, '진실': 5450, '범죄자': 5451, '친화력': 5452, '미경': 5453, '미용': 5454, '틀어져서': 5455, '베껴': 5456, '살려서': 5457, '미쳤': 5458, '적당': 5459, '분통': 5460, '길고양이': 5461, '어지러워': 5462, '말려도': 5463, '그곳': 5464, '압박감': 5465, '늘어난': 5466, '쫓겨나': 5467, '막무가내': 5468, '값비싼': 5469, '가구': 5470, '일세': 5471, '게다가': 5472, '마른': 5473, '빠른': 5474, '뱀술': 5475, '매입': 5476, '무대': 5477, '이래라저래라': 5478, '살아남': 5479, '이른': 5480, '파업': 5481, '맞선': 5482, '역겨운': 5483, '나타난': 5484, '팀플레이': 5485, '지나쳐': 5486, '으려는': 5487, '각이': 5488, '구워': 5489, '동참': 5490, '계약서': 5491, '진술': 5492, '장마': 5493, '척추': 5494, '휴진': 5495, '게시판': 5496, '익명': 5497, '붉': 5498, '들으니까': 5499, '진대': 5500, '분주': 5501, '보호': 5502, '권했': 5503, '성분': 5504, '내려와': 5505, '야채': 5506, '삐졌': 5507, '기러': 5508, '교묘': 5509, '맥': 5510, '쓰리': 5511, '신분': 5512, '상승': 5513, '가져갈': 5514, '변해서': 5515, '오답': 5516, '갔다왔': 5517, '윗사람': 5518, '전폭': 5519, '부조': 5520, '얹혀': 5521, '안전': 5522, '회관': 5523, '똥': 5524, '독단': 5525, '학연': 5526, '천하태평': 5527, '사이트': 5528, '일요일': 5529, '곱': 5530, '예뻐서': 5531, '체지방': 5532, '마': 5533, '빛': 5534, '못살': 5535, '모진': 5536, '번거': 5537, '시내': 5538, '륜': 5539, '연로': 5540, '져도': 5541, '의학': 5542, '잉여': 5543, '빈약': 5544, '처해': 5545, '소': 5546, '허위': 5547, '사니': 5548, '양반': 5549, '트랜스젠더': 5550, '아까워': 5551, '복직': 5552, '삭막': 5553, '안서': 5554, '질색': 5555, '역부족': 5556, '증오': 5557, '피크': 5558, '팔려서': 5559, '놓인다': 5560, '심해질까': 5561, '도서관': 5562, '희생양': 5563, '곧장': 5564, '바이어': 5565, '서두르': 5566, '앞가림': 5567, '재수생': 5568, '기름진': 5569, '일로': 5570, '큰소리쳤': 5571, '원통': 5572, '떠맡': 5573, '숨겨놨': 5574, '속였': 5575, '고개': 5576, '밥값': 5577, '뒤치다꺼리': 5578, '온천': 5579, '결핍': 5580, '만류': 5581, '목걸이': 5582, '제시간': 5583, '위하': 5584, '동문': 5585, '교대': 5586, '혀': 5587, '일과': 5588, '달라붙': 5589, '잉꼬부부': 5590, '안쓰럽': 5591, '축내': 5592, '들으려': 5593, '느': 5594, '웬만': 5595, '궁리': 5596, '무너져': 5597, '출세': 5598, '바꿀': 5599, '헤어': 5600, '무단결근': 5601, '요점': 5602, '부지런': 5603, '일어난다고': 5604, '눈초리': 5605, '오리엔테이션': 5606, '노화': 5607, '기형': 5608, '태어날지': 5609, '흰머리': 5610, '돌변': 5611, '내게서': 5612, '돌아서': 5613, '취약점': 5614, '계발': 5615, '살려야': 5616, '논다': 5617, '본부': 5618, '서툴러': 5619, '패턴': 5620, '솟': 5621, '산소': 5622, '깊이': 5623, '종이': 5624, '장기근속': 5625, '골라야': 5626, '훈수': 5627, '자세히': 5628, '회피': 5629, '피시방': 5630, '격리': 5631, '들킬': 5632, '지난날': 5633, '뇌척수막염': 5634, '발음': 5635, '승급': 5636, '검소': 5637, '주변인': 5638, '꼬이': 5639, '붓': 5640, '수명': 5641, '신호': 5642, '사경': 5643, '헤매': 5644, '양심': 5645, '키워서': 5646, '통지서': 5647, '부질': 5648, '계층': 5649, '원한': 5650, '수단': 5651, '야뇨증': 5652, '의구심': 5653, '들러붙': 5654, '꿈꿔': 5655, '인터뷰': 5656, '수군': 5657, '주번': 5658, '모아도': 5659, '풍경': 5660, '나와야': 5661, '말수': 5662, '유치원생': 5663, '비로': 5664, '질지': 5665, '저렴': 5666, '형식': 5667, '노숙': 5668, '슬퍼할': 5669, '맛집': 5670, '총': 5671, '알츠하이머': 5672, '양식': 5673, '지체': 5674, '정착': 5675, '무사': 5676, '탄탄': 5677, '저지른': 5678, '짚': 5679, '작업복': 5680, '요리사': 5681, '놀러왔': 5682, '웃긴': 5683, '열린': 5684, '막힌다': 5685, '병드': 5686, '댄스': 5687, '실행': 5688, '이나마': 5689, '무서워졌': 5690, '교': 5691, '였으면': 5692, '달려와서': 5693, '나고': 5694, '싱글': 5695, '줬었': 5696, '에서부터': 5697, '속상': 5698, '행운': 5699, '부끄러워졌': 5700, '빨라': 5701, '도망갈': 5702, '밀쳤': 5703, '험악': 5704, '힘써': 5705, '셔야': 5706, '교차': 5707, '역겨웠': 5708, '금지': 5709, '협력': 5710, '기적': 5711, '칠판': 5712, '라지': 5713, '관둬야': 5714, '스포츠': 5715, '영원': 5716, '라더라': 5717, '들어서': 5718, '레': 5719, '쑥스러워': 5720, '풍요': 5721, '불려갔': 5722, '한국어': 5723, '서툰': 5724, '였을': 5725, '체념': 5726, '인문': 5727, '정돈': 5728, '지가': 5729, '거칠': 5730, '약장수': 5731, '버려졌': 5732, '탐탁': 5733, '중식': 5734, '느냐며': 5735, '워킹': 5736, '무덤': 5737, '나섰': 5738, '라던': 5739, '참고': 5740, '사태': 5741, '잊어먹': 5742, '무좀': 5743, '말년': 5744, '부드럽': 5745, '보일': 5746, '해왔': 5747, '환상': 5748, '가증': 5749, '막대': 5750, '요금제': 5751, '성한': 5752, '됐었': 5753, '쫓아냈': 5754, '비상': 5755, '꼼꼼히': 5756, '살펴보': 5757, '분장': 5758, '전한': 5759, '양로원': 5760, '해오': 5761, '약초': 5762, '집구석': 5763, '수시로': 5764, '나무라': 5765, '바쁜지': 5766, '결산': 5767, '서방': 5768, '공들여': 5769, '구멍': 5770, '휴지': 5771, '채식': 5772, '얇': 5773, '청력': 5774, '꿈꿨': 5775, '차서': 5776, '소리쳤': 5777, '불쑥': 5778, '챙겨준': 5779, '그리워서': 5780, '우산': 5781, '빠져나가': 5782, '명퇴': 5783, '뒷받침': 5784, '게을러서': 5785, '배경': 5786, '이력': 5787, '못한다는': 5788, '덤벙대': 5789, '단순히': 5790, '뛰어가': 5791, '쭉': 5792, '두둑이': 5793, '축의금': 5794, '설립': 5795, '버텨야': 5796, '어수선': 5797, '석차': 5798, '사지': 5799, '노동': 5800, '과체': 5801, '알려져서': 5802, '헐뜯': 5803, '망가져서': 5804, '시집보내': 5805, '낙인': 5806, '이러면': 5807, '결혼반지': 5808, '처우': 5809, '못생긴': 5810, '휴대': 5811, '분만실': 5812, '책임져야': 5813, '걸릴지': 5814, '빌': 5815, '계셨': 5816, '이만큼': 5817, '운동회': 5818, '고선': 5819, '철저': 5820, '바쁠': 5821, '아침밥': 5822, '수군대': 5823, '씌웠': 5824, '해줘': 5825, '효도': 5826, '김부장': 5827, '된통': 5828, '장모': 5829, '호통': 5830, '뒤숭숭': 5831, '한때': 5832, '소설': 5833, '야지': 5834, '써도': 5835, '드나': 5836, '커져서': 5837, '영입': 5838, '화기애애': 5839, '퉁명': 5840, '피아니스트': 5841, '뵙': 5842, '들어와도': 5843, '몰아가': 5844, '비워': 5845, '산악회': 5846, '령기': 5847, '감흥': 5848, '기승': 5849, '접대': 5850, '일관': 5851, '잡혀서': 5852, '지끈지끈': 5853, '선산': 5854, '울컥': 5855, '적절': 5856, '재단': 5857, '큰소리': 5858, '친할머니': 5859, '가로': 5860, '번번이': 5861, '보호사': 5862, '내게도': 5863, '수감': 5864, '갑상샘': 5865, '손녀딸': 5866, '공책': 5867, '진땀': 5868, '파손': 5869, '해지지': 5870, '음반': 5871, '터질': 5872, '세미나': 5873, '간경변': 5874, '글씨': 5875, '찢어지': 5876, '얼': 5877, '반드시': 5878, '수집': 5879, '쫓아다니': 5880, '자상': 5881, '기댈': 5882, '환갑잔치': 5883, '지니': 5884, '끌려가': 5885, '반성': 5886, '염증': 5887, '휴가비': 5888, '돼버렸': 5889, '종류': 5890, '미뤄졌': 5891, '미뤘': 5892, '도달': 5893, '으니깐': 5894, '할래': 5895, '곳곳': 5896, '술김': 5897, '증인': 5898, '안주': 5899, '팔팔': 5900, '개학': 5901, '눈시울': 5902, '잔심부름': 5903, '강인': 5904, '악': 5905, '달려서': 5906, '버섯': 5907, '체형': 5908, '배제': 5909, '본의': 5910, '그러니까': 5911, '형성': 5912, '미쳐서': 5913, '구단': 5914, '질까봐': 5915, '두드러기': 5916, '그쪽': 5917, '양쪽': 5918, '생활고': 5919, '얽매이': 5920, '쓸까': 5921, '소꿉친구': 5922, '서러운': 5923, '문의': 5924, '속여서': 5925, '미워져': 5926, '밤늦': 5927, '비추': 5928, '그제야': 5929, '고프': 5930, '깎였': 5931, '식후': 5932, '유통': 5933, '부러져': 5934, '넥타이': 5935, '본다': 5936, '혈액형': 5937, '돋보기안경': 5938, '계열사': 5939, '행패': 5940, '유복': 5941, '뺏어가': 5942, '부딪치': 5943, '잊어버린': 5944, '셋집': 5945, '헛웃음': 5946, '잔인': 5947, '안정제': 5948, '다운': 5949, '설문지': 5950, '회사원': 5951, '궤양': 5952, '다가와서': 5953, '쏟아부': 5954, '여가': 5955, '킬로그램': 5956, '부녀': 5957, '그러면': 5958, '예감': 5959, '살피': 5960, '모함': 5961, '입히': 5962, '셈': 5963, '앱': 5964, '무안': 5965, '비속어': 5966, '혈육': 5967, '그래서인지': 5968, '영찬': 5969, '피시': 5970, '쪽방': 5971, '섹스': 5972, '고가': 5973, '부담감': 5974, '쓸데없이': 5975, '주려': 5976, '복학생': 5977, '따졌': 5978, '어떨까': 5979, '술주정': 5980, '도망치': 5981, '빈자리': 5982, '대청소': 5983, '아까운': 5984, '술잔': 5985, '확대': 5986, '추천서': 5987, '알려졌': 5988, '직후': 5989, '이겨냈': 5990, '이쁘': 5991, '따랐': 5992, '공금': 5993, '잘라야': 5994, '예체능': 5995, '하군': 5996, '너그럽': 5997, '예뻐해': 5998, '섞이': 5999, '분리': 6000, '테이블': 6001, '강남': 6002, '줄였': 6003, '신부전': 6004, '적용': 6005, '몰려오': 6006, '계정': 6007, '위안': 6008, '강': 6009, '선호': 6010, '패딩': 6011, '촌스럽': 6012, '빌려야': 6013, '지친다': 6014, '사돈': 6015, '남매': 6016, '버텼': 6017, '다더라고': 6018, '공공': 6019, '수평': 6020, '의사소통': 6021, '유치원': 6022, '넘긴': 6023, '비정규직': 6024, '깨어났': 6025, '진통': 6026, '걸치': 6027, '차가운': 6028, '파트너': 6029, '싱숭생숭': 6030, '귀엽': 6031, '배운': 6032, '대응': 6033, '스런': 6034, '지우': 6035, '밀어내': 6036, '깨져': 6037, '문대': 6038, '알선': 6039, '마음속': 6040, '아까워하': 6041, '일본': 6042, '주치의': 6043, '쌩쌩': 6044, '둬': 6045, '불쌍히': 6046, '대립': 6047, '피울': 6048, '엉망진창': 6049, '헤프': 6050, '들으면서': 6051, '욕해': 6052, '라던데': 6053, '졌으면': 6054, '가정사': 6055, '세뱃돈': 6056, '빤히': 6057, '싱글벙글': 6058, '산골': 6059, '얄밉': 6060, '영수증': 6061, '흐릿': 6062, '그놈': 6063, '힘쓰': 6064, '찔': 6065, '어려': 6066, '골골대': 6067, '무너진': 6068, '슬쩍': 6069, '단골': 6070, '고장나': 6071, '흉흉': 6072, '두근거려': 6073, '애매': 6074, '맡겨야': 6075, '자야': 6076, '고스란히': 6077, '처했': 6078, '끝낸': 6079, '내가': 6080, '춤추': 6081, '달이': 6082, '방안': 6083, '로비': 6084, '복통': 6085, '동조': 6086, '갈아입': 6087, '기록': 6088, '우대': 6089, '귀국': 6090, '패스트푸드': 6091, '부끄럼': 6092, '뻔해': 6093, '철없': 6094, '관념': 6095, '직위': 6096, '불경기': 6097, '어처구니없': 6098, '숫자': 6099, '백신': 6100, '컵라면': 6101, '상담소': 6102, '양호': 6103, '흑자': 6104, '좌천': 6105, '지표': 6106, '붙이': 6107, '빌라': 6108, '어울려서': 6109, '계좌': 6110, '염좌': 6111, '야구장': 6112, '친정집': 6113, '질타': 6114, '밀려와': 6115, '뒤집어썼': 6116, '건축': 6117, '했어야': 6118, '데려온': 6119, '애타': 6120, '애통': 6121, '융통': 6122, '그저께': 6123, '파리': 6124, '넋': 6125, '아만': 6126, '스승': 6127, '가져와': 6128, '일기': 6129, '살찐': 6130, '커져': 6131, '특성': 6132, '집들이': 6133, '부품': 6134, '성대': 6135, '어다': 6136, '졸였': 6137, '증권사': 6138, '온화': 6139, '가해': 6140, '관광': 6141, '떠안': 6142, '부적': 6143, '했잖아': 6144, '부사장': 6145, '찍혀서': 6146, '줘야지': 6147, '취할': 6148, '아야지': 6149, '알려야': 6150, '조문': 6151, '음료': 6152, '장인어른': 6153, '혈관': 6154, '벌려야': 6155, '몰랐었': 6156, '정해져': 6157, '쑤셔서': 6158, '해대서': 6159, '환절기': 6160, '내방': 6161, '허덕이': 6162, '치솟': 6163, '질렸': 6164, '나눈': 6165, '하반신': 6166, '쪼잔': 6167, '감싸': 6168, '가치관': 6169, '바가지': 6170, '왕래': 6171, '끝났으면': 6172, '파스': 6173, '할인': 6174, '켜': 6175, '매너': 6176, '영심': 6177, '안다고': 6178, '매장': 6179, '으셨는데': 6180, '팔씨름': 6181, '건드리': 6182, '청했': 6183, '영화배우': 6184, '제법': 6185, '스러운데': 6186, '외딴': 6187, '절단': 6188, '팬': 6189, '질러': 6190, '책임감': 6191, '숙소': 6192, '벌렁': 6193, '시끄러운데': 6194, '들어갈까': 6195, '외상': 6196, '불러내': 6197, '망설임': 6198, '돼버린': 6199, '수칙': 6200, '빼돌리': 6201, '캐비닛': 6202, '뒷돈': 6203, '예습': 6204, '어저께': 6205, '줄여': 6206, '골프장': 6207, '에스컬레이터': 6208, '곤혹': 6209, '뒤처리': 6210, '바뀔': 6211, '황급히': 6212, '일어': 6213, '단호': 6214, '과잉': 6215, '한다더니': 6216, '외워서': 6217, '사귄다고': 6218, '줄어든다는': 6219, '애쓴': 6220, '다독여': 6221, '팔목': 6222, '시청': 6223, '끊겨': 6224, '으': 6225, '뇌리': 6226, '아무데': 6227, '구걸': 6228, '다칠': 6229, '뽑혀': 6230, '연녀': 6231, '니스': 6232, '그럴까봐': 6233, '보직': 6234, '청각': 6235, '반가워': 6236, '글렀': 6237, '걸어왔': 6238, '부딪혀서': 6239, '짠해': 6240, '졸여서': 6241, '띵': 6242, '소주': 6243, '세트': 6244, '붙여': 6245, '떠넘긴': 6246, '나쁜가': 6247, '돈타령': 6248, '틱': 6249, '갑작스런': 6250, '활짝': 6251, '눈뜨': 6252, '슬퍼했': 6253, '증가': 6254, '싹': 6255, '풀렸': 6256, '보양': 6257, '사법': 6258, '치렀': 6259, '금일': 6260, '아름다워': 6261, '실효': 6262, '살얼음판': 6263, '마킹': 6264, '스트레칭': 6265, '돌볼': 6266, '사이클': 6267, '측은': 6268, '완벽주의': 6269, '냉정': 6270, '변심': 6271, '가면': 6272, '전생': 6273, '으라며': 6274, '마녀': 6275, '사냥': 6276, '대야': 6277, '시아버님': 6278, '주어져서': 6279, '관문': 6280, '이메일': 6281, '발송': 6282, '떨떠름': 6283, '왜냐면': 6284, '최대': 6285, '금이': 6286, '약해진': 6287, '갈라놓': 6288, '리모컨': 6289, '작전': 6290, '미워서': 6291, '수지': 6292, '치려': 6293, '벌칙': 6294, '만행': 6295, '밝혀져': 6296, '열불': 6297, '연일': 6298, '멍해': 6299, '일용직': 6300, '겠다는': 6301, '타령': 6302, '부숴': 6303, '회의실': 6304, '들여': 6305, '싸구려': 6306, '책임져': 6307, '뒤따라갔': 6308, '활기': 6309, '믿겨': 6310, '맞출': 6311, '스카이': 6312, '발등': 6313, '급사': 6314, '드물': 6315, '대드': 6316, '걸린다': 6317, '금수': 6318, '여야': 6319, '기억나': 6320, '지른': 6321, '챈': 6322, '영양': 6323, '잠갔': 6324, '테스': 6325, '실물': 6326, '해변': 6327, '롤': 6328, '피부색': 6329, '놓치': 6330, '뺏긴': 6331, '건강식': 6332, '친아들': 6333, '예시': 6334, '모유': 6335, '똑바로': 6336, '낙오자': 6337, '사칭': 6338, '수수료': 6339, '주책': 6340, '식판': 6341, '새총': 6342, '눈가': 6343, '들들': 6344, '잊어버릴까': 6345, '기껏': 6346, '한없이': 6347, '구석': 6348, '숫기': 6349, '치지는': 6350, '대성공': 6351, '터져서': 6352, '플': 6353, '꼬치꼬치': 6354, '업계': 6355, '시말서': 6356, '리포트': 6357, '기만': 6358, '공로': 6359, '임원직': 6360, '다소': 6361, '합창': 6362, '휘둘리': 6363, '특목고': 6364, '말지': 6365, '민첩': 6366, '휴게소': 6367, '벌어진': 6368, '빚보증': 6369, '골탕': 6370, '친언니': 6371, '확률': 6372, '취객': 6373, '육체': 6374, '제육볶음': 6375, '다그쳤': 6376, '마누': 6377, '피웠으면': 6378, '슬퍼할까': 6379, '정황': 6380, '재학': 6381, '골프채': 6382, '비겁': 6383, '시큰': 6384, '괴팍': 6385, '플래너': 6386, '샌드위치': 6387, '아낀다고': 6388, '찌지': 6389, '기독교': 6390, '포교': 6391, '쥐어짜': 6392, '근교': 6393, '옹알이': 6394, '두기': 6395, '애기': 6396, '지점장': 6397, '대머리': 6398, '잖': 6399, '도장': 6400, '생애': 6401, '미더워': 6402, '부임': 6403, '끌어오': 6404, '서술': 6405, '뿌': 6406, '금반지': 6407, '훔친': 6408, '떠오를': 6409, '앙상': 6410, '나약': 6411, '멎': 6412, '운동화': 6413, '들어간다는': 6414, '허우적거리': 6415, '비꼬': 6416, '자린데': 6417, '호소': 6418, '화냈': 6419, '상금': 6420, '노출': 6421, '과한': 6422, '욕한': 6423, '셨을까': 6424, '흐려': 6425, '본사': 6426, '접관': 6427, '오피스텔': 6428, '관리인': 6429, '여한': 6430, '보일러': 6431, '편안히': 6432, '한국사': 6433, '담근': 6434, '소집': 6435, '정수기': 6436, '발주': 6437, '떠밀': 6438, '급해서': 6439, '돌아올까': 6440, '졸라': 6441, '수백': 6442, '움직여서': 6443, '셔도': 6444, '이제서야': 6445, '무거워서': 6446, '아랑곳': 6447, '바라지': 6448, '지능': 6449, '달팽이관': 6450, '수빈': 6451, '지안': 6452, '명상': 6453, '생존': 6454, '나눠서': 6455, '부러워할': 6456, '지날수록': 6457, '등지': 6458, '클레임': 6459, '씌워서': 6460, '힐끔힐끔': 6461, '뱀': 6462, '물려서': 6463, '옆구리': 6464, '용지': 6465, '기선': 6466, '그땐': 6467, '아무거': 6468, '다기': 6469, '데려올': 6470, '담도': 6471, '스물': 6472, '터뜨린': 6473, '이래라': 6474, '저래라': 6475, '거린': 6476, '도자기': 6477, '돌려보내': 6478, '아들내미': 6479, '다닐까': 6480, '상조': 6481, '급급': 6482, '인공지능': 6483, '끌어들인': 6484, '가누': 6485, '내서': 6486, '말려': 6487, '서먹서먹': 6488, '해해서': 6489, '감원': 6490, '형수님': 6491, '고용주': 6492, '껴안': 6493, '떤다고': 6494, '햇살': 6495, '나마': 6496, '회수': 6497, '빨라서': 6498, '든가': 6499, '망쳐놨': 6500, '작업장': 6501, '가까웠': 6502, '뜻밖': 6503, '잊어버려서': 6504, '자처': 6505, '추': 6506, '삐끗': 6507, '분기': 6508, '편집장': 6509, '대부': 6510, '엑': 6511, '토지': 6512, '징': 6513, '벼슬': 6514, '한껏': 6515, '컨설팅': 6516, '줄일': 6517, '댄다고': 6518, '알아볼까': 6519, '흉측': 6520, '예쁠': 6521, '주연': 6522, '오락': 6523, '망가졌': 6524, '손발': 6525, '시야': 6526, '축축': 6527, '토로': 6528, '본받': 6529, '실버타운': 6530, '나으라고': 6531, '싱거운': 6532, '수저': 6533, '정식': 6534, '야반도주': 6535, '버릴까봐': 6536, '엎어졌': 6537, '고깃집': 6538, '떨렸': 6539, '몰골': 6540, '과묵': 6541, '내뱉': 6542, '부러워해': 6543, '새내기': 6544, '옷맵시': 6545, '퍼트': 6546, '자반': 6547, '재정난': 6548, '칭얼대': 6549, '아려': 6550, '중증': 6551, '따라했': 6552, '허구': 6553, '종료': 6554, '출처': 6555, '못할까봐': 6556, '양육권': 6557, '밀려오': 6558, '저염식': 6559, '의외': 6560, '손대': 6561, '괴물': 6562, '곤경': 6563, '빠': 6564, '재킷': 6565, '풀려': 6566, '바늘': 6567, '궂': 6568, '강조': 6569, '노심초사': 6570, '번복': 6571, '설렜': 6572, '매몰차': 6573, '힘겹': 6574, '시니어': 6575, '깎이': 6576, '환영회': 6577, '산골짜기': 6578, '나타날': 6579, '만끽': 6580, '떠난다고': 6581, '붉어져서': 6582, '돈다고': 6583, '무효': 6584, '음란물': 6585, '탐': 6586, '차려서': 6587, '킬로': 6588, '타일러': 6589, '선천': 6590, '끼쳐': 6591, '해했': 6592, '나빠질': 6593, '달려오': 6594, '회감': 6595, '치료사': 6596, '들으라고': 6597, '처한': 6598, '발달': 6599, '혐의': 6600, '대도': 6601, '청년회': 6602, '여물': 6603, '어중간': 6604, '검증': 6605, '휘둘렀': 6606, '난다는': 6607, '특근': 6608, '친자식': 6609, '갇힌': 6610, '근로': 6611, '장학생': 6612, '동고동락': 6613, '학우': 6614, '녹즙': 6615, '등바': 6616, '하나같이': 6617, '시샘': 6618, '폐질환': 6619, '욕먹': 6620, '쓸쓸히': 6621, '임원진': 6622, '뜯': 6623, '살인': 6624, '역겹': 6625, '프린터': 6626, '출력': 6627, '공로상': 6628, '심한지': 6629, '추워져서': 6630, '고된': 6631, '돌아올': 6632, '화면': 6633, '애꿎': 6634, '불러도': 6635, '폭': 6636, '예절': 6637, '수위': 6638, '날카롭': 6639, '대수': 6640, '무너졌': 6641, '도로': 6642, '보조금': 6643, '붙여서': 6644, '모회사': 6645, '사연': 6646, '놓아주': 6647, '틀어졌': 6648, '놓친': 6649, '단골집': 6650, '생선': 6651, '상해서': 6652, '가르쳤': 6653, '다달이': 6654, '도와줘도': 6655, '짠': 6656, '사직': 6657, '상습': 6658, '따져서': 6659, '소비력': 6660, '둘러': 6661, '주체': 6662, '빙판길': 6663, '도용': 6664, '소문났': 6665, '민지': 6666, '헛된': 6667, '가라': 6668, '성적순': 6669, '저주': 6670, '사물함': 6671, '아랫사람': 6672, '극진히': 6673, '라식': 6674, '붕대': 6675, '개천': 6676, '되레': 6677, '넘어진': 6678, '감쌌': 6679, '자각': 6680, '실까봐': 6681, '지옥': 6682, '패키지여행': 6683, '선선': 6684, '박스': 6685, '갇혀': 6686, '교외': 6687, '타격': 6688, '삼수': 6689, '냈으면': 6690, '중도금': 6691, '투덜거리': 6692, '즐겼': 6693, '비율': 6694, '약했': 6695, '챙긴다고': 6696, '봐야지': 6697, '돌릴': 6698, '되돌려': 6699, '야한': 6700, '골목길': 6701, '갈라지': 6702, '나물': 6703, '멈칫': 6704, '안내': 6705, '난이': 6706, '짐짝': 6707, '투도': 6708, '고파': 6709, '어지럼증': 6710, '하얘': 6711, '담긴': 6712, '가까워진': 6713, '매진': 6714, '미뤄서': 6715, '한글': 6716, '부러워하': 6717, '욕할': 6718, '즘': 6719, '팔다리': 6720, '인큐베이터': 6721, '흡족': 6722, '게이': 6723, '라인': 6724, '람': 6725, '달려와': 6726, '아팠었': 6727, '생전': 6728, '최저가': 6729, '부적절': 6730, '알릴': 6731, '싹싹': 6732, '사인': 6733, '어가': 6734, '래도': 6735, '벌어졌': 6736, '되돌아보': 6737, '낙찰': 6738, '한단': 6739, '어눌': 6740, '각각': 6741, '그만한': 6742, '여사원': 6743, '호되': 6744, '아꼈': 6745, '한바탕': 6746, '이주민': 6747, '장점': 6748, '놀린다': 6749, '두들겨': 6750, '피부병': 6751, '드러내': 6752, '꾹': 6753, '변함없이': 6754, '뭉치': 6755, '억압': 6756, '눈곱': 6757, '거처': 6758, '반신': 6759, '친다': 6760, '만난다는': 6761, '뒷수습': 6762, '지나간': 6763, '변해': 6764, '느려서': 6765, '실업자': 6766, '근육통': 6767, '탑승': 6768, '썩인': 6769, '내려갈': 6770, '입술': 6771, '본격': 6772, '떨어졌으면': 6773, '물으시는데': 6774, '만화책': 6775, '조종사': 6776, '어젠': 6777, '수전증': 6778, '오십견': 6779, '외동딸': 6780, '집중력': 6781, '더러워': 6782, '우겨서': 6783, '생색내': 6784, '부끄러울까': 6785, '비결': 6786, '뻘쭘': 6787, '돌아온다고': 6788, '토했': 6789, '빈둥대': 6790, '입김': 6791, '바뻐서': 6792, '알콩달콩': 6793, '고단': 6794, '섣불리': 6795, '난다니까': 6796, '단정': 6797, '슬그머니': 6798, '보건소': 6799, '머뭇': 6800, '벌떡': 6801, '착해': 6802, '울음': 6803, '들렸': 6804, '사탕': 6805, '찮은': 6806, '가격표': 6807, '창밖': 6808, '동행': 6809, '밴드': 6810, '사라진': 6811, '떠난다는': 6812, '막힐': 6813, '어마어마': 6814, '비로소': 6815, '증진': 6816, '큰일날': 6817, '꼬여서': 6818, '쏠려서': 6819, '댄': 6820, '속아': 6821, '비대증': 6822, '바빠도': 6823, '휴게실': 6824, '비명': 6825, '역류': 6826, '식도염': 6827, '보잘것없': 6828, '무서워해서': 6829, '걸어와서': 6830, '철회': 6831, '올케': 6832, '쫓겨날지': 6833, '병명': 6834, '빠질까': 6835, '측': 6836, '일절': 6837, '디자이너': 6838, '나셔': 6839, '설날': 6840, '기울여': 6841, '노름판': 6842, '대리점': 6843, '품질': 6844, '가까워졌': 6845, '앤': 6846, '몰두': 6847, '현상': 6848, '논다고': 6849, '딱딱': 6850, '정규': 6851, '모셨': 6852, '모셔': 6853, '아라': 6854, '소방관': 6855, '전신': 6856, '충실하': 6857, '뽑히': 6858, '단골손님': 6859, '숨겨진': 6860, '멘토': 6861, '페이': 6862, '가중': 6863, '와줄': 6864, '넘겨서': 6865, '교우': 6866, '전화기': 6867, '누웠': 6868, '남루': 6869, '중퇴': 6870, '공연': 6871, '스팸': 6872, '그지없': 6873, '쾌적': 6874, '랍시고': 6875, '태워': 6876, '내다보': 6877, '전시': 6878, '계란': 6879, '지독': 6880, '역정': 6881, '모셔왔': 6882, '가엾': 6883, '엎어져서': 6884, '어린이': 6885, '울화통': 6886, '흥': 6887, '치울': 6888, '현황': 6889, '쌀농사': 6890, '떡볶이': 6891, '그려': 6892, '문전': 6893, '박대': 6894, '트렌드': 6895, '간지': 6896, '쳐도': 6897, '급작': 6898, '훌쩍': 6899, '고역': 6900, '선약': 6901, '겠다며': 6902, '에요': 6903, '나쁠': 6904, '부반장': 6905, '히터': 6906, '내야': 6907, '빨라졌': 6908, '글자': 6909, '엿들': 6910, '착오': 6911, '밤낮없이': 6912, '뒷골목': 6913, '감상': 6914, '해져버렸': 6915, '박탈감': 6916, '차려져': 6917, '팍팍': 6918, '스러운지': 6919, '꿈꿔온': 6920, '궁상맞': 6921, '봐라': 6922, '반쪽': 6923, '뜯어내': 6924, '구시대': 6925, '준다네': 6926, '혼인': 6927, '그렸': 6928, '때우': 6929, '싱겁': 6930, '격해': 6931, '받아들여야': 6932, '솟아날': 6933, '예외': 6934, '잡곡밥': 6935, '소리야': 6936, '물려줘야': 6937, '분가': 6938, '자격': 6939, '제목': 6940, '게이머': 6941, '허비': 6942, '차올라': 6943, '농사일': 6944, '자더군': 6945, '괴': 6946, '얼떨떨': 6947, '간부': 6948, '밝혀졌': 6949, '떼먹': 6950, '팔자': 6951, '주요': 6952, '올라갔': 6953, '꼰대': 6954, '들려오': 6955, '조작': 6956, '예뻐했': 6957, '예민해': 6958, '쳐': 6959, '변명': 6960, '특기': 6961, '이해력': 6962, '교장': 6963, '친밀': 6964, '고갈': 6965, '찬밥': 6966, '집요': 6967, '침묵': 6968, '흙': 6969, '뜨거워': 6970, '박사': 6971, '레스토랑': 6972, '인테리어': 6973, '찔러': 6974, '못가': 6975, '미식': 6976, '짖': 6977, '규제': 6978, '해졌으면': 6979, '넘어와서': 6980, '산대': 6981, '친근': 6982, '사용법': 6983, '되묻': 6984, '구타': 6985, '나아진': 6986, '금메달': 6987, '불러오': 6988, '늘려': 6989, '부어서': 6990, '응': 6991, '하락세': 6992, '드릴까': 6993, '구제': 6994, '불능': 6995, '큰아버지': 6996, '일치': 6997, '묘': 6998, '달랐': 6999, '개봉': 7000, '참으': 7001, '남겨졌': 7002, '장가보내': 7003, '한강': 7004, '이득': 7005, '들떠': 7006, '했으나': 7007, '주재원': 7008, '안다면': 7009, '주최': 7010, '내달': 7011, '어지러움': 7012, '모조리': 7013, '화상': 7014, '화난': 7015, '찾아온': 7016, '캠퍼스': 7017, '위조': 7018, '나돌': 7019, '생긴다': 7020, '일곱': 7021, '원액': 7022, '봉양': 7023, '추구': 7024, '줄줄이': 7025, '월말': 7026, '안사람': 7027, '기대감': 7028, '뒤져서': 7029, '죗값': 7030, '기뻐했': 7031, '아셨': 7032, '코웃음': 7033, '원치': 7034, '피임약': 7035, '될수록': 7036, '목욕': 7037, '헤드헌터': 7038, '논리': 7039, '바꾼': 7040, '겹쳐서': 7041, '뿌리': 7042, '조울증': 7043, '연명': 7044, '시킬까': 7045, '덤벼서': 7046, '을래': 7047, '서둘러야': 7048, '단독': 7049, '더러운': 7050, '걸레': 7051, '드린다': 7052, '베이비': 7053, '묻힌': 7054, '굉장': 7055, '상실감': 7056, '뛰어오': 7057, '어째': 7058, '돌봄': 7059, '신다니': 7060, '의존': 7061, '산재': 7062, '공과': 7063, '옆방': 7064, '주무르': 7065, '지나칠': 7066, '부여': 7067, '냄새나': 7068, '빨개져': 7069, '배역': 7070, '환호': 7071, '쫄딱': 7072, '맨': 7073, '수련': 7074, '자매': 7075, '커뮤니티': 7076, '간다던': 7077, '와선': 7078, '평상시': 7079, '소금': 7080, '빅': 7081, '히트': 7082, '방탄': 7083, '소년단': 7084, '게끔': 7085, '지정': 7086, '헤어질까': 7087, '나갈지': 7088, '와이셔츠': 7089, '어두우': 7090, '미끄러지': 7091, '서슴': 7092, '무지': 7093, '과제물': 7094, '시원찮': 7095, '짓궂': 7096, '서기': 7097, '연주': 7098, '야자': 7099, '최우선': 7100, '우시': 7101, '끄떡': 7102, '새우': 7103, '올라올': 7104, '살아났': 7105, '마찬가지': 7106, '다수': 7107, '숨겨버렸': 7108, '경품': 7109, '성폭행': 7110, '쌈짓돈': 7111, '고달프': 7112, '뛰어놀': 7113, '당했었': 7114, '더운데': 7115, '더더욱': 7116, '됐으니': 7117, '관해선': 7118, '치수': 7119, '달랑': 7120, '으냐고': 7121, '얄미워서': 7122, '자면서': 7123, '툴툴거리': 7124, '남용': 7125, '사귈까': 7126, '발리': 7127, '상해도': 7128, '배고파도': 7129, '여보': 7130, '날까봐': 7131, '자립': 7132, '여건': 7133, '중학': 7134, '미숙': 7135, '트릴': 7136, '근래': 7137, '외워': 7138, '새삼': 7139, '누더기': 7140, '격식': 7141, '차려야': 7142, '논하': 7143, '꾸려': 7144, '농구': 7145, '주인공': 7146, '인구': 7147, '채워': 7148, '고마워하': 7149, '첫인상': 7150, '넘쳤': 7151, '보살피': 7152, '초췌': 7153, '조상': 7154, '지냈었': 7155, '개미': 7156, '코치': 7157, '이빨': 7158, '어려워진': 7159, '돌이킬': 7160, '손댈': 7161, '분란': 7162, '유동': 7163, '임하': 7164, '취했': 7165, '체대': 7166, '몰리': 7167, '소매치기': 7168, '까칠': 7169, '퍼진': 7170, '전셋집': 7171, '파토': 7172, '뭘로': 7173, '기반': 7174, '놨더니': 7175, '발했': 7176, '사고방식': 7177, '말벗': 7178, '경영인': 7179, '별걱정': 7180, '신선': 7181, '미칠까': 7182, '꽂': 7183, '효능': 7184, '재산세': 7185, '먼지': 7186, '민감': 7187, '불어나': 7188, '언젠간': 7189, '웃겨': 7190, '블로그': 7191, '성품': 7192, '좋아한': 7193, '참신': 7194, '플러스': 7195, '더위': 7196, '논': 7197, '우러러': 7198, '향후': 7199, '덥': 7200, '들렀': 7201, '그립': 7202, '쏟아지': 7203, '놔라': 7204, '여도': 7205, '외로워졌': 7206, '끈질기': 7207, '처하': 7208, '늘그막': 7209, '둬야': 7210, '거액': 7211, '재작년': 7212, '이동한': 7213, '식도암': 7214, '귀여워': 7215, '오르내리': 7216, '징그러운': 7217, '부패': 7218, '따라준': 7219, '헷갈려서': 7220, '따가운': 7221, '가벼워진': 7222, '음악가': 7223, '면역력': 7224, '허벅지': 7225, '뜨개': 7226, '앞장섰': 7227, '인물': 7228, '오피스': 7229, '싫어해서': 7230, '소아마비': 7231, '쩔뚝이': 7232, '무의미': 7233, '연체': 7234, '희생자': 7235, '졌었': 7236, '구인': 7237, '지킬': 7238, '문중': 7239, '제기': 7240, '일거수일투족': 7241, '야속': 7242, '내려갈까': 7243, '엎드려': 7244, '아웃': 7245, '시려': 7246, '쏠쏠': 7247, '그만둬': 7248, '예뻐졌': 7249, '건드려서': 7250, '물어볼까': 7251, '아우': 7252, '까다롭': 7253, '쫓겨': 7254, '부린': 7255, '던진': 7256, '철없이': 7257, '운용': 7258, '마르': 7259, '보여줘': 7260, '유흥': 7261, '지켜줄': 7262, '및': 7263, '팔찌': 7264, '착용': 7265, '무난히': 7266, '스러워졌': 7267, '인감도장': 7268, '피임': 7269, '화환': 7270, '다쳤으나': 7271, '감사패': 7272, '볼까봐': 7273, '마친': 7274, '실천': 7275, '흔들': 7276, '엄마야': 7277, '오더': 7278, '운동복': 7279, '고군분투': 7280, '공통': 7281, '으셔야': 7282, '장담': 7283, '상향': 7284, '미심쩍': 7285, '시원섭섭': 7286, '으라': 7287, '무인': 7288, '공백기': 7289, '제정신': 7290, '단풍': 7291, '영웅': 7292, '감돌': 7293, '과생': 7294, '청소부': 7295, '끙끙대': 7296, '신음': 7297, '누리': 7298, '빌빌거리': 7299, '세요': 7300, '날릴까': 7301, '추진': 7302, '고구마': 7303, '셋째': 7304, '마려워': 7305, '정전': 7306, '전근': 7307, '즐거움': 7308, '학습지': 7309, '사신대': 7310, '술값': 7311, '폐경기': 7312, '안쓰러운': 7313, '혼전': 7314, '불평불만': 7315, '무서움': 7316, '화끈거려': 7317, '의무': 7318, '베껴서': 7319, '댓글': 7320, '조짐': 7321, '알려줘야': 7322, '방광암': 7323, '억지': 7324, '문제아': 7325, '빵점': 7326, '염치없': 7327, '망쳐버렸': 7328, '자판기': 7329, '쫄쫄': 7330, '주삿바늘': 7331, '잠자리': 7332, '빠져드': 7333, '미세': 7334, '세운': 7335, '협조': 7336, '랄까': 7337, '손재주': 7338, '무식': 7339, '쪄': 7340, '우쭐대': 7341, '벌어먹': 7342, '이뤘': 7343, '보니': 7344, '이래저래': 7345, '돋': 7346, '쉬웠': 7347, '대중목욕탕': 7348, '지간': 7349, '발가락': 7350, '신뢰감': 7351, '습득': 7352, '지날': 7353, '피자': 7354, '곤욕': 7355, '하루빨리': 7356, '앞길': 7357, '약통': 7358, '수용': 7359, '해자': 7360, '아낄': 7361, '저절로': 7362, '피라미드': 7363, '가까워져': 7364, '복장': 7365, '마칠': 7366, '사적': 7367, '처져': 7368, '세라': 7369, '팔짱': 7370, '퍼져서': 7371, '궁핍': 7372, '피운다는': 7373, '히스테리': 7374, '시점': 7375, '페이퍼': 7376, '주워': 7377, '욕심내': 7378, '등졌': 7379, '단지': 7380, '대외': 7381, '협회': 7382, '연결': 7383, '저게': 7384, '나아졌': 7385, '하락': 7386, '이바지': 7387, '밀가루': 7388, '끼쳤': 7389, '잊혀질까': 7390, '사래': 7391, '아비규환': 7392, '재롱': 7393, '일어서': 7394, '푼돈': 7395, '공단': 7396, '호언장담': 7397, '냉담': 7398, '경사': 7399, '싸운다': 7400, '부끄러운지': 7401, '해진다': 7402, '찢어졌': 7403, '토하': 7404, '고함': 7405, '분해서': 7406, '갓난': 7407, '생일상': 7408, '표창장': 7409, '봉사자': 7410, '리스트': 7411, '속옷': 7412, '동일': 7413, '급전': 7414, '그런다고': 7415, '멈춘': 7416, '숙이': 7417, '나날이': 7418, '놀릴까': 7419, '솔로': 7420, '바쳐': 7421, '심술': 7422, '잡무': 7423, '통합': 7424, '식비': 7425, '북받쳐': 7426, '석사': 7427, '여겼': 7428, '녹초': 7429, '흔들려': 7430, '지퍼': 7431, '진저리': 7432, '초음파': 7433, '사전': 7434, '점장': 7435, '가만': 7436, '시신': 7437, '설교': 7438, '행실': 7439, '야구팀': 7440, '챙긴다는': 7441, '근소': 7442, '흔들리': 7443, '정해진': 7444, '등진': 7445, '승소': 7446, '어지러운': 7447, '홍보': 7448, '임대료': 7449, '속상할': 7450, '인사말': 7451, '명목': 7452, '처녀': 7453, '잊힐': 7454, '약재': 7455, '나쁜데': 7456, '웃어넘기': 7457, '컵': 7458, '잡혔': 7459, '관심사': 7460, '편협': 7461, '건드렸': 7462, '탈퇴': 7463, '막차': 7464, '졌어': 7465, '고려': 7466, '내려야': 7467, '두근두근': 7468, '놀러갔': 7469, '깎아내리': 7470, '소서': 7471, '어려워질': 7472, '불참': 7473, '떠맡기': 7474, '커리어': 7475, '지려': 7476, '나온다는': 7477, '풍성': 7478, '노조': 7479, '는대서': 7480, '전무': 7481, '일터': 7482, '포토샵': 7483, '묵살': 7484, '복사기': 7485, '별도': 7486, '약혼': 7487, '전선': 7488, '드셨': 7489, '한구석': 7490, '용종': 7491, '생소': 7492, '천성': 7493, '인재': 7494, '약관': 7495, '천불': 7496, '망해': 7497, '산만': 7498, '바꿔야': 7499, '익사': 7500, '노예': 7501, '금주': 7502, '저놈': 7503, '지으려고': 7504, '간다면': 7505, '고질병': 7506, '부풀': 7507, '무얼': 7508, '국물': 7509, '달려갔': 7510, '뷔페': 7511, '배워서': 7512, '으신가': 7513, '부러진': 7514, '캐물': 7515, '중이염': 7516, '위주': 7517, '부쳐': 7518, '물리치료': 7519, '고기반찬': 7520, '어린이집': 7521, '풍기': 7522, '공직': 7523, '보낸다고': 7524, '약혼자': 7525, '자습': 7526, '추워서': 7527, '장치': 7528, '갈구': 7529, '즐거울': 7530, '매매': 7531, '여덟': 7532, '희귀': 7533, '껄끄러워': 7534, '뒤떨어진': 7535, '개수': 7536, '비뇨기과': 7537, '벌벌': 7538, '훔쳐서': 7539, '이래야': 7540, '집세': 7541, '놀릴': 7542, '주차장': 7543, '행위': 7544, '이런지': 7545, '자금난': 7546, '현관문': 7547, '진통제': 7548, '발병': 7549, '균': 7550, '공문': 7551, '척도': 7552, '내버려뒀': 7553, '아쉬운': 7554, '내후년': 7555, '폴더': 7556, '주스': 7557, '다나': 7558, '낮잠': 7559, '독박': 7560, '징징대': 7561, '김장': 7562, '사자': 7563, '겨': 7564, '환경미화원': 7565, '비행': 7566, '청소년': 7567, '내정자': 7568, '왼쪽': 7569, '시댄': 7570, '일으켰': 7571, '러닝': 7572, '머신': 7573, '맞은편': 7574, '오로지': 7575, '물려': 7576, '가신': 7577, '바꿀까': 7578, '까마득': 7579, '치워야': 7580, '문고': 7581, '소지품': 7582, '물어봐야': 7583, '모레': 7584, '연기자': 7585, '캐스팅': 7586, '마주칠': 7587, '사도': 7588, '노산': 7589, '이마': 7590, '협업': 7591, '무전취식': 7592, '가물가물': 7593, '주무시': 7594, '받아들였': 7595, '패션': 7596, '자질': 7597, '메뚜기': 7598, '사흘': 7599, '증이': 7600, '저거': 7601, '에어로빅': 7602, '왈칵': 7603, '스킨': 7604, '들어섰': 7605, '저버리': 7606, '사채업자': 7607, '싼': 7608, '걷기': 7609, '스크린': 7610, '남겨져': 7611, '욕실': 7612, '현명': 7613, '저질러서': 7614, '사모님': 7615, '친분': 7616, '필': 7617, '걸쳤': 7618, '신다는': 7619, '철렁': 7620, '눌러서': 7621, '뒷골': 7622, '퍼뜨려': 7623, '들먹이': 7624, '삼겹살': 7625, '하향': 7626, '숙연': 7627, '축농증': 7628, '과신': 7629, '서글픈데': 7630, '못생겼': 7631, '박혀': 7632, '성가실': 7633, '다쳤었': 7634, '횡단보도': 7635, '올릴까': 7636, '후두염': 7637, '물놀이': 7638, '떠내려갔': 7639, '움직임': 7640, '뜨거운': 7641, '두터운': 7642, '구성': 7643, '짝짝': 7644, '고마운지': 7645, '낙오': 7646, '못지않': 7647, '통계': 7648, '아픈게': 7649, '우연': 7650, '지겨운': 7651, '으신지': 7652, '도울': 7653, '부사수': 7654, '주어지': 7655, '설렌다': 7656, '독촉장': 7657, '확산': 7658, '화고': 7659, '흘러도': 7660, '론': 7661, '뺏겨서': 7662, '물을까': 7663, '무직': 7664, '따위': 7665, '혹사': 7666, '잠든': 7667, '끓이': 7668, '깰까': 7669, '시큰둥': 7670, '문구점': 7671, '곰팡이': 7672, '타입': 7673, '라더군': 7674, '금산사': 7675, '도태': 7676, '다가올수록': 7677, '즉석식품': 7678, '억장': 7679, '엇갈린': 7680, '는다는데': 7681, '나잇값': 7682, '아프리카': 7683, '치일': 7684, '인형': 7685, '고아원': 7686, '오래간만': 7687, '백세': 7688, '점잖': 7689, '횡단': 7690, '치러야': 7691, '서글픈': 7692, '사려': 7693, '지켜봐': 7694, '고심': 7695, '일러': 7696, '사비': 7697, '밤낮': 7698, '줄넘기': 7699, '기다려져': 7700, '으름장': 7701, '건조': 7702, '생리대': 7703, '둘지': 7704, '외투': 7705, '건전지': 7706, '키워놨': 7707, '액정': 7708, '믿음직스럽': 7709, '화만': 7710, '기르': 7711, '팔려': 7712, '신종': 7713, '놨던': 7714, '합류': 7715, '시집살이': 7716, '섞인': 7717, '모자랄': 7718, '사방': 7719, '기원': 7720, '때렸었': 7721, '자다': 7722, '설쳤': 7723, '느낄까': 7724, '뒤떨어져': 7725, '부정행위': 7726, '남겨져서': 7727, '민수': 7728, '챙겼으면': 7729, '난대': 7730, '권해서': 7731, '당번': 7732, '한문': 7733, '환영': 7734, '지은': 7735, '흉터': 7736, '환승': 7737, '비우': 7738, '다솜': 7739, '여윳돈': 7740, '신물': 7741, '갖은': 7742, '다녀와야': 7743, '사나': 7744, '땡볕': 7745, '치인': 7746, '사체': 7747, '남녀': 7748, '을걸': 7749, '체해서': 7750, '밤중': 7751, '다툴': 7752, '윗몸': 7753, '변변찮': 7754, '맛보': 7755, '움직여도': 7756, '바뀐다고': 7757, '컸었': 7758, '빼돌렸': 7759, '신용도': 7760, '시집갈': 7761, '텅텅': 7762, '지진': 7763, '호강': 7764, '아껴야': 7765, '중천': 7766, '밥상머리': 7767, '뒤집어엎': 7768, '나간다는': 7769, '나올까봐': 7770, '발끝': 7771, '연골': 7772, '사달': 7773, '물질': 7774, '고쳐야': 7775, '독일': 7776, '다녀온다고': 7777, '유연': 7778, '대상포진': 7779, '흔적': 7780, '저택': 7781, '여사': 7782, '길바닥': 7783, '유서': 7784, '친해졌': 7785, '녀': 7786, '오니': 7787, '해해': 7788, '번거롭': 7789, '남친': 7790, '로써': 7791, '하직': 7792, '우정': 7793, '전자': 7794, '속해': 7795, '쑥스럽': 7796, '고도': 7797, '감출': 7798, '치명': 7799, '당해도': 7800, '더럽혀': 7801, '발버둥': 7802, '유형': 7803, '줌': 7804, '살아간다는': 7805, '쩝쩝': 7806, '아실까': 7807, '어린아이': 7808, '나아가': 7809, '진다': 7810, '적어도': 7811, '혜인': 7812, '넉넉히': 7813, '목발': 7814, '맘먹': 7815, '들어': 7816, '한데도': 7817, '삐쳤': 7818, '찬바람': 7819, '끝자락': 7820, '변덕': 7821, '지사': 7822, '숨겨둔': 7823, '호출': 7824, '나을까': 7825, '구실': 7826, '강박': 7827, '발표회': 7828, '깨뜨려서': 7829, '눈병': 7830, '남부럽': 7831, '오래가': 7832, '부러움': 7833, '자신감': 7834, '모발': 7835, '들통나': 7836, '이루어진다는': 7837, '겹치': 7838, '위반': 7839, '개교기념일': 7840, '보육원': 7841, '걸기': 7842, '깨진': 7843, '비친': 7844, '멤버': 7845, '보인': 7846, '배탈': 7847, '비운': 7848, '쫓아내': 7849, '일부분': 7850, '밥풀': 7851, '나와도': 7852, '부딪쳐': 7853, '마셔버렸': 7854, '내려앉': 7855, '박탈': 7856, '었잖': 7857, '뒷산': 7858, '간다는데': 7859, '광택': 7860, '드는데': 7861, '청렴': 7862, '이불': 7863, '일단': 7864, '무너질': 7865, '이뤄서': 7866, '만든다고': 7867, '침착': 7868, '강해': 7869, '근거': 7870, '교활': 7871, '순진': 7872, '아사코': 7873, '월급쟁이': 7874, '스페인': 7875, '전염': 7876, '공들였': 7877, '데이터': 7878, '친형': 7879, '협착증': 7880, '경미': 7881, '통째': 7882, '별세': 7883, '드려도': 7884, '문책': 7885, '인기투표': 7886, '집단': 7887, '기관': 7888, '내력': 7889, '즈': 7890, '입력': 7891, '느낀다': 7892, '해야겠어': 7893, '활기차': 7894, '둘러댔': 7895, '평범': 7896, '치욕': 7897, '깨트렸': 7898, '슬플': 7899, '내린': 7900, '드린': 7901, '부주의': 7902, '투여': 7903, '퍼뜨린': 7904, '온다는': 7905, '왕년': 7906, '따분': 7907, '깜빡했': 7908, '중매': 7909, '소형차': 7910, '잔기침': 7911, '아주버님': 7912, '전전': 7913, '가벼워졌': 7914, '키워야': 7915, '구조대': 7916, '섣부른': 7917, '노여운': 7918, '순수': 7919, '되돌릴': 7920, '알바': 7921, '무게': 7922, '닳': 7923, '농촌': 7924, '편치': 7925, '염색': 7926, '어지르': 7927, '모른다더니': 7928, '고마운데': 7929, '애프터': 7930, '처가댁': 7931, '아첨': 7932, '출시': 7933, '떠날지': 7934, '심상': 7935, '놔뒀': 7936, '난데없이': 7937, '끼칠까': 7938, '착실히': 7939, '토라져서': 7940, '아름다운': 7941, '올지': 7942, '내편이': 7943, '열중': 7944, '틀린다': 7945, '남들': 7946, '서글퍼져': 7947, '헤': 7948, '말끝': 7949, '짠돌이': 7950, '디지털': 7951, '조율': 7952, '접어든': 7953, '질린다': 7954, '열악': 7955, '밭일': 7956, '상종': 7957, '감량': 7958, '병환': 7959, '스킬': 7960, '상실': 7961, '상주': 7962, '클래스': 7963, '차려줘도': 7964, '매달려서': 7965, '이랬': 7966, '저랬': 7967, '엠알': 7968, '출금': 7969, '회사채': 7970, '기지개': 7971, '외할아버지': 7972, '감회': 7973, '씌': 7974, '꼬락서니': 7975, '자소': 7976, '거들': 7977, '애경사': 7978, '넘보': 7979, '콩알': 7980, '섭취': 7981, '신통': 7982, '창작력': 7983, '분량': 7984, '마침': 7985, '소소': 7986, '구체': 7987, '극': 7988, '요금': 7989, '무마': 7990, '스페인어': 7991, '없애': 7992, '면회': 7993, '할까요': 7994, '키운다고': 7995, '녹용': 7996, '털모자': 7997, '보인대': 7998, '열심': 7999, '차단': 8000, '과격': 8001, '어지간': 8002, '핀': 8003, '갑상선암': 8004, '책임자': 8005, '장가갔': 8006, '껴도': 8007, '젖': 8008, '유언비어': 8009, '느냐': 8010, '인식': 8011, '전업주부': 8012, '신대서': 8013, '작아지': 8014, '까맣': 8015, '스쳐': 8016, '고교': 8017, '빼앗기': 8018, '꽁초': 8019, '벌금': 8020, '라기에': 8021, '후임자': 8022, '참고서': 8023, '하네': 8024, '마인드': 8025, '떳떳': 8026, '불의': 8027, '수포': 8028, '관리도': 8029, '배구': 8030, '놀라운': 8031, '꼬르륵': 8032, '카네이션': 8033, '적정': 8034, '한결같이': 8035, '어버이': 8036, '변동': 8037, '찬스': 8038, '눕': 8039, '얽혀': 8040, '투덜거려': 8041, '수납': 8042, '떠돌': 8043, '균형': 8044, '진행할': 8045, '적합': 8046, '티끌': 8047, '사슴벌레': 8048, '새해': 8049, '튀어나와': 8050, '짜릿': 8051, '진동': 8052, '해놔서': 8053, '소고기': 8054, '액세서리': 8055, '나아야': 8056, '빨간': 8057, '띄엄띄엄': 8058, '체험학습': 8059, '그런대로': 8060, '장난삼': 8061, '한건데': 8062, '산책로': 8063, '풀릴': 8064, '거뜬히': 8065, '간단히': 8066, '휘트': 8067, '배운다고': 8068, '달라질': 8069, '켰': 8070, '클라우드': 8071, '예술': 8072, '급식비': 8073, '낸다고': 8074, '치매증': 8075, '몰아세웠': 8076, '새아버지': 8077, '그치만': 8078, '짊어지': 8079, '따로따로': 8080, '우물쭈물': 8081, '고비': 8082, '넘어서': 8083, '닫히': 8084, '주소': 8085, '뒷머리': 8086, '앓아눕': 8087, '내키': 8088, '찍힌': 8089, '느낀다고': 8090, '우르르': 8091, '몰려가': 8092, '절당': 8093, '의하': 8094, '뛸': 8095, '참혹': 8096, '야단친': 8097, '울상': 8098, '여우': 8099, '옮긴다고': 8100, '유도': 8101, '해준다': 8102, '몰렸': 8103, '야무지': 8104, '멋': 8105, '아래층': 8106, '연신': 8107, '굽신거리': 8108, '이름표': 8109, '털털': 8110, '호프집': 8111, '혹여': 8112, '본대': 8113, '부러울': 8114, '어울림': 8115, '다크서클': 8116, '모피': 8117, '나갈까': 8118, '속없': 8119, '려는가': 8120, '매니아': 8121, '쪽팔려서': 8122, '티켓': 8123, '의해서': 8124, '생태': 8125, '파괴': 8126, '모를까': 8127, '몰아치': 8128, '신호등': 8129, '스마트': 8130, '올가미': 8131, '점집': 8132, '살려줘': 8133, '한주': 8134, '덤벼': 8135, '영업직': 8136, '들러리': 8137, '올림피아드': 8138, '헛되': 8139, '키워드': 8140, '중고': 8141, '걸쳐': 8142, '췄': 8143, '저지를': 8144, '감염자': 8145, '끄떡없': 8146, '겠다': 8147, '오른팔': 8148, '늘어져서': 8149, '친숙': 8150, '세력': 8151, '기록부': 8152, '어김없이': 8153, '특이': 8154, '야단맞': 8155, '귀감': 8156, '성찰': 8157, '그려진': 8158, '함흥차사': 8159, '현미': 8160, '백미': 8161, '사그라지': 8162, '침울': 8163, '주니': 8164, '능숙': 8165, '해결책': 8166, '납입': 8167, '한들': 8168, '내려줄': 8169, '틈틈이': 8170, '노환': 8171, '장터': 8172, '으쓱': 8173, '킥': 8174, '보드': 8175, '마침내': 8176, '저질러도': 8177, '반항심': 8178, '따라올': 8179, '경지': 8180, '렀다': 8181, '달려왔': 8182, '반가운': 8183, '가채점': 8184, '사택': 8185, '뒤섞여': 8186, '이송': 8187, '강점': 8188, '볕': 8189, '합석': 8190, '살래': 8191, '반딧불이': 8192, '자유분방': 8193, '근무지': 8194, '물려줘서': 8195, '홀대': 8196, '어려진': 8197, '무자비': 8198, '바래다주': 8199, '싸운다는': 8200, '트기': 8201, '나란히': 8202, '조문객': 8203, '진즉': 8204, '알아차릴': 8205, '몰아갔': 8206, '과할': 8207, '열려도': 8208, '빨리빨리': 8209, '환장': 8210, '지름길': 8211, '송두리': 8212, '잠잠': 8213, '부으면': 8214, '수유': 8215, '시끌시끌': 8216, '입학식': 8217, '수천만': 8218, '치장': 8219, '걸림돌': 8220, '뭉클': 8221, '몸집': 8222, '예지': 8223, '몽': 8224, '과시': 8225, '펼쳐': 8226, '그래야지': 8227, '그래그래': 8228, '이끈': 8229, '선망': 8230, '루': 8231, '언서': 8232, '옛일': 8233, '귀티': 8234, '어려웠을': 8235, '삐뚤어질': 8236, '두르': 8237, '위조품': 8238, '관철': 8239, '무감각': 8240, '다가온': 8241, '영역': 8242, '모바일': 8243, '무서웠어': 8244, '독학': 8245, '때려왔': 8246, '응시': 8247, '찬다': 8248, '압도': 8249, '산불': 8250, '끄러': 8251, '뭔데': 8252, '깎일': 8253, '활약': 8254, '징징': 8255, '유용': 8256, '저렸': 8257, '날아다니': 8258, '아비': 8259, '법석이': 8260, '세워놨': 8261, '빨개져서': 8262, '선택지': 8263, '매몰': 8264, '손위': 8265, '휘둘려': 8266, '대해선': 8267, '화이트': 8268, '칠칠': 8269, '천년만년': 8270, '체격': 8271, '수거': 8272, '기워': 8273, '당사자': 8274, '관여': 8275, '추슬러': 8276, '올래': 8277, '졌어요': 8278, '못났': 8279, '흔쾌': 8280, '다그쳐': 8281, '무자식': 8282, '거니와': 8283, '신자': 8284, '무종교': 8285, '용납': 8286, '받자': 8287, '잡혀가': 8288, '옹호': 8289, '싸웠었': 8290, '일급': 8291, '뿌렸': 8292, '머': 8293, '이뻐서': 8294, '건사': 8295, '미화': 8296, '장어': 8297, '싸울까': 8298, '씻겨': 8299, '흔들렸': 8300, '가르': 8301, '굽히': 8302, '제각각': 8303, '차고': 8304, '솔루션': 8305, '소리쳐도': 8306, '넘네': 8307, '볼수록': 8308, '리라고': 8309, '경위': 8310, '정해졌': 8311, '간다니': 8312, '증원': 8313, '설맞이': 8314, '휩싸여': 8315, '미역': 8316, '완도': 8317, '검정': 8318, '바꿔치기': 8319, '얼음': 8320, '부득이': 8321, '더군다나': 8322, '오타': 8323, '지겨워하': 8324, '생이': 8325, '줄여도': 8326, '울분': 8327, '영양사': 8328, '쉬우': 8329, '심화': 8330, '봤었': 8331, '성심성의껏': 8332, '바랄': 8333, '일수': 8334, '물으': 8335, '역겨울': 8336, '삼총사': 8337, '소아비': 8338, '스케이트': 8339, '들러': 8340, '체결': 8341, '떠난다면': 8342, '세방': 8343, '들어온대': 8344, '상대편': 8345, '쳐다': 8346, '낙상': 8347, '바람나': 8348, '뿌리쳤': 8349, '찜질': 8350, '엉성': 8351, '요로': 8352, '헉헉거리': 8353, '혼담': 8354, '프린트': 8355, '추모': 8356, '신지': 8357, '바닷가': 8358, '정오': 8359, '온댔': 8360, '유한': 8361, '일찍이': 8362, '기절초풍': 8363, '사업장': 8364, '공감대': 8365, '박한': 8366, '치켜세우': 8367, '소문내': 8368, '똑': 8369, '부러지': 8370, '깰': 8371, '정신병': 8372, '재난': 8373, '탐방': 8374, '취조': 8375, '풀릴지': 8376, '광주': 8377, '혼잣말': 8378, '막심': 8379, '더워도': 8380, '푹신': 8381, '더럽혔': 8382, '기필코': 8383, '뒤쳐진': 8384, '메우': 8385, '온돌': 8386, '대패': 8387, '와서야': 8388, '부케': 8389, '제공': 8390, '거뜬': 8391, '중계': 8392, '더구나': 8393, '성가신데': 8394, '사량': 8395, '쬐': 8396, '테니스': 8397, '오프라인': 8398, '때려치': 8399, '고달파': 8400, '새로움': 8401, '어쩐': 8402, '준다더니': 8403, '연고지': 8404, '아이스크림': 8405, '야겠단': 8406, '입소문': 8407, '빚더미': 8408, '기껏해야': 8409, '꼽': 8410, '들떴': 8411, '언어': 8412, '집어던졌': 8413, '메이커': 8414, '피트': 8415, '우애': 8416, '제일가': 8417, '출판': 8418, '공인': 8419, '중개사': 8420, '중개': 8421, '답례': 8422, '도구': 8423, '고르기': 8424, '빗길': 8425, '미끄러져서': 8426, '뇌사자': 8427, '사레': 8428, '성전': 8429, '골골': 8430, '자빠져': 8431, '물러': 8432, '차익': 8433, '거창': 8434, '폭풍우': 8435, '순환': 8436, '찌릿찌릿': 8437, '간헐': 8438, '배송': 8439, '베개': 8440, '빠뜨리': 8441, '오죽': 8442, '안치': 8443, '약수터': 8444, '마당': 8445, '스러울까': 8446, '독': 8447, '방사선': 8448, '으실': 8449, '사네': 8450, '왕복': 8451, '들킬까봐': 8452, '뽐내': 8453, '위함': 8454, '리스크': 8455, '전립선암': 8456, '교정': 8457, '배움터': 8458, '향했': 8459, '제보자': 8460, '발랐': 8461, '딸려': 8462, '콘테스트': 8463, '개최': 8464, '황혼기': 8465, '치러서': 8466, '급식소': 8467, '서성거렸': 8468, '모일': 8469, '비축': 8470, '신사업': 8471, '건설업': 8472, '가만있': 8473, '유무': 8474, '좌석': 8475, '시트': 8476, '괴롭혔으면': 8477, '산다기': 8478, '날카로우': 8479, '더치페이': 8480, '꿰': 8481, '전했': 8482, '차가워서': 8483, '이층집': 8484, '수술대': 8485, '해낼지': 8486, '되도록': 8487, '우등상': 8488, '아트': 8489, '루테인': 8490, '서바이벌': 8491, '멘붕': 8492, '틀어지': 8493, '빈틈': 8494, '천사': 8495, '연구실': 8496, '벌겋': 8497, '중책': 8498, '지킴이': 8499, '로라': 8500, '호형호제': 8501, '붉어지': 8502, '퇴소': 8503, '돌본다는': 8504, '개인사': 8505, '처치': 8506, '갈려고': 8507, '근질근질': 8508, '함량': 8509, '구할까': 8510, '저세상': 8511, '간다더니': 8512, '편견': 8513, '유니세프': 8514, '구년': 8515, '방면': 8516, '약건': 8517, '처진': 8518, '완성도': 8519, '망설였': 8520, '얹혀사': 8521, '불로': 8522, '불안해할': 8523, '조처': 8524, '내려졌': 8525, '큰지': 8526, '접했': 8527, '방조': 8528, '아사': 8529, '해진다고': 8530, '기침약': 8531, '과학고': 8532, '코빼기': 8533, '은연중': 8534, '취업률': 8535, '역대': 8536, '스테이크': 8537, '해다': 8538, '쳐지': 8539, '성깔': 8540, '사나워서': 8541, '걸어온': 8542, '이대론': 8543, '골고루': 8544, '국수': 8545, '들락날락': 8546, '철인': 8547, '최고령': 8548, '플래카드': 8549, '비출': 8550, '밝혀': 8551, '길렀': 8552, '임만': 8553, '외딴섬': 8554, '위절제술': 8555, '윗': 8556, '배낭여행': 8557, '무너져내릴': 8558, '정의': 8559, '콱': 8560, '명세서': 8561, '전산': 8562, '인기척': 8563, '제보': 8564, '장난친': 8565, '헛소리': 8566, '퇴자': 8567, '멍한': 8568, '구시렁거리': 8569, '작은형': 8570, '삐쩍': 8571, '말라버렸': 8572, '소모품': 8573, '행운아': 8574, '매스컴': 8575, '친족': 8576, '늦췄': 8577, '는다더니': 8578, '세상일': 8579, '태어났으면': 8580, '야겠다': 8581, '옮겨서': 8582, '연세대': 8583, '증권': 8584, '도둑년': 8585, '암산': 8586, '꼬였': 8587, '띄웠': 8588, '뭐였을까': 8589, '성당': 8590, '쫓겨났': 8591, '창출': 8592, '파스타': 8593, '결혼관': 8594, '알람': 8595, '섬유증': 8596, '용접공': 8597, '서적': 8598, '으려니까': 8599, '시달렸': 8600, '정류장': 8601, '새치기': 8602, '항암제': 8603, '터진': 8604, '기름지': 8605, '부사': 8606, '걸어야': 8607, '한방': 8608, '치미': 8609, '권력': 8610, '떨어진다며': 8611, '저질': 8612, '미뤄질': 8613, '얕잡아보': 8614, '엄한데': 8615, '싱거워': 8616, '쳇바퀴': 8617, '다람쥐': 8618, '안위': 8619, '남지': 8620, '민정': 8621, '명령': 8622, '의예과': 8623, '따돌린다고': 8624, '들뜬': 8625, '커피믹스': 8626, '과음': 8627, '돌발': 8628, '알아볼': 8629, '누르': 8630, '우니': 8631, '잡음': 8632, '개강': 8633, '꼿꼿': 8634, '묵묵부답': 8635, '웃겨서': 8636, '낄낄거리': 8637, '과금': 8638, '부자간': 8639, '안쓰러워서': 8640, '깎인': 8641, '빗자루': 8642, '찌르': 8643, '이뤄낸': 8644, '척한': 8645, '매니지먼트': 8646, '금도': 8647, '뺀다': 8648, '할당제': 8649, '챙겨올': 8650, '시킨다는': 8651, '시리': 8652, '스카웃': 8653, '주전': 8654, '결함': 8655, '양파': 8656, '고른': 8657, '누런': 8658, '가래': 8659, '숨겨뒀': 8660, '직서': 8661, '수리': 8662, '차량': 8663, '더욱더': 8664, '사라진다고': 8665, '택해야': 8666, '흐리': 8667, '겁쟁이': 8668, '배고픔': 8669, '일교차': 8670, '랜덤': 8671, '근종': 8672, '쿵쿵대': 8673, '무려': 8674, '빈곤층': 8675, '금고': 8676, '키를': 8677, '대졸자': 8678, '닫힘': 8679, '닥달': 8680, '소유물': 8681, '댄다': 8682, '꽃단장': 8683, '날린': 8684, '봐줘': 8685, '고약': 8686, '논과': 8687, '기여': 8688, '고야': 8689, '비틀': 8690, '여든여덟': 8691, '나진': 8692, '돈다발': 8693, '유령': 8694, '급락': 8695, '마그네슘': 8696, '슬며시': 8697, '살펴봤': 8698, '한눈판': 8699, '의과': 8700, '육군사관학교': 8701, '반가워서': 8702, '깨우쳤': 8703, '중간중간': 8704, '조장': 8705, '리더십': 8706, '은퇴자': 8707, '깎아내렸': 8708, '앞뒤': 8709, '통한다고': 8710, '세균': 8711, '번식': 8712, '옥탑방': 8713, '매니큐어': 8714, '차근차근': 8715, '유치장': 8716, '올라도': 8717, '시끄러운': 8718, '내팽개쳐': 8719, '드실': 8720, '치민': 8721, '알려준다는': 8722, '상대측': 8723, '목적지': 8724, '따라오': 8725, '수출': 8726, '만드셔': 8727, '근무력증': 8728, '버릇없': 8729, '드세': 8730, '투찰': 8731, '세포': 8732, '높여서': 8733, '번창': 8734, '풀린': 8735, '선후배': 8736, '관객': 8737, '땜': 8738, '어안': 8739, '벙벙': 8740, '통역사': 8741, '원활': 8742, '묵묵히': 8743, '베테랑': 8744, '태평': 8745, '큰며느리': 8746, '따라간다고': 8747, '드려서': 8748, '영심이': 8749, '투약': 8750, '증여': 8751, '도우며': 8752, '성찬': 8753, '패': 8754, '고의로': 8755, '리더': 8756, '언질': 8757, '구순': 8758, '태교': 8759, '일확천금': 8760, '입실': 8761, '어만': 8762, '간다네': 8763, '흘려': 8764, '쇠약': 8765, '신중히': 8766, '차비': 8767, '자본주의': 8768, '카레': 8769, '안쓰러웠': 8770, '윤': 8771, '바퀴벌레': 8772, '흘겨보': 8773, '지칠': 8774, '움츠려': 8775, '산다면': 8776, '한가요': 8777, '사이비': 8778, '끌려갈': 8779, '오목': 8780, '헛구역': 8781, '타깃': 8782, '욕구': 8783, '요추': 8784, '협': 8785, '착': 8786, '밤샌': 8787, '내보내': 8788, '변성기': 8789, '아인데': 8790, '먹일': 8791, '유기농': 8792, '곡물': 8793, '검색': 8794, '위한다고': 8795, '꿀꿀': 8796, '얄미운': 8797, '근무처': 8798, '궃': 8799, '기억났': 8800, '권할': 8801, '기둥': 8802, '없앨': 8803, '저장': 8804, '부둥켜안': 8805, '아이디': 8806, '항공': 8807, '증명사진': 8808, '쇼윈도': 8809, '집도': 8810, '일삼': 8811, '재건': 8812, '염치': 8813, '꼬마': 8814, '핼쑥': 8815, '진솔': 8816, '설쳐서': 8817, '몸보신': 8818, '웃음바다': 8819, '마마보이': 8820, '올려야': 8821, '추악': 8822, '불장난': 8823, '오판': 8824, '사귄다는': 8825, '권투': 8826, '래미네이트': 8827, '불어날': 8828, '하룻밤': 8829, '별말': 8830, '깬다': 8831, '심성': 8832, '소지': 8833, '군상': 8834, '정나미': 8835, '와요': 8836, '전업': 8837, '청결': 8838, '감사히': 8839, '치주염': 8840, '부추기': 8841, '판단력': 8842, '추워져': 8843, '냉소': 8844, '된대서': 8845, '돌아간': 8846, '본능': 8847, '천장': 8848, '무너져서': 8849, '자칫': 8850, '어우': 8851, '안식처': 8852, '노년층': 8853, '회서': 8854, '뻔질나게': 8855, '청하': 8856, '비흡연자': 8857, '지낸다고': 8858, '개고기': 8859, '이긴': 8860, '환호성': 8861, '합심': 8862, '처절': 8863, '쓰려서': 8864, '이맘때': 8865, '혈중': 8866, '사신다': 8867, '달해': 8868, '어겼': 8869, '질는지': 8870, '넘어간다는': 8871, '가부장': 8872, '통제': 8873, '가르침': 8874, '친목회': 8875, '떠올려도': 8876, '도맡': 8877, '뽀삐': 8878, '물렸': 8879, '견주': 8880, '쌍방': 8881, '내려올': 8882, '귓속말': 8883, '차야': 8884, '재활용품': 8885, '독수공방': 8886, '원천': 8887, '리니': 8888, '바라봤': 8889, '교통비': 8890, '삭히': 8891, '아픈가': 8892, '짤렸': 8893, '약혼녀': 8894, '하얗': 8895, '뽐냈': 8896, '생필품': 8897, '오른쪽': 8898, '가불': 8899, '못했으니': 8900, '혼사': 8901, '서프라이즈': 8902, '십수': 8903, '더만': 8904, '반등': 8905, '흔들려서': 8906, '꿔': 8907, '당신': 8908, '견뎌야': 8909, '나도': 8910, '표출': 8911, '허하': 8912, '주재료': 8913, '순직': 8914, '꾸며서': 8915, '이상형': 8916, '상한다': 8917, '심해질': 8918, '수로': 8919, '따돌릴지': 8920, '복무': 8921, '아쉬워서': 8922, '더치': 8923, '가로등': 8924, '들이받': 8925, '변한': 8926, '괴리': 8927, '정당방위': 8928, '벌게': 8929, '대피': 8930, '고스톱': 8931, '모실': 8932, '고관절': 8933, '발짝': 8934, '다가간': 8935, '갇혔': 8936, '뒤바뀌': 8937, '사례금': 8938, '수락': 8939, '풋살': 8940, '일어났었': 8941, '지낸다는': 8942, '피부염': 8943, '주빈': 8944, '판촉': 8945, '차출': 8946, '숙면': 8947, '코드': 8948, '고픈데': 8949, '꺼림칙': 8950, '국채': 8951, '창자': 8952, '편의': 8953, '어그러지': 8954, '곽': 8955, '까닥': 8956, '아이폰': 8957, '카풀': 8958, '보안': 8959, '영진': 8960, '지지부진': 8961, '아까워서': 8962, '해석': 8963, '깨나': 8964, '귀중': 8965, '콜로라도주': 8966, '자연스레': 8967, '살폈': 8968, '사돈어른': 8969, '발톱': 8970, '으리라': 8971, '장년': 8972, '사교육': 8973, '늘리': 8974, '조례': 8975, '거명': 8976, '되갚': 8977, '밑바닥': 8978, '팔아먹': 8979, '일인': 8980, '남남': 8981, '기해': 8982, '강압': 8983, '콜록콜록': 8984, '투덜거렸': 8985, '빠진다고': 8986, '치지': 8987, '재물': 8988, '복이': 8989, '게서': 8990, '처가살이': 8991, '맞서': 8992, '이끈다는': 8993, '계신데': 8994, '난방': 8995, '억대': 8996, '입혀서': 8997, '둔지': 8998, '까탈': 8999, '지원자': 9000, '최소': 9001, '사준': 9002, '바닥난': 9003, '똥차': 9004, '무진': 9005, '파란': 9006, '대문': 9007, '조였': 9008, '가품': 9009, '옥살이': 9010, '무서울': 9011, '체제': 9012, '돌입': 9013, '기성': 9014, '곰곰이': 9015, '행각': 9016, '인격': 9017, '모자람': 9018, '해할': 9019, '동물원': 9020, '클지': 9021, '침해': 9022, '룸': 9023, '라이드': 9024, '오르락내리락': 9025, '무너진다': 9026, '정해져서': 9027, '파격': 9028, '얻어맞': 9029, '낙태': 9030, '나들이': 9031, '무서워했': 9032, '배워도': 9033, '근절': 9034, '뽑혀서': 9035, '계획안': 9036, '끌어내렸': 9037, '솟구쳐': 9038, '물정': 9039, '버렸었': 9040, '네이버': 9041, '크릴': 9042, '오일': 9043, '중금속': 9044, '안하무인': 9045, '이프랑': 9046, '학회': 9047, '도련': 9048, '몸뚱어리': 9049, '빈다고': 9050, '개방': 9051, '재상': 9052, '도우려고': 9053, '서러울': 9054, '고산': 9055, '지대': 9056, '헛바람': 9057, '나아질까': 9058, '돌연': 9059, '알려서': 9060, '내려다': 9061, '최상': 9062, '로운가': 9063, '멍해졌': 9064, '은혜': 9065, '업신여겨': 9066, '옆자리': 9067, '먹구름': 9068, '화창': 9069, '조폭': 9070, '들어간다는데': 9071, '주야장천': 9072, '반가우': 9073, '영화관': 9074, '들여놓': 9075, '녹차': 9076, '어쨌': 9077, '고마워할': 9078, '격리실': 9079, '쓴다며': 9080, '꾸린': 9081, '처방전': 9082, '꺾': 9083, '친의': 9084, '핸드백': 9085, '예치': 9086, '스러움': 9087, '마을버스': 9088, '위스키': 9089, '뜸했': 9090, '막다른': 9091, '넘어뜨렸': 9092, '환우': 9093, '두려운지': 9094, '난장판': 9095, '해킹': 9096, '대리운전': 9097, '약용식물': 9098, '지낼까': 9099, '기금': 9100, '분할': 9101, '건재': 9102, '초래': 9103, '하청': 9104, '중점': 9105, '타고나': 9106, '끝마쳐야': 9107, '들볶': 9108, '아려와': 9109, '온전': 9110, '가하': 9111, '멍하니': 9112, '욕구불만': 9113, '문헌': 9114, '정보과': 9115, '싱거워서': 9116, '헛딛': 9117, '월간지': 9118, '편일': 9119, '자식이': 9120, '인적': 9121, '올림픽': 9122, '임했': 9123, '모전': 9124, '였잖': 9125, '체한': 9126, '대만': 9127, '혈기': 9128, '큰다고': 9129, '달가워하': 9130, '몸뚱아리': 9131, '질서': 9132, '싸워도': 9133, '외양': 9134, '서래': 9135, '속상해할': 9136, '입찰': 9137, '뿌린': 9138, '나갔었': 9139, '만료일': 9140, '껍데기': 9141, '며늘아기': 9142, '겨울철': 9143, '두꺼운': 9144, '신경증': 9145, '휘말려서': 9146, '비중': 9147, '날려구': 9148, '경직': 9149, '느껴진다': 9150, '일손': 9151, '괄시': 9152, '미천': 9153, '나간다고': 9154, '살린다고': 9155, '예쁜데': 9156, '재처리': 9157, '찌기': 9158, '막냇동생': 9159, '거슬리': 9160, '처참히': 9161, '응할': 9162, '느릴까': 9163, '익지': 9164, '줘버렸': 9165, '삼인': 9166, '공중': 9167, '뚜껑': 9168, '닫혀': 9169, '내림': 9170, '아이템': 9171, '티오': 9172, '들러야': 9173, '고래': 9174, '새우등': 9175, '도리': 9176, '토박이': 9177, '속내': 9178, '설까': 9179, '면실': 9180, '염두': 9181, '태희': 9182, '천재': 9183, '볼래': 9184, '일거': 9185, '엄한': 9186, '인사불성': 9187, '먹였': 9188, '휴무일': 9189, '물병': 9190, '떨어뜨릴': 9191, '넘어올': 9192, '찔러보': 9193, '평안': 9194, '셰': 9195, '폐병': 9196, '염': 9197, '영지': 9198, '상철': 9199, '영점': 9200, '음감': 9201, '이쁨': 9202, '생각났': 9203, '조그마': 9204, '처자식': 9205, '찢어져': 9206, '찢긴': 9207, '머무': 9208, '반도체': 9209, '바치': 9210, '내려왔': 9211, '행세': 9212, '산물': 9213, '되려': 9214, '붐': 9215, '미투': 9216, '느껴질까': 9217, '예기': 9218, '박수': 9219, '노약자': 9220, '줏대': 9221, '까다로워': 9222, '세워야': 9223, '쓰린': 9224, '동정심': 9225, '안건': 9226, '표했': 9227, '뺀': 9228, '다쳤으면': 9229, '등갈비': 9230, '잔반': 9231, '축소': 9232, '들어올리기': 9233, '코코아': 9234, '음미': 9235, '스쳐도': 9236, '따가워서': 9237, '치웠': 9238, '연극배우': 9239, '망할': 9240, '재택': 9241, '특수': 9242, '부대': 9243, '만난다니': 9244, '경운기': 9245, '바친': 9246, '키로': 9247, '부룩': 9248, '들려주': 9249, '작심삼일': 9250, '사시사철': 9251, '거둬들여': 9252, '기저': 9253, '뻗': 9254, '궁색': 9255, '제작': 9256, '내려버렸': 9257, '미옥': 9258, '올바르': 9259, '입찰가': 9260, '알아맞혀서': 9261, '더라는': 9262, '기역': 9263, '설탕': 9264, '충동': 9265, '들러서': 9266, '묻혀': 9267, '큰처남': 9268, '사죄': 9269, '편한지': 9270, '곗거리는': 9271, '중압감': 9272, '나을지': 9273, '설문': 9274, '냉혹': 9275, '지켜준': 9276, '연달': 9277, '당해야': 9278, '페인트칠': 9279, '유력': 9280, '들여가': 9281, '유라': 9282, '쯕': 9283, '라잖아': 9284, '떵떵': 9285, '드러날까': 9286, '기다려줄': 9287, '오르간': 9288, '반주자': 9289, '내자': 9290, '메꿀': 9291, '패거리': 9292, '쫄면': 9293, '고달플': 9294, '내려온다': 9295, '못했을까': 9296, '창립': 9297, '마마': 9298, '무가': 9299, '다닌다면서': 9300, '데려': 9301, '배당': 9302, '꿋꿋': 9303, '견뎌낼': 9304, '베트남': 9305, '꾸려왔': 9306, '입국': 9307, '송년회': 9308, '예보': 9309, '놀랐었': 9310, '인파': 9311, '지킨다는': 9312, '휘말렸': 9313, '어깨치기': 9314, '창창': 9315, '떠미': 9316, '클': 9317, '번졌': 9318, '내세울': 9319, '제쳐': 9320, '반신불수': 9321, '기다려도': 9322, '젤': 9323, '국비': 9324, '치료법': 9325, '헤드셋': 9326, '콩쿠르': 9327, '거북': 9328, '해져야': 9329, '얌전히': 9330, '결코': 9331, '오질': 9332, '학용품': 9333, '황천길': 9334, '뛰쳐': 9335, '컨설턴트': 9336, '용의자': 9337, '설렁설렁': 9338, '자자': 9339, '지워': 9340, '덧없': 9341, '진탕': 9342, '못한데': 9343, '목격자': 9344, '곯아떨어지': 9345, '냉랭': 9346, '당첨자': 9347, '티나': 9348, '명함': 9349, '덕담': 9350, '수요일': 9351, '쪘었': 9352, '해할까': 9353, '치근덕거려서': 9354, '개편': 9355, '정든': 9356, '신생': 9357, '구석진': 9358, '대각선': 9359, '내보냈': 9360, '수분': 9361, '잠그': 9362, '벌려서': 9363, '두드리': 9364, '동락': 9365, '보낸다는': 9366, '목구멍': 9367, '대해줘': 9368, '선가': 9369, '수치심': 9370, '몰려왔': 9371, '지와': 9372, '힘써야': 9373, '버럭대': 9374, '소리쳐서': 9375, '지칭': 9376, '용어': 9377, '채식주의': 9378, '고수': 9379, '간호인': 9380, '후두암': 9381, '금세': 9382, '불명확': 9383, '유리창': 9384, '칫솔': 9385, '생겨나': 9386, '만져서': 9387, '밝힌다고': 9388, '놀래': 9389, '헤어졌으면': 9390, '기간제': 9391, '지민': 9392, '미끄러졌': 9393, '한눈': 9394, '가꾸': 9395, '일주': 9396, '편한데': 9397, '굳기': 9398, '마쳐야': 9399, '려다': 9400, '식상': 9401, '일으킬까': 9402, '키가': 9403, '센티미터': 9404, '캄캄하': 9405, '배다른': 9406, '느낀다는': 9407, '쑥스러워서': 9408, '껐': 9409, '페이스': 9410, '발걸음': 9411, '밝아지': 9412, '예견': 9413, '흘렀': 9414, '굴려': 9415, '충만': 9416, '영업부': 9417, '공포증': 9418, '감안': 9419, '면제': 9420, '취': 9421, '총괄': 9422, '구성원': 9423, '억만': 9424, '하와이': 9425, '메마르': 9426, '엄연히': 9427, '아신': 9428, '지하': 9429, '유골': 9430, '소실': 9431, '차키': 9432, '머쓱': 9433, '베낀': 9434, '방출': 9435, '공돈': 9436, '보탬': 9437, '여름날': 9438, '시집가': 9439, '스톡옵션': 9440, '무작정': 9441, '괴로움': 9442, '끊어졌': 9443, '장마철': 9444, '장대': 9445, '겹쳤': 9446, '전가': 9447, '주어질': 9448, '돋친': 9449, '순대': 9450, '스러운가': 9451, '훼손': 9452, '해약': 9453, '기로': 9454, '탑': 9455, '쫓아다녀': 9456, '꺼진': 9457, '손쓸': 9458, '짱': 9459, '웅덩이': 9460, '곤충': 9461, '꾀': 9462, '숨찬': 9463, '등등': 9464, '줄여야': 9465, '응모': 9466, '애틋': 9467, '과다': 9468, '지어다': 9469, '갈팡질팡': 9470, '굴레': 9471, '쪼들리': 9472, '승률': 9473, '눈길': 9474, '예사': 9475, '당해온': 9476, '전자레인지': 9477, '못한단': 9478, '국제': 9479, '재결합': 9480, '생물학자': 9481, '만병통치약': 9482, '어치': 9483, '들춰내': 9484, '알콜': 9485, '스토커': 9486, '사족': 9487, '이인삼각': 9488, '가버리': 9489, '우지': 9490, '지소': 9491, '알아본다고': 9492, '대범': 9493, '푸대접': 9494, '군무원': 9495, '다룬다': 9496, '표시': 9497, '친정아버지': 9498, '천국': 9499, '견이': 9500, '넌': 9501, '할려고': 9502, '부풀려서': 9503, '감상문': 9504, '한가득': 9505, '보미': 9506, '아웃백': 9507, '지킨': 9508, '희망차': 9509, '자래': 9510, '경희대': 9511, '장인': 9512, '이심': 9513, '패했': 9514, '걷힐': 9515, '부도났': 9516, '확답': 9517, '담담': 9518, '의외로': 9519, '느린데': 9520, '내려간다고': 9521, '힐': 9522, '도래': 9523, '수완': 9524, '소형': 9525, '카메라': 9526, '고하': 9527, '술버릇': 9528, '늘씬': 9529, '영화제': 9530, '관람': 9531, '영향력': 9532, '토론': 9533, '새하얘지': 9534, '차원': 9535, '연악': 9536, '보상금': 9537, '없앴': 9538, '내년도': 9539, '수립': 9540, '벤처': 9541, '예뻐질': 9542, '신변': 9543, '해몽': 9544, '앞당겨져': 9545, '비상사태': 9546, '번다면': 9547, '알림': 9548, '봉지': 9549, '고친다고': 9550, '내려진': 9551, '부쳐져': 9552, '귀한': 9553, '냉면': 9554, '어리광': 9555, '노궁': 9556, '전조': 9557, '가까운데': 9558, '주점': 9559, '급증': 9560, '적격': 9561, '비형': 9562, '수만': 9563, '감추': 9564, '알린다고': 9565, '기부금': 9566, '도입': 9567, '고학력자': 9568, '애달픈': 9569, '에프': 9570, '눈독': 9571, '미션': 9572, '쑥스러웠': 9573, '묻히': 9574, '기혼자': 9575, '사과드리': 9576, '무언': 9577, '떨어뜨렸': 9578, '배분': 9579, '가스레인지': 9580, '끈': 9581, '민': 9582, '남잔데': 9583, '착착': 9584, '화제': 9585, '건다고': 9586, '다이아': 9587, '글짓기': 9588, '벌여서': 9589, '자궁암': 9590, '썼을까': 9591, '대든': 9592, '목록': 9593, '병도': 9594, '가운데': 9595, '홍': 9596, '머릿결': 9597, '심신': 9598, '흘려들': 9599, '미룰': 9600, '선보': 9601, '쇠': 9602, '대거': 9603, '반수': 9604, '사나워져서': 9605, '할망정': 9606, '뒤통수치': 9607, '갓난아기': 9608, '멱살잡이': 9609, '평수': 9610, '졸려': 9611, '꿔서': 9612, '고모부': 9613, '항공업': 9614, '시체': 9615, '잔다고': 9616, '오묘': 9617, '사유': 9618, '노름빚': 9619, '명시': 9620, '으라네': 9621, '목사': 9622, '가눌': 9623, '설경': 9624, '산행': 9625, '억누르': 9626, '가했': 9627, '깬': 9628, '차안': 9629, '말벌': 9630, '이어가기': 9631, '레인': 9632, '홍콩': 9633, '돌아다녀도': 9634, '충실': 9635, '화끈거려서': 9636, '청소기': 9637, '들으시고': 9638, '귓등': 9639, '머리띠': 9640, '천근만근': 9641, '모른다는데': 9642, '얼만데': 9643, '온찜질': 9644, '끌려': 9645, '얕보': 9646, '컨': 9647, '닝': 9648, '하지': 9649, '일러바쳤': 9650, '중재': 9651, '부들부들': 9652, '순수익': 9653, '백조': 9654, '식충': 9655, '재수없': 9656, '옥이': 9657, '키워온': 9658, '반면': 9659, '납작': 9660, '예뻐진': 9661, '안달이': 9662, '지해': 9663, '집살이': 9664, '떠든다고': 9665, '국사': 9666, '수강': 9667, '췌장': 9668, '보육': 9669, '바람직': 9670, '세세': 9671, '따온': 9672, '미터': 9673, '쾅': 9674, '아쉬우': 9675, '빠짐': 9676, '리스': 9677, '차인': 9678, '넘어뜨려서': 9679, '여드름': 9680, '징그러웠': 9681, '식한': 9682, '폐가': 9683, '합동': 9684, '얼렁뚱땅': 9685, '무역': 9686, '백수인': 9687, '물회': 9688, '전남편': 9689, '모아놨': 9690, '이를까': 9691, '맞아떨어져서': 9692, '거역': 9693, '비롯': 9694, '동산': 9695, '하얘지': 9696, '일본어': 9697, '세제': 9698, '갈망': 9699, '준다지': 9700, '펜션': 9701, '편치가': 9702, '흉한': 9703, '만족감': 9704, '육류': 9705, '겠는데': 9706, '먹여서': 9707, '딴짓': 9708, '법안': 9709, '절제술': 9710, '형편없이': 9711, '바빠졌': 9712, '샤프': 9713, '얼버무려서': 9714, '알츠하이머병': 9715, '기척': 9716, '독점': 9717, '장차': 9718, '유망': 9719, '맹장': 9720, '고부간': 9721, '상위권': 9722, '비법': 9723, '에피소드': 9724, '경제학자': 9725, '괴롭혀왔': 9726, '크루즈': 9727, '해줄까': 9728, '유방': 9729, '바비큐': 9730, '텃새': 9731, '공업': 9732, '내미': 9733, '밖이': 9734, '멈췄으면': 9735, '밥걱정': 9736, '올려다보': 9737, '엇나가': 9738, '둑': 9739, '이복': 9740, '선천성': 9741, '늦깎이': 9742, '황새': 9743, '뱁새': 9744, '연대': 9745, '떠보': 9746, '울렁증': 9747, '세울': 9748, '손해나': 9749, '수백만': 9750, '뒤져': 9751, '발레': 9752, '역해서': 9753, '감퇴': 9754, '궁한': 9755, '성형수술': 9756, '줄려고': 9757, '붉어져': 9758, '승객': 9759, '파마': 9760, '씸': 9761, '는구만': 9762, '저하': 9763, '블라인드': 9764, '한국말': 9765, '마셔야': 9766, '먹지': 9767, '고지서': 9768, '찌들': 9769, '온다더니': 9770, '가라앉히': 9771, '유입': 9772, '이어져서': 9773, '갈아엎': 9774, '넘어간': 9775, '수요': 9776, '금실': 9777, '구린': 9778, '야생': 9779, '내참': 9780, '대한민국': 9781, '밟혀서': 9782, '백일': 9783, '미숙아': 9784, '호기심': 9785, '웅얼거리': 9786, '밀도': 9787, '피디': 9788, '조산': 9789, '두려워졌': 9790, '고시원': 9791, '다녀가': 9792, '소독': 9793, '철썩': 9794, '막바지': 9795, '한도': 9796, '코트': 9797, '저녁밥': 9798, '따른다면': 9799, '동요': 9800, '이주만': 9801, '까막눈': 9802, '실속': 9803, '보드게임': 9804, '경찰관': 9805, '미영': 9806, '도모': 9807, '올려져': 9808, '카카오': 9809, '밑천': 9810, '그새': 9811, '든다면서': 9812, '물어뜯': 9813, '기타': 9814, '표기': 9815, '제자리걸음': 9816, '무알코올': 9817, '개입': 9818, '무서워져': 9819, '도망쳐야': 9820, '지켜줬': 9821, '서류철': 9822, '얕': 9823, '필까': 9824, '입소': 9825, '뒤척': 9826, '자궁경부암': 9827, '피울까': 9828, '경청': 9829, '혈': 9830, '번짼데': 9831, '파도': 9832, '휩쓸려': 9833, '수군거려서': 9834, '시가': 9835, '불러들이': 9836, '상투': 9837, '날라': 9838, '쉼터': 9839, '어딨': 9840, '고마우': 9841, '뒤돌아보': 9842, '하나님': 9843, '필리핀': 9844, '까다로워서': 9845, '뇌야': 9846, '쉬쉬': 9847, '성의': 9848, '폐기': 9849, '역무원': 9850, '질러도': 9851, '벗어났': 9852, '콘돔': 9853, '마주칠까': 9854, '바란': 9855, '지리산': 9856, '풀이': 9857, '다재': 9858, '능해서': 9859, '부녀간': 9860, '배움': 9861, '작동': 9862, '동떨어져': 9863, '농사지': 9864, '건축비': 9865, '기쁜지': 9866, '담소': 9867, '넘어온': 9868, '흔들거려': 9869, '한단다': 9870, '지도력': 9871, '버킷': 9872, '복합': 9873, '어울린다고': 9874, '취해야': 9875, '된단다': 9876, '인지라': 9877, '잘사': 9878, '메세지': 9879, '색안경': 9880, '곤두세우': 9881, '사오': 9882, '등산화': 9883, '떼이': 9884, '상습범': 9885, '더구만': 9886, '틀림없이': 9887, '맞장구쳐': 9888, '건드릴까': 9889, '집문서': 9890, '비웃음': 9891, '건치': 9892, '발끈하': 9893, '살수록': 9894, '들어온다니': 9895, '다만': 9896, '써준': 9897, '이해도': 9898, '어이': 9899, '헤쳐': 9900, '발길': 9901, '째려봤': 9902, '양아치': 9903, '보인다': 9904, '터치': 9905, '몰릴': 9906, '비싼지': 9907, '고와서': 9908, '다행이': 9909, '모멸감': 9910, '뒷조사': 9911, '아니꼽': 9912, '천직': 9913, '정형': 9914, '외과': 9915, '슬퍼해': 9916, '대중': 9917, '별명': 9918, '짠순이': 9919, '찰': 9920, '패키지': 9921, '골병': 9922, '정형외과': 9923, '두껍': 9924, '바람둥이': 9925, '세침': 9926, '뜯길': 9927, '건축주': 9928, '벽돌': 9929, '이끼': 9930, '부릴까': 9931, '쫓아오': 9932, '마리': 9933, '뚫어지': 9934, '육촌': 9935, '도와줄지': 9936, '아껴둔': 9937, '붙들려': 9938, '수동': 9939, '깨어날지': 9940, '방탄소년단': 9941, '해질까': 9942, '이겨서': 9943, '성능': 9944, '대관절': 9945, '상대자': 9946, '오징어': 9947, '고전': 9948, '위원장': 9949, '전전긍긍': 9950, '호기': 9951, '어쩔지': 9952, '이랬다저랬다': 9953, '줄인다고': 9954, '어떻하': 9955, '물으면': 9956, '들고나': 9957, '알려준다고': 9958, '불명예': 9959, '토해냈': 9960, '갑상샘암': 9961, '영양가': 9962, '어찌하': 9963, '안색': 9964, '한고비': 9965, '빼돌려': 9966, '넷플릭스': 9967, '획득': 9968, '수소문': 9969, '체했': 9970, '이관': 9971, '스': 9972, '트레': 9973, '조미료': 9974, '잉크': 9975, '기회주의자': 9976, '올라갈': 9977, '따라줘': 9978, '베란다': 9979, '가전제품': 9980, '어겨서': 9981, '특유': 9982, '달걀말이': 9983, '비자': 9984, '밉보였': 9985, '부인과': 9986, '가동': 9987, '밀려나': 9988, '방송사': 9989, '여비서': 9990, '간다며': 9991, '추잡': 9992, '악기': 9993, '담가': 9994, '장래희망': 9995, '다혈질': 9996, '당당히': 9997, '한적': 9998, '반지하': 9999, '꾸렸': 10000, '가계약': 10001, '종용': 10002, '들어와야': 10003, '판사': 10004, '외진': 10005, '포트폴리오': 10006, '노나': 10007, '좌지우지': 10008, '롯데월드': 10009, '건넨': 10010, '오르내릴': 10011, '벨': 10012, '눌러': 10013, '어떤지': 10014, '연애편지': 10015, '출결': 10016, '첨부': 10017, '입주민': 10018, '초밥': 10019, '주병': 10020, '정자': 10021, '별나': 10022, '일시금': 10023, '인공수정': 10024, '주입식': 10025, '절뚝거리': 10026, '하금': 10027, '다큐': 10028, '큰올케': 10029, '백해무익': 10030, '물난리': 10031, '잠겨': 10032, '살살': 10033, '자랑거리': 10034, '찾아내': 10035, '따가워': 10036, '피력': 10037, '사안': 10038, '괴롭힌다는': 10039, '홀어머니': 10040, '가로막': 10041, '개인위생': 10042, '빠진다': 10043, '선행': 10044, '겁난다': 10045, '둥지': 10046, '참새': 10047, '계산서': 10048, '발행': 10049, '깨보': 10050, '잔디': 10051, '돗자리': 10052, '아십니까': 10053, '주시': 10054, '순하': 10055, '대주': 10056, '산길': 10057, '식약청': 10058, '검문': 10059, '지나왔': 10060, '이뤄진다는': 10061, '적잖이': 10062, '전한다면': 10063, '동나': 10064, '속앓이': 10065, '절대음감': 10066, '현수막': 10067, '경멸': 10068, '알아차리': 10069, '당겨서': 10070, '다년간': 10071, '유머러스': 10072, '마쳐서': 10073, '지겨운지': 10074, '넋두리': 10075, '휘청': 10076, '설렘': 10077, '오월': 10078, '일차': 10079, '영구': 10080, '싸돌아다니': 10081, '흉하': 10082, '서예': 10083, '호적': 10084, '나무랐': 10085, '뭣': 10086, '뉴저지': 10087, '은행원': 10088, '건드려': 10089, '피나': 10090, '헛구역질': 10091, '명확히': 10092, '생겼었': 10093, '밤사이': 10094, '종이봉투': 10095, '째째': 10096, '친자': 10097, '주래': 10098, '머리채': 10099, '스텐': 10100, '삽': 10101, '괴롭힐까봐': 10102, '죄인': 10103, '갈아주': 10104, '관람권': 10105, '배웠으면': 10106, '격투기': 10107, '몰아주': 10108, '두서없이': 10109, '엎질렀': 10110, '데면데면': 10111, '구두쇠': 10112, '얼추': 10113, '쇼크': 10114, '고마워해서': 10115, '인과': 10116, '깔보': 10117, '헤르페스': 10118, '유흥업소': 10119, '다그치': 10120, '트레이닝': 10121, '능장': 10122, '지으면': 10123, '파선': 10124, '삐걱거리': 10125, '두세': 10126, '아나운서': 10127, '호우': 10128, '귀여운지': 10129, '캠핑카': 10130, '일어설': 10131, '스카프': 10132, '도망갈까': 10133, '면치': 10134, '삐뚤어지': 10135, '하원': 10136, '정신병자': 10137, '포근': 10138, '일원': 10139, '깐': 10140, '족대': 10141, '미룬다는': 10142, '인솔자': 10143, '피부암': 10144, '사온': 10145, '험하': 10146, '척척': 10147, '봇': 10148, '따져': 10149, '꾸릴': 10150, '성취감': 10151, '혼미': 10152, '쿵쿵': 10153, '오래도록': 10154, '연연': 10155, '흠': 10156, '하자': 10157, '이만': 10158, '내려질': 10159, '물어도': 10160, '불운': 10161, '아이콘': 10162, '주봉': 10163, '식기세척기': 10164, '팔렸': 10165, '동한': 10166, '작당': 10167, '튼': 10168, '최저임금': 10169, '게으른지': 10170, '뛰어다니': 10171, '중간시험': 10172, '돌침대': 10173, '크나큰': 10174, '전략': 10175, '급격': 10176, '뒀었': 10177, '강원랜드': 10178, '태권도': 10179, '우스꽝': 10180, '약본': 10181, '꺼야': 10182, '마는': 10183, '물불': 10184, '역': 10185, '권장': 10186, '막연히': 10187, '제빵': 10188, '깜깜무소식': 10189, '망언': 10190, '낼지': 10191, '쟀': 10192, '삿대': 10193, '저조': 10194, '혁신안': 10195, '남겨줄까': 10196, '언': 10197, '로우': 10198, '투표': 10199, '붙잡혀': 10200, '태워서': 10201, '화끈거렸': 10202, '유산소': 10203, '벌기': 10204, '놓였': 10205, '뒷자리': 10206, '무표정': 10207, '유발': 10208, '이러나': 10209, '쫓겨서': 10210, '고주망태': 10211, '가정일': 10212, '겁먹': 10213, '든다며': 10214, '식지': 10215, '업그레이드': 10216, '앞당겨졌': 10217, '민낯': 10218, '교습': 10219, '어둡': 10220, '진전': 10221, '모의': 10222, '실현': 10223, '들어선': 10224, '계산대': 10225, '공모': 10226, '영숙': 10227, '현역': 10228, '소유': 10229, '리어': 10230, '죽여서': 10231, '후송': 10232, '빌린다면': 10233, '아셔도': 10234, '아파하': 10235, '반성문': 10236, '뉘': 10237, '정원': 10238, '노선': 10239, '부추긴': 10240, '찾아다녀야': 10241, '편파': 10242, '는데도': 10243, '일러바친': 10244, '무뎌진': 10245, '저승': 10246, '맹세': 10247, '쟁': 10248, '치유': 10249, '지위': 10250, '훨훨': 10251, '사무소': 10252, '탁해졌': 10253, '갈비뼈': 10254, '브로마이드': 10255, '잇속': 10256, '종말': 10257, '상상도': 10258, '독자': 10259, '일환': 10260, '웃옷': 10261, '계열': 10262, '상복': 10263, '긴급': 10264, '워': 10265, '애원': 10266, '박살내': 10267, '양성애자': 10268, '촌스러운': 10269, '파마머리': 10270, '잖은': 10271, '돌아온': 10272, '중병': 10273, '박동수': 10274, '전해들': 10275, '아역': 10276, '수건': 10277, '인내심': 10278, '기독교도': 10279, '레고': 10280, '혼낼': 10281, '뒤처져서': 10282, '처갓집': 10283, '장보': 10284, '주거': 10285, '짓누르': 10286, '여념': 10287, '화투': 10288, '노랗': 10289, '빡빡': 10290, '지배': 10291, '상장': 10292, '얼싸안': 10293, '순순히': 10294, '공백': 10295, '땅문서': 10296, '올린다고': 10297, '깨웠': 10298, '가르칠': 10299, '모니터': 10300, '포옹': 10301, '폭삭': 10302, '행정': 10303, '다시금': 10304, '삔': 10305, '늘어지': 10306, '통풍': 10307, '막걸리': 10308, '튀어나오': 10309, '해줄지': 10310, '택할': 10311, '고마움': 10312, '중추': 10313, '장암': 10314, '개국': 10315, '내보': 10316, '부끄러움': 10317, '무덤덤': 10318, '튀어나올': 10319, '그래선': 10320, '음악회': 10321, '쥐어박': 10322, '메모': 10323, '안방': 10324, '챌까': 10325, '밟혀': 10326, '지질': 10327, '관리직': 10328, '돈대': 10329, '적반하장': 10330, '사과문': 10331, '병균': 10332, '몸싸움': 10333, '표절': 10334, '이인': 10335, '전과범': 10336, '할는지': 10337, '널': 10338, '그런다더라': 10339, '짜장면': 10340, '군만두': 10341, '애니메이션': 10342, '상당': 10343, '삭인': 10344, '늘어날': 10345, '카바레': 10346, '하차': 10347, '땡기': 10348, '거니': 10349, '구축': 10350, '군기': 10351, '우회': 10352, '통원': 10353, '부턴': 10354, '으셔도': 10355, '으로써': 10356, '간판': 10357, '안겨서': 10358, '해졌었': 10359, '세척': 10360, '이런가': 10361, '서술형': 10362, '복약': 10363, '부닥치': 10364, '바람기': 10365, '체면': 10366, '심한데': 10367, '배상금': 10368, '험준': 10369, '됬': 10370, '주진': 10371, '흘러서': 10372, '완고': 10373, '댈': 10374, '겁박': 10375, '직렬': 10376, '싸워왔': 10377, '중지': 10378, '대대': 10379, '친우': 10380, '밤하늘': 10381, '셌': 10382, '무관': 10383, '집어넣': 10384, '결백': 10385, '퍼지': 10386, '사돈집': 10387, '저래': 10388, '홀수': 10389, '비거': 10390, '간밤': 10391, '들여다': 10392, '살균제': 10393, '요만큼': 10394, '점포': 10395, '좌불안석': 10396, '새워야': 10397, '노동력': 10398, '돌덩이': 10399, '자해': 10400, '클수록': 10401, '매달릴': 10402, '약그릇': 10403, '걸린대': 10404, '만졌': 10405, '선입견': 10406, '더러웠': 10407, '생생': 10408, '직분': 10409, '심정지': 10410, '이탈': 10411, '계곡물': 10412, '우기': 10413, '결판': 10414, '친자검사': 10415, '늦출': 10416, '생길지': 10417, '위약금': 10418, '뻣뻣': 10419, '다뤄': 10420, '놓쳤': 10421, '줄기세포': 10422, '보러': 10423, '놀러': 10424, '다녀올까': 10425, '중년층': 10426, '이때': 10427, '실로': 10428, '아쉬울': 10429, '서점': 10430, '멈출': 10431, '자긴': 10432, '남탕': 10433, '배달원': 10434, '계부': 10435, '정비': 10436, '차남': 10437, '날아와': 10438, '목장': 10439, '피티': 10440, '돌부리': 10441, '겹쳐': 10442, '그리울': 10443, '주물러': 10444, '알차': 10445, '새웠': 10446, '쭈글쭈글': 10447, '헤아려': 10448, '패싸움': 10449, '주름살': 10450, '천하': 10451, '몹쓸': 10452, '안테': 10453, '맹세코': 10454, '벅찰': 10455, '밸런스': 10456, '게으름': 10457, '삼계탕': 10458, '약해져': 10459, '진영': 10460, '횡재': 10461, '교생': 10462, '절해고도': 10463, '놔두었': 10464, '가차없이': 10465, '살아간다': 10466, '구애': 10467, '건너편': 10468, '주민회': 10469, '흩어지': 10470, '작업자': 10471, '느려졌': 10472, '오한': 10473, '이른바': 10474, '하늘나라': 10475, '씌워': 10476, '물밀': 10477, '투자처': 10478, '이상야릇': 10479, '내팽개치': 10480, '돌아와도': 10481, '보잘것없이': 10482, '프라': 10483, '푸치노': 10484, '인심': 10485, '내치': 10486, '부딪힐': 10487, '월차': 10488, '지나친': 10489, '밤샘': 10490, '가까워져서': 10491, '직속상관': 10492, '배지': 10493, '복부비만': 10494, '단합': 10495, '일방통행': 10496, '콜라': 10497, '올라야': 10498, '애착': 10499, '돋보기': 10500, '피부과': 10501, '나른': 10502, '근데도': 10503, '하루살이': 10504, '뒤로하': 10505, '어림': 10506, '낮추': 10507, '힘겨워': 10508, '불문': 10509, '늦추': 10510, '장비': 10511, '다닐수록': 10512, '괴롭힌다고': 10513, '헛일': 10514, '집회': 10515, '빵빵거리': 10516, '마신다고': 10517, '가축': 10518, '질투감': 10519, '바라봐': 10520, '놀러오': 10521, '올려달라': 10522, '뒷덜미': 10523, '교정기': 10524, '세태': 10525, '예요': 10526, '했어요': 10527, '끈기': 10528, '떠난대': 10529, '앞섰': 10530, '찍혔': 10531, '튀김': 10532, '꺼낼': 10533, '애썼': 10534, '통도': 10535, '메달': 10536, '내게만': 10537, '불려갈': 10538, '되돌': 10539, '호칭': 10540, '억제': 10541, '여지껏': 10542, '방전': 10543, '떨굴': 10544, '종': 10545, '무서운데': 10546, '미향': 10547, '엎드린': 10548, '잔업': 10549, '어미': 10550, '아픈지': 10551, '잠꼬대': 10552, '강탈': 10553, '케어': 10554, '브리핑': 10555, '중복': 10556, '정문': 10557, '자치': 10558, '결론': 10559, '자작극': 10560, '오를지': 10561, '묘하': 10562, '모은다고': 10563, '곧잘': 10564, '옮길': 10565, '저려': 10566, '저녁상': 10567, '친오빠': 10568, '바로잡': 10569, '헛': 10570, '존대': 10571, '가차': 10572, '젋었을': 10573, '초콜릿': 10574, '휴양': 10575, '그럴듯해': 10576, '연습생': 10577, '표준': 10578, '다가갈': 10579, '붙들': 10580, '벼락치기': 10581, '냈으나': 10582, '치여': 10583, '군것질': 10584, '구내식당': 10585, '날지': 10586, '재워서': 10587, '조심스레': 10588, '눕혔': 10589, '가져다줄': 10590, '변함없': 10591, '간별': 10592, '잡아가': 10593, '출연': 10594, '터야': 10595, '흘릴': 10596, '그다지': 10597, '걸음마': 10598, '불순': 10599, '였었': 10600, '타일러도': 10601, '쌓일': 10602, '무임승차': 10603, '다야': 10604, '졸지': 10605, '비자금': 10606, '공복': 10607, '상할': 10608, '연관': 10609, '일쑤': 10610, '메말랐': 10611, '운전대': 10612, '개통': 10613, '꾸린다': 10614, '다급': 10615, '가상': 10616, '화폐': 10617, '떠맡긴': 10618, '애초': 10619, '인증': 10620, '유혹': 10621, '주범': 10622, '아셔서': 10623, '돌머리': 10624, '나타날까': 10625, '성관': 10626, '사용인': 10627, '휴양지': 10628, '밥투정': 10629, '서양화': 10630, '주만': 10631, '닫혔': 10632, '매달려야': 10633, '교양': 10634, '빈둥거리': 10635, '나만': 10636, '신날': 10637, '소설책': 10638, '좋아한다는데': 10639, '곤두박질쳐서': 10640, '취한다': 10641, '내놨': 10642, '성교육': 10643, '수금': 10644, '카트': 10645, '첫날밤': 10646, '프로그래머': 10647, '창작': 10648, '천근': 10649, '이포': 10650, '놓쳐버렸': 10651, '두어': 10652, '미관상': 10653, '라미': 10654, '네이트': 10655, '머물러서': 10656, '태생': 10657, '소중히': 10658, '액자': 10659, '빨개': 10660, '힘든가': 10661, '바래': 10662, '조부모': 10663, '어머': 10664, '금자': 10665, '소희': 10666, '예상외': 10667, '색시': 10668, '골랐': 10669, '굴하': 10670, '저희': 10671, '동아': 10672, '리방': 10673, '쏟아져': 10674, '탄산': 10675, '부끄러워져': 10676, '스러워했': 10677, '사례': 10678, '쇠퇴': 10679, '떄문에': 10680, '폐활량': 10681, '들었었는데': 10682, '반차': 10683, '동맥': 10684, '접하': 10685, '허리띠': 10686, '졸라매': 10687, '일보': 10688, '운전자': 10689, '무신경': 10690, '해준다면': 10691, '사양': 10692, '범주': 10693, '속하': 10694, '더워': 10695, '선출': 10696, '백지': 10697, '마음가짐': 10698, '한층': 10699, '마땅찮': 10700, '당부': 10701, '드려': 10702, '넌지시': 10703, '먹을거리': 10704, '장성': 10705, '아랫배': 10706, '뒤떨어져서': 10707, '속고': 10708, '외동': 10709, '돌팔이': 10710, '성비': 10711, '쉬워졌': 10712, '채울': 10713, '깨달으니': 10714, '자서': 10715, '금지법': 10716, '나왔었': 10717, '당기': 10718, '부실': 10719, '까불': 10720, '고등': 10721, '양호실': 10722, '과세': 10723, '공시': 10724, '급등': 10725, '화학': 10726, '반대편': 10727, '실패자': 10728, '전송': 10729, '참내': 10730, '무분별': 10731, '생사': 10732, '패가망신': 10733, '화장대': 10734, '설움': 10735, '호응': 10736, '봤으면': 10737, '내과': 10738, '운동부': 10739, '새끼': 10740, '견만': 10741, '경시': 10742, '미워해서': 10743, '조사지': 10744, '응답': 10745, '부끄러우': 10746, '신가': 10747, '대성통곡': 10748, '무소식': 10749, '꼴불견': 10750, '구독자': 10751, '흐려서': 10752, '폐수': 10753, '방류': 10754, '물고기': 10755, '높였': 10756, '훈련소': 10757, '갈비찜': 10758, '남김없이': 10759, '피폐': 10760, '믹스': 10761, '때웠': 10762, '찍소리': 10763, '키워도': 10764, '그래야': 10765, '경계': 10766, '멘': 10767, '상한가': 10768, '쉬울': 10769, '룰루랄라': 10770, '공세': 10771, '죽여': 10772, '라길래': 10773, '프라모델': 10774, '곤두박질친': 10775, '손수': 10776, '손수건': 10777, '최소한': 10778, '딴청': 10779, '바람둥인': 10780, '뛰어올라서': 10781, '맺혀': 10782, '비어': 10783, '찾아봐': 10784, '외로운가': 10785, '콕': 10786, '장이': 10787, '헛디뎌': 10788, '하혈': 10789, '시시콜콜': 10790, '다락방': 10791, '쌍꺼풀': 10792, '대생': 10793, '들락거리': 10794, '어설프': 10795, '명동': 10796, '하녀': 10797, '장시간': 10798, '맨발': 10799, '곈가': 10800, '차감': 10801, '가이드': 10802, '움직여': 10803, '시디': 10804, '빌려줘': 10805, '부풀려': 10806, '차기': 10807, '식자재': 10808, '좋아했': 10809, '끓였': 10810, '가설': 10811, '몰입': 10812, '못사': 10813, '막혔': 10814, '만취': 10815, '한날한시': 10816, '관광지': 10817, '북적': 10818, '나나': 10819, '자습실': 10820, '부스럭': 10821, '일으켜': 10822, '끝날까': 10823, '활기찬': 10824, '병약': 10825, '관계없이': 10826, '신다는데': 10827, '식물': 10828, '한탕': 10829, '온다며': 10830, '허례허식': 10831, '생략': 10832, '치도': 10833, '나앉': 10834, '간다면서': 10835, '애완': 10836, '기혼': 10837, '녹음': 10838, '친밀감': 10839, '번갈': 10840, '영민': 10841, '조심조심': 10842, '몰래카메라': 10843, '여론': 10844, '들쑥날쑥': 10845, '단단히': 10846, '독해서': 10847, '메슥거려': 10848, '증서': 10849, '나이라': 10850, '딴죽': 10851, '진료비': 10852, '조교': 10853, '월액': 10854, '생계비': 10855, '끊인': 10856, '해물탕': 10857, '과잉보호': 10858, '한라산': 10859, '고를': 10860, '외로울까': 10861, '분양': 10862, '쏘아붙이': 10863, '묶음': 10864, '온다는데': 10865, '들락날락거리': 10866, '변해도': 10867, '인생무상': 10868, '빌려다': 10869, '시름시름': 10870, '남겨질': 10871, '애서': 10872, '제날짜': 10873, '적혀': 10874, '나다니': 10875, '관장': 10876, '잃어버릴까': 10877, '뒷얘기': 10878, '세탁': 10879, '분풀이': 10880, '데려와': 10881, '부러워했': 10882, '올라온': 10883, '떨어진다는': 10884, '날릴': 10885, '꺼버렸': 10886, '올라간': 10887, '큰가': 10888, '짼데': 10889, '운해': 10890, '전쟁터': 10891, '시킬까봐': 10892, '익스트림': 10893, '쓰러질까': 10894, '풀칠': 10895, '맞물려': 10896, '법률': 10897, '내칠': 10898, '전과': 10899, '사라진다': 10900, '거참': 10901, '왜지': 10902, '사교성': 10903, '쑥떡': 10904, '무호흡': 10905, '투성인': 10906, '적립': 10907, '바짓가랑이': 10908, '둔대': 10909, '한다던': 10910, '잡힐까': 10911, '놓쳐': 10912, '끽하': 10913, '오라고': 10914, '정액': 10915, '치는': 10916, '멘탈': 10917, '붕괴': 10918, '다룰': 10919, '치근덕대': 10920, '지던': 10921, '옥자': 10922, '외무': 10923, '외교관': 10924, '막연': 10925, '학문': 10926, '부침개': 10927, '깨우쳤으면': 10928, '만회': 10929, '담그': 10930, '런닝맨': 10931, '모일수록': 10932, '토닥이': 10933, '반사': 10934, '산산조각': 10935, '넘어갈까': 10936, '생일잔치': 10937, '준댔': 10938, '구강': 10939, '아가': 10940, '외우': 10941, '쩔쩔매': 10942, '부친상': 10943, '만날지': 10944, '내비게이션': 10945, '코로나다': 10946, '명성': 10947, '건너간': 10948, '조의금': 10949, '제사': 10950, '양육': 10951, '뒤섞여서': 10952, '알려도': 10953, '가네': 10954, '역겨워서': 10955, '웃기': 10956, '사이좋': 10957, '사투리': 10958, '표준어': 10959, '시한폭탄': 10960, '존심': 10961, '바빠질': 10962, '모여들': 10963, '변할': 10964, '꺼져서': 10965, '난소': 10966, '고려장': 10967, '이긴다고': 10968, '맞춰야': 10969, '비아냥거리': 10970, '오매불망': 10971, '삼교대': 10972, '증조할아버지': 10973, '치열': 10974, '해선': 10975, '한통': 10976, '직책': 10977, '대비책': 10978, '묏자리': 10979, '러진': 10980, '퇴한': 10981, '멈춰서': 10982, '오에이': 10983, '탁월': 10984, '빼앗겨': 10985, '걸어오': 10986, '요강': 10987, '향한': 10988, '맞닥뜨렸': 10989, '구했었': 10990, '도와야': 10991, '잘린': 10992, '퀴즈쇼': 10993, '당차': 10994, '작물': 10995, '수확': 10996, '분업화': 10997, '목덜미': 10998, '찾아볼까': 10999, '기친': 11000, '다녀봐야': 11001, '따라갔': 11002, '식사비': 11003, '거쳐서': 11004, '동문회': 11005, '멀뚱히': 11006, '철민': 11007, '시들': 11008, '주워도': 11009, '실체': 11010, '한약재': 11011, '뻐': 11012, '가물치': 11013, '로움': 11014, '공존': 11015, '할껄': 11016, '윗분': 11017, '시리얼': 11018, '서둘러': 11019, '렀는데': 11020, '대졸': 11021, '쪼': 11022, '들릴': 11023, '머문': 11024, '부류': 11025, '함정': 11026, '빠뜨렸': 11027, '돌려줬': 11028, '무리지': 11029, '지급금': 11030, '거리가': 11031, '쉬운데': 11032, '뛰쳐나가': 11033, '심할': 11034, '시련': 11035, '휘감': 11036, '업적': 11037, '코딩': 11038, '혁명': 11039, '그만둔다는': 11040, '쓸데': 11041, '꽃향기': 11042, '식겁': 11043, '암투병': 11044, '기울어질': 11045, '울리': 11046, '객사': 11047, '컴': 11048, '플레인': 11049, '뒤떨어지': 11050, '줄인': 11051, '지우개': 11052, '제물': 11053, '시달릴': 11054, '장식장': 11055, '트로피': 11056, '받아들여서': 11057, '제조': 11058, '달린': 11059, '틀어진': 11060, '제빵사': 11061, '만진': 11062, '골증': 11063, '간소': 11064, '스몰': 11065, '오픈': 11066, '챘': 11067, '전면': 11068, '교도소': 11069, '놨지만': 11070, '잠겼': 11071, '맞대응': 11072, '계서': 11073, '부조리': 11074, '외려': 11075, '판명': 11076, '가려먹': 11077, '는다며': 11078, '에다가': 11079, '해체': 11080, '공학': 11081, '터진다': 11082, '분실': 11083, '열차': 11084, '탈선': 11085, '가려서': 11086, '간장': 11087, '게장': 11088, '떨린다': 11089, '휘두른': 11090, '지나갈': 11091, '사라졌으면': 11092, '느껴본': 11093, '인계': 11094, '부업': 11095, '미울': 11096, '이사장': 11097, '다지만': 11098, '끊어진': 11099, '금괴': 11100, '모성애': 11101, '굽실거리': 11102, '물려줬': 11103, '다닐지': 11104, '운도': 11105, '신념': 11106, '와전': 11107, '실용음악': 11108, '결절': 11109, '해임': 11110, '허름': 11111, '순탄': 11112, '도로는': 11113, '새치': 11114, '양처': 11115, '탯줄': 11116, '머뭇거렸': 11117, '알뜰': 11118, '관점': 11119, '날카로워져서': 11120, '가져줄까': 11121, '윗선': 11122, '광부': 11123, '질리': 11124, '터널': 11125, '굴착': 11126, '덤벼들': 11127, '벼르': 11128, '리원': 11129, '어떤지에': 11130, '권한': 11131, '공과금': 11132, '엉덩이': 11133, '답했': 11134, '올린다': 11135, '칠지': 11136, '아드': 11137, '여지': 11138, '내보낼': 11139, '숨길': 11140, '그중': 11141, '앉혀': 11142, '변기통': 11143, '빠트려': 11144, '여중생': 11145, '횟감': 11146, '커밍아웃': 11147, '다름없': 11148, '돌아봐': 11149, '초혼': 11150, '내비치': 11151, '헬기': 11152, '아찔': 11153, '땅콩': 11154, '백두산': 11155, '끔뻑': 11156, '방황': 11157, '주우': 11158, '공통점': 11159, '자수성가': 11160, '섬겨': 11161, '눌리': 11162, '쪼그라드': 11163, '가져온': 11164, '우신': 11165, '체불': 11166, '어물쩍': 11167, '구지': 11168, '알아봐야': 11169, '도둑놈': 11170, '유지비': 11171, '끌려와': 11172, '개성': 11173, '때론': 11174, '코로': 11175, '측면': 11176, '별장': 11177, '경연': 11178, '내릴까': 11179, '바퀴': 11180, '과부하': 11181, '바랄지': 11182, '꿈꿔왔': 11183, '여길': 11184, '닌': 11185, '흐름': 11186, '노하우': 11187, '표해': 11188, '스케줄': 11189, '말주변': 11190, '불러낼까': 11191, '매부': 11192, '속보': 11193, '저곳': 11194, '찢어져서': 11195, '고되': 11196, '심심풀이': 11197, '스위스': 11198, '수줍': 11199, '부재중': 11200, '위중': 11201, '친할아버지': 11202, '냬': 11203, '연희': 11204, '샘나': 11205, '삼포': 11206, '칭하': 11207, '다정다감': 11208, '왔을까': 11209, '라이': 11210, '딩': 11211, '탄탄대로': 11212, '놀림감': 11213, '십상': 11214, '대원': 11215, '기숙': 11216, '초초': 11217, '슬리퍼': 11218, '모기지': 11219, '퉁퉁': 11220, '다툰다고': 11221, '얌전': 11222, '사이즈': 11223, '떠넘겼': 11224, '횟수': 11225, '다해야': 11226, '테니': 11227, '구려': 11228, '악명': 11229, '으레': 11230, '위경련': 11231, '재고': 11232, '정석': 11233, '끊이': 11234, '통신문': 11235, '호구': 11236, '아네': 11237, '전등': 11238, '임상': 11239, '어수룩': 11240, '미더웠': 11241, '참나': 11242, '하인': 11243, '학식': 11244, '일자': 11245, '허수아비': 11246, '우두커니': 11247, '일그러졌': 11248, '외손주': 11249, '울화': 11250, '할머님': 11251, '개장': 11252, '호주': 11253, '딴지': 11254, '위임장': 11255, '아이스': 11256, '부른다고': 11257, '이삿짐': 11258, '친다며': 11259, '굿': 11260, '워크': 11261, '넷': 11262, '이가': 11263, '살아와서': 11264, '오래된': 11265, '진수성찬': 11266, '흑': 11267, '남학생': 11268, '개별': 11269, '관대': 11270, '원고': 11271, '위생': 11272, '퍼져': 11273, '관둬': 11274, '초고': 11275, '빨랐': 11276, '가벼워져': 11277, '굴릴': 11278, '앞지르': 11279, '애칭': 11280, '떨릴': 11281, '예뻐할': 11282, '열세': 11283, '다고요': 11284, '버거운데': 11285, '궁해서': 11286, '쑥스러운': 11287, '입지': 11288, '위계질서': 11289, '친절히': 11290, '졸졸': 11291, '휴업': 11292, '금슬': 11293, '편리': 11294, '공양': 11295, '입주': 11296, '충치': 11297, '만복': 11298, '근원': 11299, '정맥류': 11300, '사나워진': 11301, '나무래': 11302, '큰돈': 11303, '차려져도': 11304, '내켜': 11305, '은둔': 11306, '불고기': 11307, '천지': 11308, '저것': 11309, '동전': 11310, '깡통': 11311, '이기주의': 11312, '노령': 11313, '영란': 11314, '챙겨온': 11315, '태어났을까': 11316, '장근이': 11317, '떠올려': 11318, '경황': 11319, '응급차': 11320, '물컵': 11321, '최저치': 11322, '경신': 11323, '우리나라': 11324, '무너질까': 11325, '민우': 11326, '알려진다면': 11327, '손길': 11328, '다이아몬드': 11329, '험해': 11330, '그른': 11331, '남다른': 11332, '놀려댔': 11333, '뒤쳐져': 11334, '나아질지': 11335, '사라진다는': 11336, '으셨던': 11337, '유할': 11338, '사상': 11339, '더러워졌': 11340, '원가': 11341, '바이크': 11342, '밤바다': 11343, '던가': 11344, '살아난': 11345, '꾸물거리': 11346, '잡혀버렸': 11347, '말귀': 11348, '형제자매': 11349, '미묘': 11350, '뭉쳤': 11351, '못한지': 11352, '물으니': 11353, '종친회': 11354, '착상': 11355, '선남선녀': 11356, '업소': 11357, '된다면서': 11358, '렌스': 11359, '젠더': 11360, '내려놓': 11361, '그림자': 11362, '박봉': 11363, '인공호흡기': 11364, '부착': 11365, '큰데': 11366, '몰아세우': 11367, '떠내려가': 11368, '요지경': 11369, '소방': 11370, '한담': 11371, '분칠': 11372, '꿇리': 11373, '들으러': 11374, '경로석': 11375, '요금소': 11376, '기자': 11377, '결과지': 11378, '넘길까': 11379, '이적': 11380, '러브': 11381, '개시': 11382, '개업': 11383, '무르': 11384, '부러워했었': 11385, '신중': 11386, '세쌍둥이': 11387, '접장': 11388, '움직였': 11389, '삭신': 11390, '사무직': 11391, '미워져서': 11392, '받쳐': 11393, '말려야': 11394, '일솜씨': 11395, '건너뛰': 11396, '그따위': 11397, '은인': 11398, '농작물': 11399, '외고': 11400, '가까워진다는': 11401, '저지를까': 11402, '부전': 11403, '군고구마': 11404, '골수': 11405, '내면': 11406, '미비': 11407, '떠났으며': 11408, '몰라보': 11409, '거뭇거뭇': 11410, '베스트': 11411, '프랜': 11412, '드가': 11413, '동정': 11414, '밀린다는': 11415, '수군거렸': 11416, '흰': 11417, '차분': 11418, '게걸': 11419, '냈으니': 11420, '안녕': 11421, '물속': 11422, '독극물': 11423, '씨름': 11424, '노동부': 11425, '중독자': 11426, '부속품': 11427, '물어본': 11428, '수입원': 11429, '식수': 11430, '남겨둔': 11431, '댄서': 11432, '놔도': 11433, '서서': 11434, '하프마라톤': 11435, '목표달성': 11436, '울려서': 11437, '보충': 11438, '바른길': 11439, '간혹': 11440, '지겨웠': 11441, '화날': 11442, '버럭버럭': 11443, '사실상': 11444, '뇌사': 11445, '투입': 11446, '이토록': 11447, '호화': 11448, '유람선': 11449, '드림': 11450, '카': 11451, '수업료': 11452, '허무맹랑': 11453, '기라': 11454, '야윈': 11455, '철석': 11456, '도망쳐서': 11457, '기다려왔': 11458, '뺏겨': 11459, '앞당겨질': 11460, '돈만': 11461, '월경': 11462, '코노': 11463, '일만': 11464, '아서라도': 11465, '폭탄': 11466, '맞춤': 11467, '대뇌': 11468, '윳': 11469, '분과': 11470, '멋쟁이': 11471, '효정': 11472, '들인': 11473, '뭔': 11474, '맥박': 11475, '한의사': 11476, '허니문': 11477, '으실까': 11478, '박카스': 11479, '베': 11480, '손버릇': 11481, '전해야': 11482, '노여': 11483, '웠': 11484, '포대': 11485, '탕수육': 11486, '반주': 11487, '여길까': 11488, '토라지': 11489, '책장': 11490, '숟가락': 11491, '신세지': 11492, '호': 11493, '놨다고': 11494, '어리바리': 11495, '주워서': 11496, '간신히': 11497, '실무자': 11498, '짠하': 11499, '뇌혈관': 11500, '동맥류': 11501, '방석집': 11502, '화도': 11503, '드린다고': 11504, '쓰레기봉투': 11505, '경위서': 11506, '몸조심': 11507, '시어른': 11508, '조야': 11509, '봉급': 11510, '번거로운': 11511, '오만원': 11512, '요구르트': 11513, '이뤄낼': 11514, '오랬': 11515, '근로계약서': 11516, '처신': 11517, '탄탄히': 11518, '훤칠': 11519, '뿌려서': 11520, '감염병': 11521, '아날로그': 11522, '고물': 11523, '주우러': 11524, '차곡히': 11525, '와우': 11526, '줬단': 11527, '불러냈': 11528, '추근': 11529, '화요일': 11530, '났거든': 11531, '들린': 11532, '나온다는데': 11533, '실무': 11534, '주례': 11535, '주거비': 11536, '추하': 11537, '작은아버지': 11538, '그려지': 11539, '항생제': 11540, '초경': 11541, '방심': 11542, '아따': 11543, '부셨': 11544, '그룹웨어': 11545, '거뒀': 11546, '명쾌히': 11547, '가겟세': 11548, '유머': 11549, '대물려': 11550, '학벌주의': 11551, '산지': 11552, '조수석': 11553, '치맥': 11554, '들여온': 11555, '엉엉': 11556, '망가': 11557, '대학가': 11558, '따윈': 11559, '친부모': 11560, '오직': 11561, '덮어쓰': 11562, '기어': 11563, '생생히': 11564, '새겨듣': 11565, '비굴': 11566, '동반자': 11567, '유로': 11568, '건방져': 11569, '익히': 11570, '흘러': 11571, '기색': 11572, '한탄스럽': 11573, '영혼': 11574, '통학': 11575, '대기발령': 11576, '독사': 11577, '퍼': 11578, '덤볐': 11579, '아깐': 11580, '더러워져': 11581, '유명세': 11582, '나으면': 11583, '론가': 11584, '휘둘러': 11585, '어두워': 11586, '호음': 11587, '디저트': 11588, '소수': 11589, '미어져': 11590, '엄습': 11591, '학번': 11592, '저소득층': 11593, '늘어난다': 11594, '병시중': 11595, '유행병': 11596, '자더니': 11597, '미쳤었': 11598, '낸다': 11599, '진담': 11600, '구별': 11601, '의한': 11602, '차일': 11603, '비판': 11604, '탐색': 11605, '이어진': 11606, '자업자득': 11607, '승진도': 11608, '꼿꼿이': 11609, '빼돌려서': 11610, '무병장수': 11611, '더구먼': 11612, '훈육': 11613, '곤두박질치': 11614, '자그마': 11615, '보라': 11616, '바라볼': 11617, '해봐야': 11618, '못마땅하': 11619, '어떡할까': 11620, '국장': 11621, '애먹': 11622, '립식': 11623, '골반': 11624, '착했': 11625, '느슨': 11626, '잔잔히': 11627, '흉볼': 11628, '콩나물': 11629, '덤': 11630, '얼떨결': 11631, '편집자': 11632, '빗': 11633, '수도세': 11634, '시집간': 11635, '소녀': 11636, '려도': 11637, '앨범': 11638, '떨어졌었': 11639, '속임수': 11640, '웃어대': 11641, '마크': 11642, '강의실': 11643, '시끄러울': 11644, '금값': 11645, '논밭': 11646, '긴팔': 11647, '추웠': 11648, '업고': 11649, '떠나간': 11650, '소인배': 11651, '다오': 11652, '절실히': 11653, '갈까봐': 11654, '햄스터': 11655, '반병': 11656, '이견': 11657, '좁혀': 11658, '환전': 11659, '멈췄': 11660, '빼내': 11661, '직무랑': 11662, '눈여겨': 11663, '김치찌개': 11664, '가치': 11665, '흐를수록': 11666, '퍼마시': 11667, '간담회': 11668, '별식': 11669, '떠드': 11670, '답문': 11671, '기뻐해': 11672, '냐는데': 11673, '격렬': 11674, '복판': 11675, '낀': 11676, '찌든': 11677, '우아': 11678, '참관': 11679, '덩치': 11680, '하여간': 11681, '차일피일': 11682, '논의': 11683, '문건': 11684, '번뜩': 11685, '순이익': 11686, '동의서': 11687, '종신': 11688, '빙판': 11689, '나랑': 11690, '준다면': 11691, '전철역': 11692, '전단지': 11693, '슬픈데': 11694, '돌아다녀서': 11695, '소액결제': 11696, '어겨': 11697, '공신': 11698, '해롭': 11699, '실언': 11700, '희소': 11701, '업자': 11702, '이리도': 11703, '토악질': 11704, '담요': 11705, '얼룩': 11706, '가까스로': 11707, '면회실': 11708, '안다는': 11709, '회계': 11710, '사담': 11711, '외벌': 11712, '신장결석': 11713, '격차': 11714, '기울였': 11715, '감소': 11716, '파릇파릇': 11717, '환송회': 11718, '현직': 11719, '앞세우': 11720, '무심코': 11721, '트리': 11722, '다름': 11723, '복날': 11724, '술술': 11725, '반반': 11726, '군림': 11727, '회신': 11728, '정서': 11729, '힘드신데': 11730, '기뻐도': 11731, '덤덤': 11732, '한식': 11733, '조리사': 11734, '냉동실': 11735, '처박': 11736, '교과': 11737, '더뎌서': 11738, '구해도': 11739, '못썼': 11740, '매달렸': 11741, '팬클럽': 11742, '유가족': 11743, '다다를': 11744, '근': 11745, '화이트데이': 11746, '단위': 11747, '회원권': 11748, '타이': 11749, '마사지': 11750, '홱': 11751, '놀라워': 11752, '이억': 11753, '한다기': 11754, '인사과': 11755, '불만족': 11756, '초인종': 11757, '첨삭': 11758, '탐해서': 11759, '거리감': 11760, '부른': 11761, '버릇없이': 11762, '걸친': 11763, '앰뷸런스': 11764, '껴': 11765, '키워왔': 11766, '난산': 11767, '성심': 11768, '성의껏': 11769, '무궁무진': 11770, '당겼': 11771, '는걸': 11772, '어때서': 11773, '학술': 11774, '흐느끼': 11775, '따라다녀서': 11776, '이율': 11777, '더라니': 11778, '화끈': 11779, '까치발': 11780, '내편': 11781, '무너져도': 11782, '견뎌': 11783, '어영부영': 11784, '안경점': 11785, '우스꽝스러워': 11786, '찬물': 11787, '따끈': 11788, '랬': 11789, '분별': 11790, '구구절절': 11791, '기다려서': 11792, '무지막지': 11793, '인대': 11794, '시큰거리': 11795, '김치전': 11796, '부스스': 11797, '호명': 11798, '쫓아가': 11799, '내줄': 11800, '반가워하': 11801, '쳐져': 11802, '악습': 11803, '경영자': 11804, '쾌변': 11805, '미덥': 11806, '벼룩': 11807, '토악': 11808, '무기': 11809, '문외한': 11810, '체야': 11811, '기수': 11812, '할당': 11813, '낼모레': 11814, '이박': 11815, '드셔': 11816, '퍼부': 11817, '증상만': 11818, '불어야': 11819, '악순환': 11820, '브런치': 11821, '전임자': 11822, '벌서': 11823, '돌려보냈': 11824, '시집와서': 11825, '느껴진다고': 11826, '낮춰서': 11827, '여행가': 11828, '연체료': 11829, '잉어': 11830, '드신': 11831, '힘드실': 11832, '망가지': 11833, '무서워해': 11834, '무릅쓰': 11835, '놔둔': 11836, '기합': 11837, '기물': 11838, '끝장': 11839, '주치': 11840, '이뤄졌': 11841, '신다': 11842, '시동생': 11843, '동원': 11844, '짤릴': 11845, '아슬아슬': 11846, '라디오': 11847, '고리타분': 11848, '보인다면': 11849, '귀담아듣': 11850, '어학연수': 11851, '껄': 11852, '회한': 11853, '대시': 11854, '검수': 11855, '동심': 11856, '경식': 11857, '아물': 11858, '어질러진': 11859, '끝냈으니': 11860, '구독': 11861, '모나': 11862, '덧나': 11863, '출동': 11864, '멍청이': 11865, '의리': 11866, '홈페이지': 11867, '게재': 11868, '동갑내기': 11869, '축구공': 11870, '어렵사리': 11871, '뿌려': 11872, '꼬셔': 11873, '난하': 11874, '적집': 11875, '드셔서': 11876, '이면지': 11877, '들이닥쳐서': 11878, '눈코': 11879, '뜰': 11880, '듬직': 11881, '타고난': 11882, '다져온': 11883, '쌀밥': 11884, '을까요': 11885, '미어지': 11886, '보험계약': 11887, '게라도': 11888, '동사무소': 11889, '체감': 11890, '뭐야': 11891, '산악자전거': 11892, '채워줄': 11893, '뒤처졌': 11894, '문제점': 11895, '찾아다니': 11896, '뻑뻑': 11897, '심경': 11898, '폐쇄': 11899, '자택': 11900, '격려금': 11901, '빠른데': 11902, '가렸': 11903, '총명': 11904, '못함': 11905, '망가뜨리': 11906, '일렀': 11907, '거름': 11908, '의젓': 11909, '체력장': 11910, '위기감': 11911, '불상사': 11912, '건실': 11913, '해질는지': 11914, '나온대': 11915, '정에': 11916, '생각난다': 11917, '펄펄': 11918, '그지': 11919, '초보': 11920, '키운다는': 11921, '들려왔': 11922, '뒤늦게야': 11923, '기대치': 11924, '암흑': 11925, '일면식': 11926, '변치': 11927, '줄줄': 11928, '설치': 11929, '굳은살': 11930, '갑과': 11931, '당해낼': 11932, '검버섯': 11933, '끔직': 11934, '도서실': 11935, '통했': 11936, '작용': 11937, '눈감': 11938, '나인': 11939, '미룬': 11940, '보일지': 11941, '안쓰러워하': 11942, '전립선염': 11943, '바득바득': 11944, '우겨': 11945, '뛰쳐나왔': 11946, '일수록': 11947, '부딪쳐도': 11948, '맞이해': 11949, '풀려났': 11950, '햇빛': 11951, '챙겨왔': 11952, '멈춰진': 11953, '노인네': 11954, '특채': 11955, '뇌물': 11956, '제치': 11957, '컴컴': 11958, '썰렁': 11959, '희진': 11960, '기획력': 11961, '지낸다면': 11962, '금지옥엽': 11963, '채근': 11964, '대면': 11965, '도난': 11966, '넘겨야': 11967, '웹툰': 11968, '영문': 11969, '개조': 11970, '한정판': 11971, '유흥비': 11972, '과분': 11973, '손익': 11974, '난다며': 11975, '꺼낸': 11976, '틈타': 11977, '천대': 11978, '맞혀': 11979, '구두창': 11980, '붉어졌': 11981, '가라앉혀': 11982, '노려볼': 11983, '정력': 11984, '매래': 11985, '광경': 11986, '단정지': 11987, '잡힌': 11988, '농기계': 11989, '신분증': 11990, '괴롭힌대': 11991, '덴': 11992, '질질': 11993, '뜨끔': 11994, '하위': 11995, '버려질': 11996, '원산지': 11997, '둔갑': 11998, '차래': 11999, '입버릇': 12000, '나타난다는': 12001, '뜬금없': 12002, '군소리': 12003, '지분': 12004, '못산다고': 12005, '구만': 12006, '썩이': 12007, '통탄': 12008, '외숙모': 12009, '켜진': 12010, '배꼽': 12011, '난지': 12012, '저탄고': 12013, '끝마치': 12014, '까다로웠': 12015, '다는구나': 12016, '사기죄': 12017, '무서운가': 12018, '개망신': 12019, '일주년': 12020, '증오감': 12021, '챙겨오': 12022, '단식': 12023, '해로워': 12024, '과민': 12025, '두통약': 12026, '진짜로': 12027, '왼': 12028, '둘러봐도': 12029, '입수': 12030, '밑지': 12031, '본전': 12032, '떨어뜨린': 12033, '호상': 12034, '가압류': 12035, '얘긴데': 12036, '북새통': 12037, '죽인': 12038, '마야': 12039, '식중독': 12040, '갓': 12041, '나대': 12042, '한다지만': 12043, '노부모': 12044, '바램': 12045, '만화': 12046, '시안': 12047, '거릴': 12048, '만감': 12049, '레슨': 12050, '건방지': 12051, '하염없이': 12052, '이유로': 12053, '우편물': 12054, '펴도': 12055, '포상': 12056, '손수레': 12057, '부딪혔': 12058, '손상': 12059, '팸플릿': 12060, '복구': 12061, '만든다니까': 12062, '구천': 12063, '추진력': 12064, '보인다면서': 12065, '면식': 12066, '스토킹': 12067, '내려온다고': 12068, '역서': 12069, '내역': 12070, '휜': 12071, '쳤으면': 12072, '계약금': 12073, '심혈': 12074, '러시아': 12075, '달아났': 12076, '여잔데': 12077, '결원': 12078, '지끈거리': 12079, '실실': 12080, '부아': 12081, '감기약': 12082, '서가': 12083, '기량': 12084, '출품': 12085, '여전': 12086, '미워해': 12087, '잡티': 12088, '여권': 12089, '권해': 12090, '물배': 12091, '감정싸움': 12092, '잃어버릴': 12093, '돌아다녀': 12094, '맘껏': 12095, '고왔': 12096, '종식': 12097, '장려상': 12098, '기나긴': 12099, '몸살감기': 12100, '분홍색': 12101, '다달': 12102, '낮춰야': 12103, '애석': 12104, '리란': 12105, '일위': 12106, '흘러가': 12107, '졸려서': 12108, '갔었잖': 12109, '신비': 12110, '인출': 12111, '부자지간': 12112, '가져볼': 12113, '귀금속': 12114, '멍멍': 12115, '맹구': 12116, '모': 12117, '현지': 12118, '추수': 12119, '보람찬': 12120, '살린': 12121, '아파질': 12122, '로워졌': 12123, '슬픈지': 12124, '날보고': 12125, '대금': 12126, '역해': 12127, '합치': 12128, '애완견': 12129, '언젠지': 12130, '옮길까': 12131, '빌미': 12132, '원만히': 12133, '나아져': 12134, '단기간': 12135, '둘러싸인': 12136, '상손님': 12137, '자문': 12138, '장롱': 12139, '차릴까': 12140, '커트라인': 12141, '제이': 12142, '대여': 12143, '고쳐서': 12144, '흐른': 12145, '대폭': 12146, '자기소개': 12147, '사무': 12148, '할꺼': 12149, '든든히': 12150, '차릴': 12151, '다녀볼': 12152, '힘세': 12153, '먹잇감': 12154, '창구': 12155, '업종': 12156, '팬티': 12157, '쿠키': 12158, '워다': 12159, '변이': 12160, '끈끈': 12161, '혹평': 12162, '높인': 12163, '헛헛': 12164, '된다더니': 12165, '판매자': 12166, '갔으면': 12167, '까내': 12168, '성급': 12169, '접해서': 12170, '톤': 12171, '트럭': 12172, '형부': 12173, '항공기': 12174, '덩그러': 12175, '싸고돌': 12176, '단정히': 12177, '사라': 12178, '의료비': 12179, '공정': 12180, '못정': 12181, '친군데': 12182, '프': 12183, '렌': 12184, '외주': 12185, '판다고': 12186, '맴도': 12187, '살릴': 12188, '무심결': 12189, '쓰다듬': 12190, '외아들': 12191, '할거': 12192, '두근거려서': 12193, '이직률': 12194, '근엄': 12195, '상임': 12196, '이라고': 12197, '콤플렉스': 12198, '소싯적': 12199, '널려': 12200, '막노동': 12201, '였을까': 12202, '수속': 12203, '틀릴까': 12204, '아유': 12205, '전국': 12206, '할려면': 12207, '꾸려서': 12208, '도둑맞': 12209, '독하': 12210, '하트': 12211, '당근': 12212, '울타리': 12213, '될래': 12214, '음담패설': 12215, '던져서': 12216, '어선지': 12217, '확충': 12218, '들어올까': 12219, '알아채': 12220, '부수': 12221, '채워서': 12222, '성황리': 12223, '모형': 12224, '긴축': 12225, '빌려서': 12226, '복사': 12227, '체구': 12228, '병수': 12229, '막강': 12230, '고배': 12231, '고속도로': 12232, '뚫리': 12233, '헛먹': 12234, '현성': 12235, '중성': 12236, '요사이': 12237, '태권': 12238, '안기': 12239, '숨쉬': 12240, '볼링': 12241, '두피': 12242, '폐교': 12243, '경리': 12244, '하우스': 12245, '탐욕': 12246, '내막': 12247, '염이': 12248, '심해도': 12249, '인삼': 12250, '가져온다고': 12251, '장신구': 12252, '줄여서': 12253, '실시': 12254, '서글펐': 12255, '이단': 12256, '령': 12257, '과업': 12258, '가라앉힐': 12259, '부글부글': 12260, '끓': 12261, '뜯어낼': 12262, '저녁때': 12263, '딸아': 12264, '한스럽': 12265, '흩어져': 12266, '귀여웠': 12267, '굵': 12268, '못한다': 12269, '져버렸으면': 12270, '부도난': 12271, '무지하': 12272, '막힌': 12273, '버거워서': 12274, '도왔': 12275, '불이익': 12276, '왕성': 12277, '페스티벌': 12278, '술잔치': 12279, '상할까': 12280, '수목장': 12281, '한량': 12282, '담합': 12283, '유비무환': 12284, '내편은': 12285, '아녔': 12286, '변': 12287, '버려야': 12288, '동떨어졌': 12289, '시킨다고': 12290, '국회의원': 12291, '숨소리': 12292, '희미': 12293, '연구원': 12294, '경악': 12295, '금치': 12296, '이날': 12297, '급변': 12298, '황달': 12299, '친해졌으면': 12300, '염소': 12301, '이러실': 12302, '운증': 12303, '후군': 12304, '뱄': 12305, '걸려온': 12306, '검정고시': 12307, '얌체': 12308, '주주': 12309, '입혔': 12310, '두드렸': 12311, '목감기': 12312, '내려온': 12313, '법인': 12314, '마신다는': 12315, '새된': 12316, '공용': 12317, '미뤄볼': 12318, '호실': 12319, '둔다고': 12320, '내려지': 12321, '점퍼': 12322, '거용': 12323, '불길': 12324, '외침': 12325, '지울': 12326, '상여': 12327, '면전': 12328, '쥐어뜯': 12329, '말린다고': 12330, '현미밥': 12331, '체조': 12332, '우릴': 12333, '백내장': 12334, '풍년': 12335, '수확량': 12336, '따른': 12337, '결벽증': 12338, '생긴다면': 12339, '강하': 12340, '의탁': 12341, '쌓았': 12342, '모자르': 12343, '우셔': 12344, '달랬': 12345, '냉기': 12346, '다간': 12347, '풀어놓': 12348, '싫증': 12349, '양옆': 12350, '비워져': 12351, '내민': 12352, '지게': 12353, '품위': 12354, '걸러': 12355, '엎드렸': 12356, '숙지': 12357, '문상': 12358, '의해': 12359, '체류': 12360, '데스크': 12361, '가려워서': 12362, '딸리': 12363, '혈연': 12364, '김숙': 12365, '반값': 12366, '인명': 12367, '재천': 12368, '순리': 12369, '주군': 12370, '친부': 12371, '캥거루': 12372, '환승역': 12373, '단층': 12374, '비싼데': 12375, '무당': 12376, '격': 12377, '밝혀질': 12378, '누님': 12379, '못생기': 12380, '날카로워져': 12381, '혐오감': 12382, '버네': 12383, '뭐한': 12384, '외랑': 12385, '기울었': 12386, '어려운가': 12387, '지어': 12388, '일궈왔': 12389, '어려울지': 12390, '는다던데': 12391, '강력': 12392, '계비': 12393, '대대로': 12394, '벽지': 12395, '마음고생': 12396, '차이점': 12397, '영재': 12398, '어두워져': 12399, '뿌옇': 12400, '란다': 12401, '습니다': 12402, '보여질까': 12403, '저럴': 12404, '아니면': 12405, '부결': 12406, '허겁지겁': 12407, '달릴': 12408, '지겨워서': 12409, '난단': 12410, '헛디뎠': 12411, '내팽개쳐진': 12412, '이구동성': 12413, '한의원': 12414, '모녀': 12415, '투고': 12416, '쌀쌀': 12417, '법정': 12418, '슬럼프': 12419, '빠졌었': 12420, '눈살': 12421, '찌푸려': 12422, '마약': 12423, '달치': 12424, '간직': 12425, '패물': 12426, '악감': 12427, '정이': 12428, '차가워진': 12429, '쳐다본다고': 12430, '옮긴다': 12431, '비키': 12432, '북한산': 12433, '커뮤니케이션': 12434, '자장면': 12435, '사귈지': 12436, '빠져나왔': 12437, '본지': 12438, '골라서': 12439, '길길이': 12440, '날뛰': 12441, '혹여나': 12442, '효심': 12443, '지극': 12444, '빠른지': 12445, '내놔도': 12446, '후회막심': 12447, '일당': 12448, '구청': 12449, '월드컵': 12450, '클래식': 12451, '초연': 12452, '당구장': 12453, '이판사판': 12454, '의임': 12455, '밝혔': 12456, '유대감': 12457, '고위': 12458, '공직자': 12459, '그림일기': 12460, '그려져': 12461, '무뎌': 12462, '둘러싸여서': 12463, '느닷없이': 12464, '들이닥치': 12465, '으므로': 12466, '건만': 12467, '쓰러졌었': 12468, '사셔야': 12469, '여차저차': 12470, '덮어씌우': 12471, '물러날': 12472, '벼랑': 12473, '몰린': 12474, '간이식': 12475, '낯빛': 12476, '뒤집어씌워서': 12477, '연쇄': 12478, '살인범': 12479, '손등': 12480, '면했': 12481, '서빙': 12482, '경로': 12483, '베푸': 12484}\n"
          ]
        }
      ],
      "source": [
        "tokenizer = Tokenizer()\n",
        "tokenizer.fit_on_texts(X_train)\n",
        "print(tokenizer.word_index)"
      ]
    },
    {
      "cell_type": "code",
      "execution_count": 36,
      "metadata": {
        "id": "gxEnpvVMpcUJ",
        "colab": {
          "base_uri": "https://localhost:8080/"
        },
        "outputId": "4a6b91e5-8723-44a9-b1d3-5251002ad4a6"
      },
      "outputs": [
        {
          "output_type": "stream",
          "name": "stdout",
          "text": [
            "전체 단어 수:  12484\n",
            "빈도가 2 이하인 희귀 단어 수: 6270\n",
            "희귀 단어 비율: 50.224287087471964\n",
            "희귀 단어 등장 빈도 비율: 1.5978975965490934\n"
          ]
        }
      ],
      "source": [
        "threshold = 3\n",
        "words_cnt = len(tokenizer.word_index)\n",
        "rare_cnt = 0\n",
        "words_freq = 0\n",
        "rare_freq = 0\n",
        "\n",
        "for key, value in tokenizer.word_counts.items():\n",
        "  words_freq = words_freq + value\n",
        "\n",
        "  if value < threshold:\n",
        "    rare_cnt += 1\n",
        "    rare_freq = rare_freq + value\n",
        "\n",
        "print(\"전체 단어 수: \", words_cnt)\n",
        "print(\"빈도가 {} 이하인 희귀 단어 수: {}\".format(threshold-1, rare_cnt))\n",
        "print(\"희귀 단어 비율: {}\".format((rare_cnt / words_cnt)*100))\n",
        "print(\"희귀 단어 등장 빈도 비율: {}\".format((rare_freq / words_freq)*100))"
      ]
    },
    {
      "cell_type": "code",
      "execution_count": 37,
      "metadata": {
        "id": "YzYll-japerK",
        "colab": {
          "base_uri": "https://localhost:8080/"
        },
        "outputId": "f5d2a033-051d-47cf-9a3d-50f7770dadc8"
      },
      "outputs": [
        {
          "output_type": "stream",
          "name": "stdout",
          "text": [
            "6216\n"
          ]
        }
      ],
      "source": [
        "vocab_size = words_cnt-rare_cnt+2\n",
        "print(vocab_size)"
      ]
    },
    {
      "cell_type": "code",
      "execution_count": 38,
      "metadata": {
        "id": "mVbi_UespgJf"
      },
      "outputs": [],
      "source": [
        "tokenizer = Tokenizer(vocab_size, oov_token='OOV')\n",
        "tokenizer.fit_on_texts(X_train)\n",
        "X_train = tokenizer.texts_to_sequences(X_train)\n",
        "X_test = tokenizer.texts_to_sequences(X_test)"
      ]
    },
    {
      "cell_type": "code",
      "execution_count": 39,
      "metadata": {
        "id": "9jxtlrwLHU00"
      },
      "outputs": [],
      "source": [
        "y_train = np.array(train_data['label'])\n",
        "y_test = np.array(test_data['label'])"
      ]
    },
    {
      "cell_type": "code",
      "execution_count": 43,
      "metadata": {
        "id": "5b0DH7_Kpkrp",
        "colab": {
          "base_uri": "https://localhost:8080/"
        },
        "outputId": "7981af58-b2cc-40dd-e586-63d49551339e",
        "collapsed": true
      },
      "outputs": [
        {
          "output_type": "stream",
          "name": "stdout",
          "text": [
            "39314\n",
            "39314\n"
          ]
        }
      ],
      "source": [
        "drop_train = [index for index, sentence in enumerate(X_train) if len(sentence) < 1]\n",
        "\n",
        "X_train = np.array(X_train, dtype=object)\n",
        "X_train = np.delete(X_train, drop_train, axis=0)\n",
        "y_train = np.delete(y_train, drop_train, axis=0)\n",
        "\n",
        "print(len(X_train))\n",
        "print(len(y_train))"
      ]
    },
    {
      "cell_type": "markdown",
      "metadata": {
        "id": "eLi6EFJNiaJX"
      },
      "source": [
        "## 패딩"
      ]
    },
    {
      "cell_type": "code",
      "execution_count": 44,
      "metadata": {
        "id": "CH6nqnKlibT4",
        "colab": {
          "base_uri": "https://localhost:8080/"
        },
        "outputId": "852cc3c9-5144-4a23-b615-f87edc46f31e"
      },
      "outputs": [
        {
          "output_type": "stream",
          "name": "stdout",
          "text": [
            "Text 최대 길이:  64\n",
            "Text 평균 길이:  12.901994200539248\n"
          ]
        }
      ],
      "source": [
        "print('Text 최대 길이: ', max(len(l) for l in X_train))\n",
        "print('Text 평균 길이: ', sum(map(len, X_train))/len(X_train))"
      ]
    },
    {
      "cell_type": "code",
      "execution_count": 45,
      "metadata": {
        "id": "gwc16VzEitpl",
        "colab": {
          "base_uri": "https://localhost:8080/",
          "height": 445
        },
        "outputId": "f9765e6f-93ac-4f71-8429-88c945c37378"
      },
      "outputs": [
        {
          "output_type": "display_data",
          "data": {
            "text/plain": [
              "<Figure size 640x480 with 1 Axes>"
            ],
            "image/png": "[encoded data removed]"
          },
          "metadata": {}
        }
      ],
      "source": [
        "plt.hist([len(s) for s in X_train], bins=50)\n",
        "plt.xlabel('Length of Samples')\n",
        "plt.ylabel('Number of Samples')\n",
        "plt.show()"
      ]
    },
    {
      "cell_type": "code",
      "execution_count": 46,
      "metadata": {
        "id": "RjuihjpNjDs-"
      },
      "outputs": [],
      "source": [
        "max_len = 25"
      ]
    },
    {
      "cell_type": "code",
      "execution_count": 47,
      "metadata": {
        "id": "3w_bdNGfjFtx"
      },
      "outputs": [],
      "source": [
        "X_train = pad_sequences(X_train, maxlen=max_len)\n",
        "X_test = pad_sequences(X_test, maxlen=max_len)"
      ]
    },
    {
      "cell_type": "markdown",
      "metadata": {
        "id": "10ntvd_6-3-c"
      },
      "source": [
        "## 모델 학습"
      ]
    },
    {
      "cell_type": "code",
      "execution_count": 48,
      "metadata": {
        "id": "-omkCOMspr5L"
      },
      "outputs": [],
      "source": [
        "from tensorflow.keras.models import Sequential, load_model\n",
        "from tensorflow.keras.layers import Embedding, Dense, GRU\n",
        "from tensorflow.keras.callbacks import EarlyStopping, ModelCheckpoint"
      ]
    },
    {
      "cell_type": "code",
      "execution_count": 49,
      "metadata": {
        "id": "rXSmjqXGptdg"
      },
      "outputs": [],
      "source": [
        "model = Sequential()\n",
        "model.add(Embedding(vocab_size, 100))\n",
        "model.add(GRU(128))\n",
        "model.add(Dense(1, activation='relu'))"
      ]
    },
    {
      "cell_type": "code",
      "execution_count": 79,
      "metadata": {
        "id": "U2gPW8HbpudL"
      },
      "outputs": [],
      "source": [
        "es = EarlyStopping(monitor='val_loss', mode='min', verbose=1, patience=4)\n",
        "mc = ModelCheckpoint('best_model.keras', monitor='val_acc',mode='max', verbose=1,save_best_only=True)"
      ]
    },
    {
      "cell_type": "code",
      "execution_count": 80,
      "metadata": {
        "id": "BFl7GKMBbagV",
        "colab": {
          "base_uri": "https://localhost:8080/"
        },
        "outputId": "ffec9747-3d67-4933-f884-fc1e2dcb0b1f"
      },
      "outputs": [
        {
          "output_type": "stream",
          "name": "stdout",
          "text": [
            "Epoch 1/10\n",
            "\u001b[1m524/525\u001b[0m \u001b[32m━━━━━━━━━━━━━━━━━━━\u001b[0m\u001b[37m━\u001b[0m \u001b[1m0s\u001b[0m 7ms/step - acc: 0.7673 - loss: 0.3149\n",
            "Epoch 1: val_acc improved from -inf to 0.71843, saving model to best_model.keras\n",
            "\u001b[1m525/525\u001b[0m \u001b[32m━━━━━━━━━━━━━━━━━━━━\u001b[0m\u001b[37m\u001b[0m \u001b[1m6s\u001b[0m 9ms/step - acc: 0.7673 - loss: 0.3149 - val_acc: 0.7184 - val_loss: 0.6749\n",
            "Epoch 2/10\n",
            "\u001b[1m524/525\u001b[0m \u001b[32m━━━━━━━━━━━━━━━━━━━\u001b[0m\u001b[37m━\u001b[0m \u001b[1m0s\u001b[0m 6ms/step - acc: 0.7684 - loss: 0.3150\n",
            "Epoch 2: val_acc improved from 0.71843 to 0.72606, saving model to best_model.keras\n",
            "\u001b[1m525/525\u001b[0m \u001b[32m━━━━━━━━━━━━━━━━━━━━\u001b[0m\u001b[37m\u001b[0m \u001b[1m4s\u001b[0m 7ms/step - acc: 0.7684 - loss: 0.3150 - val_acc: 0.7261 - val_loss: 0.6149\n",
            "Epoch 3/10\n",
            "\u001b[1m524/525\u001b[0m \u001b[32m━━━━━━━━━━━━━━━━━━━\u001b[0m\u001b[37m━\u001b[0m \u001b[1m0s\u001b[0m 5ms/step - acc: 0.7676 - loss: 0.3198\n",
            "Epoch 3: val_acc did not improve from 0.72606\n",
            "\u001b[1m525/525\u001b[0m \u001b[32m━━━━━━━━━━━━━━━━━━━━\u001b[0m\u001b[37m\u001b[0m \u001b[1m3s\u001b[0m 5ms/step - acc: 0.7676 - loss: 0.3198 - val_acc: 0.7211 - val_loss: 0.5837\n",
            "Epoch 4/10\n",
            "\u001b[1m517/525\u001b[0m \u001b[32m━━━━━━━━━━━━━━━━━━━\u001b[0m\u001b[37m━\u001b[0m \u001b[1m0s\u001b[0m 7ms/step - acc: 0.7682 - loss: 0.3120\n",
            "Epoch 4: val_acc did not improve from 0.72606\n",
            "\u001b[1m525/525\u001b[0m \u001b[32m━━━━━━━━━━━━━━━━━━━━\u001b[0m\u001b[37m\u001b[0m \u001b[1m6s\u001b[0m 8ms/step - acc: 0.7682 - loss: 0.3121 - val_acc: 0.7250 - val_loss: 0.8242\n",
            "Epoch 5/10\n",
            "\u001b[1m519/525\u001b[0m \u001b[32m━━━━━━━━━━━━━━━━━━━\u001b[0m\u001b[37m━\u001b[0m \u001b[1m0s\u001b[0m 5ms/step - acc: 0.7675 - loss: 0.3244\n",
            "Epoch 5: val_acc did not improve from 0.72606\n",
            "\u001b[1m525/525\u001b[0m \u001b[32m━━━━━━━━━━━━━━━━━━━━\u001b[0m\u001b[37m\u001b[0m \u001b[1m3s\u001b[0m 6ms/step - acc: 0.7676 - loss: 0.3243 - val_acc: 0.7191 - val_loss: 0.7311\n",
            "Epoch 6/10\n",
            "\u001b[1m516/525\u001b[0m \u001b[32m━━━━━━━━━━━━━━━━━━━\u001b[0m\u001b[37m━\u001b[0m \u001b[1m0s\u001b[0m 5ms/step - acc: 0.7696 - loss: 0.3163\n",
            "Epoch 6: val_acc did not improve from 0.72606\n",
            "\u001b[1m525/525\u001b[0m \u001b[32m━━━━━━━━━━━━━━━━━━━━\u001b[0m\u001b[37m\u001b[0m \u001b[1m5s\u001b[0m 6ms/step - acc: 0.7696 - loss: 0.3163 - val_acc: 0.7164 - val_loss: 0.7306\n",
            "Epoch 7/10\n",
            "\u001b[1m524/525\u001b[0m \u001b[32m━━━━━━━━━━━━━━━━━━━\u001b[0m\u001b[37m━\u001b[0m \u001b[1m0s\u001b[0m 6ms/step - acc: 0.7748 - loss: 0.3032\n",
            "Epoch 7: val_acc did not improve from 0.72606\n",
            "\u001b[1m525/525\u001b[0m \u001b[32m━━━━━━━━━━━━━━━━━━━━\u001b[0m\u001b[37m\u001b[0m \u001b[1m5s\u001b[0m 7ms/step - acc: 0.7748 - loss: 0.3032 - val_acc: 0.7090 - val_loss: 0.8089\n",
            "Epoch 7: early stopping\n"
          ]
        }
      ],
      "source": [
        "model.compile(optimizer='rmsprop', loss='binary_crossentropy',metrics=['acc'])\n",
        "history = model.fit(X_train, y_train, epochs=10, callbacks=[es,mc], batch_size=60, validation_split=0.2)"
      ]
    },
    {
      "cell_type": "code",
      "execution_count": 81,
      "metadata": {
        "id": "oZfU39MzcgqP",
        "colab": {
          "base_uri": "https://localhost:8080/"
        },
        "outputId": "dd49260d-f217-4b28-d976-53e600b15b86"
      },
      "outputs": [
        {
          "output_type": "stream",
          "name": "stdout",
          "text": [
            "\u001b[1m160/160\u001b[0m \u001b[32m━━━━━━━━━━━━━━━━━━━━\u001b[0m\u001b[37m\u001b[0m \u001b[1m1s\u001b[0m 3ms/step - acc: 0.7102 - loss: 0.6051\n"
          ]
        },
        {
          "output_type": "execute_result",
          "data": {
            "text/plain": [
              "[0.5932593941688538, 0.712913990020752]"
            ]
          },
          "metadata": {},
          "execution_count": 81
        }
      ],
      "source": [
        "loaded_model=load_model('best_model.keras')\n",
        "loaded_model.evaluate(X_test, y_test)"
      ]
    },
    {
      "cell_type": "code",
      "execution_count": 83,
      "metadata": {
        "id": "z3DiNmrX46Tg",
        "colab": {
          "base_uri": "https://localhost:8080/",
          "height": 833
        },
        "outputId": "d5ae0397-c4b1-48d1-b566-d2b85cea70e8"
      },
      "outputs": [
        {
          "output_type": "display_data",
          "data": {
            "text/plain": [
              "<Figure size 640x480 with 1 Axes>"
            ],
            "image/png": "[encoded data removed]"
          },
          "metadata": {}
        },
        {
          "output_type": "display_data",
          "data": {
            "text/plain": [
              "<Figure size 640x480 with 1 Axes>"
            ],
            "image/png": "[encoded data removed]"
          },
          "metadata": {}
        }
      ],
      "source": [
        "hist_dict = history.history\n",
        "loss = hist_dict['loss']\n",
        "val_loss = hist_dict['val_loss']\n",
        "acc = hist_dict['acc']\n",
        "val_acc = hist_dict['val_acc']\n",
        "\n",
        "plt.plot(loss, 'b--', label='training loss')\n",
        "plt.plot(val_loss, 'r:', label='validation loss')\n",
        "plt.legend()\n",
        "plt.grid()\n",
        "\n",
        "plt.figure()\n",
        "plt.plot(acc, 'b--', label='training accuracy')\n",
        "plt.plot(val_acc, 'r:', label='validation accuracy')\n",
        "plt.legend()\n",
        "plt.grid()\n",
        "\n",
        "plt.show()"
      ]
    },
    {
      "cell_type": "markdown",
      "metadata": {
        "id": "meMLxWOsnPLq"
      },
      "source": [
        "#감정예측"
      ]
    },
    {
      "cell_type": "code",
      "execution_count": 84,
      "metadata": {
        "id": "mPlB5S_TnQoD"
      },
      "outputs": [],
      "source": [
        "def sentiment_predict(new_sentence):\n",
        "  new_token = [word for word in mecab.morphs(new_sentence) if not word in stopwords]\n",
        "  new_sequences = tokenizer.texts_to_sequences([new_token])\n",
        "  new_pad = pad_sequences(new_sequences, maxlen = max_len)\n",
        "  score = float(loaded_model.predict(new_pad))\n",
        "\n",
        "  if score > 0.7:\n",
        "    print(\"{} -> 긍정({:.2f}%)\".format(new_sentence, score*100))\n",
        "  elif score < 0.3:\n",
        "    print(\"{} -> 부정({:.2f}%)\".format(new_sentence, (1-score)*100))\n",
        "  else :\n",
        "    print(\"{} -> 중립({:.2f}%)\".format(new_sentence, (1-score)*100))\n",
        ""
      ]
    },
    {
      "cell_type": "code",
      "execution_count": 85,
      "metadata": {
        "id": "E2vtVB3DnSLS",
        "colab": {
          "base_uri": "https://localhost:8080/"
        },
        "outputId": "b91e8813-9df7-45e8-896c-27b1e801bcb6"
      },
      "outputs": [
        {
          "output_type": "stream",
          "name": "stdout",
          "text": [
            "\u001b[1m1/1\u001b[0m \u001b[32m━━━━━━━━━━━━━━━━━━━━\u001b[0m\u001b[37m\u001b[0m \u001b[1m0s\u001b[0m 91ms/step\n",
            "나는 과일을 좋아해 -> 긍정(70.97%)\n",
            "\u001b[1m1/1\u001b[0m \u001b[32m━━━━━━━━━━━━━━━━━━━━\u001b[0m\u001b[37m\u001b[0m \u001b[1m0s\u001b[0m 17ms/step\n",
            "엄마가 결국 집을 나갔어. 너무 너무 슬퍼. -> 부정(99.38%)\n",
            "\u001b[1m1/1\u001b[0m \u001b[32m━━━━━━━━━━━━━━━━━━━━\u001b[0m\u001b[37m\u001b[0m \u001b[1m0s\u001b[0m 15ms/step\n",
            "좋아하는 선배에게 어제 고백을 받았어! -> 긍정(79.75%)\n",
            "\u001b[1m1/1\u001b[0m \u001b[32m━━━━━━━━━━━━━━━━━━━━\u001b[0m\u001b[37m\u001b[0m \u001b[1m0s\u001b[0m 15ms/step\n",
            "오늘 반장 선거에서 내가 반장이 됐어! 친구들이 날 믿어줘서 너무 고맙다. -> 긍정(107.75%)\n"
          ]
        },
        {
          "output_type": "stream",
          "name": "stderr",
          "text": [
            "<ipython-input-84-45a138c24d2e>:5: DeprecationWarning: Conversion of an array with ndim > 0 to a scalar is deprecated, and will error in future. Ensure you extract a single element from your array before performing this operation. (Deprecated NumPy 1.25.)\n",
            "  score = float(loaded_model.predict(new_pad))\n"
          ]
        }
      ],
      "source": [
        "sentiment_predict('나는 과일을 좋아해')\n",
        "sentiment_predict('엄마가 결국 집을 나갔어. 너무 너무 슬퍼.')\n",
        "sentiment_predict('좋아하는 선배에게 어제 고백을 받았어!')\n",
        "sentiment_predict('오늘 반장 선거에서 내가 반장이 됐어! 친구들이 날 믿어줘서 너무 고맙다.')"
      ]
    }
  ],
  "metadata": {
    "colab": {
      "provenance": []
    },
    "kernelspec": {
      "display_name": "Python 3",
      "name": "python3"
    },
    "language_info": {
      "name": "python"
    },
    "accelerator": "GPU"
  },
  "nbformat": 4,
  "nbformat_minor": 0
}